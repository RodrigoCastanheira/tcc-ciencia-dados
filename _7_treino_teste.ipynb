{
 "cells": [
  {
   "cell_type": "code",
   "execution_count": 2,
   "id": "4ec0bde8",
   "metadata": {},
   "outputs": [],
   "source": [
    "# OBJETIVO:\n",
    "# Criar os datasets \"treino\" e \"teste\" a partir do dataset \"corpus\" gerado pelo notebook _4_tratamento."
   ]
  },
  {
   "cell_type": "code",
   "execution_count": 1,
   "id": "b004be13",
   "metadata": {},
   "outputs": [],
   "source": [
    "import numpy as np\n",
    "import pandas as pd"
   ]
  },
  {
   "cell_type": "code",
   "execution_count": 2,
   "id": "57455706",
   "metadata": {},
   "outputs": [
    {
     "name": "stdout",
     "output_type": "stream",
     "text": [
      "<class 'pandas.core.frame.DataFrame'>\n",
      "RangeIndex: 36264 entries, 0 to 36263\n",
      "Data columns (total 3 columns):\n",
      " #   Column          Non-Null Count  Dtype \n",
      "---  ------          --------------  ----- \n",
      " 0   Acordao         36264 non-null  object\n",
      " 1   SumulaDerivada  36264 non-null  int64 \n",
      " 2   Documento       36264 non-null  object\n",
      "dtypes: int64(1), object(2)\n",
      "memory usage: 850.1+ KB\n"
     ]
    }
   ],
   "source": [
    "# carrega o dataset \"corpus\" criado no notebook _4_tratamento\n",
    "corpus = pd.read_csv('datasets/corpus.csv')\n",
    "corpus.info()"
   ]
  },
  {
   "cell_type": "code",
   "execution_count": 16,
   "id": "121f3997",
   "metadata": {},
   "outputs": [
    {
     "name": "stdout",
     "output_type": "stream",
     "text": [
      "Registros do conjunto de treinamento: 35863\n"
     ]
    }
   ],
   "source": [
    "# o dataset de treinamento será composto pelos acórdãos que não são precedentes de súmula\n",
    "treino = corpus[~corpus['SumulaDerivada'].astype(bool)]\n",
    "print('Registros do conjunto de treinamento:', len(treino))"
   ]
  },
  {
   "cell_type": "code",
   "execution_count": 3,
   "id": "91fb545a",
   "metadata": {},
   "outputs": [
    {
     "name": "stdout",
     "output_type": "stream",
     "text": [
      "Registros do conjunto de teste: 102\n",
      "Súmulas representadas no conjunto de teste: 17\n"
     ]
    }
   ],
   "source": [
    "# função para obter as linhas do corpus que contêm precedente de determinada súmula\n",
    "def get_precedentes(num_sumula):\n",
    "    return corpus.loc[[num == num_sumula for num in corpus['SumulaDerivada']]]\n",
    "\n",
    "# o dataset de teste será composto pelos precedentes das súmulas que possuem 6 precedentes\n",
    "teste = pd.DataFrame()\n",
    "for num_sumula in range(1, 162, 1): # a última vigente é a de nº 161\n",
    "    precs = get_precedentes(num_sumula)\n",
    "    n = len(precs) # número de precedentes da súmula\n",
    "    if n == 6:\n",
    "        teste = teste.append(precs)\n",
    "                \n",
    "print('Registros do conjunto de teste:', len(teste))\n",
    "print('Súmulas representadas no conjunto de teste:',\n",
    "      len(set([num for num in teste['SumulaDerivada']])))"
   ]
  },
  {
   "cell_type": "code",
   "execution_count": 4,
   "id": "ef70618b",
   "metadata": {},
   "outputs": [],
   "source": [
    "# exporta os datasets\n",
    "treino.to_csv('datasets/treino.csv', index=False)\n",
    "teste.to_csv('datasets/teste.csv', index=False)"
   ]
  }
 ],
 "metadata": {
  "kernelspec": {
   "display_name": "Python 3",
   "language": "python",
   "name": "python3"
  },
  "language_info": {
   "codemirror_mode": {
    "name": "ipython",
    "version": 3
   },
   "file_extension": ".py",
   "mimetype": "text/x-python",
   "name": "python",
   "nbconvert_exporter": "python",
   "pygments_lexer": "ipython3",
   "version": "3.8.8"
  }
 },
 "nbformat": 4,
 "nbformat_minor": 5
}
