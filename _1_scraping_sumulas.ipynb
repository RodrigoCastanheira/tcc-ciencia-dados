{
 "cells": [
  {
   "cell_type": "code",
   "execution_count": 1,
   "id": "3426019e",
   "metadata": {},
   "outputs": [],
   "source": [
    "# OBJETIVO:\n",
    "# Obter do sítio do CARF a relação de súmulas aprovadas e vigentes,\n",
    "# seu enunciado e respectivos números de acórdãos precedentes."
   ]
  },
  {
   "cell_type": "code",
   "execution_count": 1,
   "id": "747f930d",
   "metadata": {},
   "outputs": [],
   "source": [
    "#!pip install beautifulsoup4\n",
    "import pandas as pd\n",
    "import re\n",
    "import requests\n",
    "import warnings\n",
    "from bs4 import BeautifulSoup\n",
    "from importlib.metadata import version"
   ]
  },
  {
   "cell_type": "code",
   "execution_count": 2,
   "id": "90d6c41b",
   "metadata": {},
   "outputs": [
    {
     "data": {
      "text/plain": [
       "'4.9.3'"
      ]
     },
     "execution_count": 2,
     "metadata": {},
     "output_type": "execute_result"
    }
   ],
   "source": [
    "version('beautifulsoup4')"
   ]
  },
  {
   "cell_type": "code",
   "execution_count": 3,
   "id": "d66f417e",
   "metadata": {},
   "outputs": [
    {
     "name": "stdout",
     "output_type": "stream",
     "text": [
      "Súmula revogada: nº 39\n",
      "Súmula revogada: nº 47\n",
      "Súmula revogada: nº 98\n",
      "Total de súmulas extraídas: 158\n"
     ]
    }
   ],
   "source": [
    "# obtém a página \"Quadro Geral de Súmulas\" do menu esquerdo \"Jurisprudência\", \"Súmulas CARF\"\n",
    "with warnings.catch_warnings():\n",
    "    # suprime o warning gerado pelo parâmetro 'verify=False' em 'requests.get'\n",
    "    warnings.simplefilter('ignore')\n",
    "    url = 'https://carf.economia.gov.br/jurisprudencia/sumulas-carf/quadro-geral-de-sumulas-1'\n",
    "    response = requests.get(url, verify=False)\n",
    "\n",
    "# faz o parsing do HTML\n",
    "soup = BeautifulSoup(response.text, 'html.parser')\n",
    "\n",
    "# regex para número de súmula, p. ex., \"Súmula CARF nº 107\"\n",
    "re_num = re.compile(r'(\\d+)')\n",
    "# regex para súmula revogada, p. ex., \"(Súmula revogada pela Portaria CARF nº 3, de 09/01/2018)\"\n",
    "re_rev = re.compile(r'(?i)Súmula revogada')\n",
    "# regex para números de acórdãos precedentes, p. ex., \"101-95.433, de 22/03/2006; 101-95.938, de 24/01/2007\"\n",
    "re_aco = re.compile(r'(\\d+\\-\\d+\\.?\\d*)')\n",
    "\n",
    "# obtém todas as tags <p> contendo \"Súmula CARF\"\n",
    "p_sumulas = soup.find_all('p', text=re.compile(r'Súmula CARF'))\n",
    "# dicionário a ser posteriormente convertido em DataFrame\n",
    "# (mais eficiente do que ir apensando a um DataFrame)\n",
    "sumulas = dict()\n",
    "for index, p_sumula in enumerate(p_sumulas):\n",
    "    num_sumula = int(re.search(re_num, p_sumula.text).group(1))\n",
    "    # próxima tag <p> contém o enunciado\n",
    "    p_enunciado = p_sumula.find_next_sibling('p')\n",
    "    # ignora súmula revogada\n",
    "    if re_rev.search(p_enunciado.text):\n",
    "        print('Súmula revogada: nº', num_sumula)\n",
    "        continue\n",
    "    # próxima tag <p> contém o título \"Acórdãos Precedentes\"\n",
    "    p_precedentes = p_enunciado.find_next_sibling('p')\n",
    "    # próxima tag <p> contém os acórdãos precedentes propriamente ditos\n",
    "    p_acordaos = p_precedentes.find_next_sibling('p')\n",
    "    # constrói o dicionário {index : [num_sumula, enunciado, \"num_acordao num_acordao num_acordao ...\"]}\n",
    "    sumulas[index] = [num_sumula, p_enunciado.text, ' '.join(re_aco.findall(p_acordaos.text))]\n",
    "\n",
    "print('Total de súmulas extraídas:', len(sumulas))"
   ]
  },
  {
   "cell_type": "code",
   "execution_count": 4,
   "id": "98b56e9e",
   "metadata": {},
   "outputs": [
    {
     "name": "stdout",
     "output_type": "stream",
     "text": [
      "<class 'pandas.core.frame.DataFrame'>\n",
      "Int64Index: 158 entries, 0 to 160\n",
      "Data columns (total 3 columns):\n",
      " #   Column       Non-Null Count  Dtype \n",
      "---  ------       --------------  ----- \n",
      " 0   Sumula       158 non-null    int64 \n",
      " 1   Enunciado    158 non-null    object\n",
      " 2   Precedentes  158 non-null    object\n",
      "dtypes: int64(1), object(2)\n",
      "memory usage: 4.9+ KB\n"
     ]
    },
    {
     "data": {
      "text/html": [
       "<div>\n",
       "<style scoped>\n",
       "    .dataframe tbody tr th:only-of-type {\n",
       "        vertical-align: middle;\n",
       "    }\n",
       "\n",
       "    .dataframe tbody tr th {\n",
       "        vertical-align: top;\n",
       "    }\n",
       "\n",
       "    .dataframe thead th {\n",
       "        text-align: right;\n",
       "    }\n",
       "</style>\n",
       "<table border=\"1\" class=\"dataframe\">\n",
       "  <thead>\n",
       "    <tr style=\"text-align: right;\">\n",
       "      <th></th>\n",
       "      <th>Sumula</th>\n",
       "      <th>Enunciado</th>\n",
       "      <th>Precedentes</th>\n",
       "    </tr>\n",
       "  </thead>\n",
       "  <tbody>\n",
       "    <tr>\n",
       "      <th>112</th>\n",
       "      <td>113</td>\n",
       "      <td>A responsabilidade tributária do sucessor abra...</td>\n",
       "      <td>2401-004.795 3401-003.096 9101-002.212 9101-00...</td>\n",
       "    </tr>\n",
       "  </tbody>\n",
       "</table>\n",
       "</div>"
      ],
      "text/plain": [
       "     Sumula                                          Enunciado  \\\n",
       "112     113  A responsabilidade tributária do sucessor abra...   \n",
       "\n",
       "                                           Precedentes  \n",
       "112  2401-004.795 3401-003.096 9101-002.212 9101-00...  "
      ]
     },
     "execution_count": 4,
     "metadata": {},
     "output_type": "execute_result"
    }
   ],
   "source": [
    "# converte em DataFrame e exporta\n",
    "df = pd.DataFrame.from_dict(sumulas, orient='index', columns=(\"Sumula\", \"Enunciado\", \"Precedentes\"))\n",
    "df.to_csv('datasets/sumulas.csv', index=False)\n",
    "df.info()\n",
    "df.sample()"
   ]
  }
 ],
 "metadata": {
  "kernelspec": {
   "display_name": "Python 3",
   "language": "python",
   "name": "python3"
  },
  "language_info": {
   "codemirror_mode": {
    "name": "ipython",
    "version": 3
   },
   "file_extension": ".py",
   "mimetype": "text/x-python",
   "name": "python",
   "nbconvert_exporter": "python",
   "pygments_lexer": "ipython3",
   "version": "3.8.8"
  }
 },
 "nbformat": 4,
 "nbformat_minor": 5
}
