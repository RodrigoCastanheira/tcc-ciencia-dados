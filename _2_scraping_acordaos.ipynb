{
 "cells": [
  {
   "cell_type": "code",
   "execution_count": 1,
   "id": "f8b33756",
   "metadata": {},
   "outputs": [],
   "source": [
    "# OBJETIVO:\n",
    "# Dado um número de acórdão precedente de súmula, originado do dataset \"sumulas\" criado\n",
    "# pelo notebook _1_scraping_sumulas, baixar o respectivo arquivo PDF do sítio do CARF."
   ]
  },
  {
   "cell_type": "code",
   "execution_count": 1,
   "id": "d2ff625f",
   "metadata": {},
   "outputs": [],
   "source": [
    "#!pip install beautifulsoup4\n",
    "import os\n",
    "import pandas as pd\n",
    "import re\n",
    "import requests\n",
    "import sys\n",
    "import traceback\n",
    "import warnings\n",
    "from bs4 import BeautifulSoup\n",
    "from importlib.metadata import version"
   ]
  },
  {
   "cell_type": "code",
   "execution_count": 2,
   "id": "3079ae45",
   "metadata": {},
   "outputs": [
    {
     "data": {
      "text/plain": [
       "'4.9.3'"
      ]
     },
     "execution_count": 2,
     "metadata": {},
     "output_type": "execute_result"
    }
   ],
   "source": [
    "version('beautifulsoup4')"
   ]
  },
  {
   "cell_type": "code",
   "execution_count": 3,
   "id": "4349ee10",
   "metadata": {},
   "outputs": [
    {
     "name": "stdout",
     "output_type": "stream",
     "text": [
      "<class 'pandas.core.frame.DataFrame'>\n",
      "RangeIndex: 158 entries, 0 to 157\n",
      "Data columns (total 3 columns):\n",
      " #   Column       Non-Null Count  Dtype \n",
      "---  ------       --------------  ----- \n",
      " 0   Sumula       158 non-null    int64 \n",
      " 1   Enunciado    158 non-null    object\n",
      " 2   Precedentes  158 non-null    object\n",
      "dtypes: int64(1), object(2)\n",
      "memory usage: 3.8+ KB\n"
     ]
    }
   ],
   "source": [
    "# carrega o dataset intermediário \"sumulas\" criado pelo notebook \"1-scraping-sumulas\"\n",
    "sumulas = pd.read_csv('datasets/sumulas.csv')\n",
    "sumulas.info()"
   ]
  },
  {
   "cell_type": "code",
   "execution_count": 4,
   "id": "2b09536a",
   "metadata": {},
   "outputs": [
    {
     "name": "stdout",
     "output_type": "stream",
     "text": [
      "Total de precedentes: 1198\n",
      "Precedentes de duas súmulas: 16 {'9303-005293', '195-00008', '106-16727', '9101-002245', '3102-002141', '102-46574', '106-15476', '9101-003376', '105-14173', '108-09286', '1402-00213', '103-21239', '106-17254', '103-21225', '108-09592', '105-16365'}\n",
      "Precedentes de mais de duas súmulas: 0 set()\n",
      "Total de precedentes a baixar: 1182\n"
     ]
    }
   ],
   "source": [
    "# obtém o conjunto de números acórdãos a baixar\n",
    "\n",
    "# a coluna \"Precedentes\" contém números concatenados por espaço,\n",
    "# p. ex., \"3201-000.007 3102-002.198 9303-006.331\"\n",
    "nums = [num for text in sumulas['Precedentes'].values for num in text.split()]\n",
    "print('Total de precedentes:', len(nums))\n",
    "# remove o '.' do número em razão de variações de grafia\n",
    "nums = [text.replace('.', '') for text in nums]\n",
    "# identifica acórdãos precedentes de duas súmulas\n",
    "nums_2_sum = set([num for num in nums if nums.count(num) == 2])\n",
    "print('Precedentes de duas súmulas:', len(nums_2_sum), nums_2_sum)\n",
    "# identifica acórdãos precedentes de mais de duas súmulas\n",
    "nums_mais_2_sum = set([num for num in nums if nums.count(num) > 2])\n",
    "print('Precedentes de mais de duas súmulas:', len(nums_mais_2_sum), nums_mais_2_sum)\n",
    "# remove duplicidades\n",
    "nums = set(nums)\n",
    "print('Total de precedentes a baixar:', len(nums))"
   ]
  },
  {
   "cell_type": "code",
   "execution_count": 5,
   "id": "c7d8c82e",
   "metadata": {},
   "outputs": [],
   "source": [
    "# função para extrair o valor da tag <input>, id=javax.faces.ViewState\n",
    "def get_view_state(resp):\n",
    "    soup = BeautifulSoup(resp.text, 'html.parser')\n",
    "    return soup.select('input[id=\"javax.faces.ViewState\"]')[0]['value']"
   ]
  },
  {
   "cell_type": "code",
   "execution_count": 11,
   "id": "f1695db5",
   "metadata": {},
   "outputs": [],
   "source": [
    "# função para baixar o arquivo PDF de um acórdão, dado seu número\n",
    "def baixa_acordao(num, path_to_pdf):\n",
    "    print('Processando acórdão nº', num)\n",
    "    \n",
    "    # abre a página \"Pesquisa de Acórdãos\" do menu esquerdo \"Jurisprudência\", \"Acórdãos CARF\"\n",
    "    url_base = 'https://carf.fazenda.gov.br/sincon/public/pages/ConsultarJurisprudencia/'\n",
    "    url = url_base + 'consultarJurisprudenciaCarf.jsf'\n",
    "    with warnings.catch_warnings():\n",
    "        # suprime o warning gerado pelo parâmetro 'verify=False' em 'requests.get'\n",
    "        warnings.simplefilter('ignore')\n",
    "        resp = requests.get(url, verify=False)\n",
    "    resp.raise_for_status()\n",
    "    cookies = resp.cookies\n",
    "    \n",
    "    # submete pesquisa por número de acórdão\n",
    "    payload = { 'AJAXREQUEST': '_viewRoot', 'consultaJurisprudenciaForm': 'consultaJurisprudenciaForm',\n",
    "           'campo_pesquisa1':'3', 'valor_pesquisa1': num, 'campo_pesquisa2':'1', 'campo_pesquisa3':'1',\n",
    "           'j_id51': 'j_id51', 'javax.faces.ViewState': get_view_state(resp) }\n",
    "    with warnings.catch_warnings():\n",
    "        warnings.simplefilter('ignore')\n",
    "        resp = requests.post(url, data=payload, cookies=cookies, verify=False)\n",
    "    resp.raise_for_status()\n",
    "    # lança exceção se houver mensagem de erro (nenhum registro) ou mais de um resultado\n",
    "    soup = BeautifulSoup(resp.text, 'html.parser')\n",
    "    if soup.select('dt.mensagem_erro'):\n",
    "        raise ValueError('Nenhum registro encontrado')\n",
    "    else:\n",
    "        span_hits = soup.find_all('span', text=re.compile(r'Acórdãos Encontrados'))[0]\n",
    "        hits = int(span_hits.find_next_sibling('span').text)\n",
    "        if hits > 1:\n",
    "            raise ValueError('Mais de um registro encontrado:', hits)\n",
    "     \n",
    "    # clica o link do número do acórdão\n",
    "    url = url_base + 'listaJurisprudenciaCarf.jsf'\n",
    "    payload = { 'tblJurisprudencia:0:numDecisao': 'tblJurisprudencia:0:numDecisao',\n",
    "           'formAcordaos': 'formAcordaos', 'javax.faces.ViewState': get_view_state(resp) }\n",
    "    with warnings.catch_warnings():\n",
    "        warnings.simplefilter('ignore')\n",
    "        resp = requests.post(url, data=payload, cookies=cookies, verify=False)\n",
    "    resp.raise_for_status()\n",
    "    \n",
    "    # clica o ícone \"Anexos\" ao pé da tabela e faz o download do arquivo PDF\n",
    "    url = url_base + 'listaJurisprudencia.jsf'\n",
    "    soup = BeautifulSoup(resp.text, 'html.parser')\n",
    "    id = soup.select('a[id^=\"formAcordaos:j_id\"]')[0]['id']\n",
    "    payload = { 'formAcordaos': 'formAcordaos', 'formAcordaos:_idcl': id,\n",
    "           'javax.faces.ViewState': get_view_state(resp) }\n",
    "    with warnings.catch_warnings():\n",
    "        warnings.simplefilter('ignore')\n",
    "        resp = requests.post(url, data=payload, cookies=cookies, verify=False)\n",
    "    resp.raise_for_status()\n",
    "    if resp.headers['Content-Type'] != 'application/pdf':\n",
    "        raise ValueError('Resposta inesperada: conteúdo não é um PDF')\n",
    "    # salva o arquivo PDF tendo por nome o número do acórdão\n",
    "    filename = path_to_pdf + num + '.pdf'\n",
    "    with open(filename, 'wb') as f:\n",
    "        f.write(resp.content)  "
   ]
  },
  {
   "cell_type": "code",
   "execution_count": 12,
   "id": "9a477b9a",
   "metadata": {},
   "outputs": [
    {
     "name": "stdout",
     "output_type": "stream",
     "text": [
      "Processando acórdão nº 106-14971\n",
      "Processando acórdão nº 3102-002020\n",
      "Processando acórdão nº 101-95884\n",
      "Processando acórdão nº 302-37892\n",
      "Processando acórdão nº 104-22117\n",
      "Processando acórdão nº 201-73615\n",
      "Processando acórdão nº 1302-000393\n"
     ]
    },
    {
     "name": "stderr",
     "output_type": "stream",
     "text": [
      "Traceback (most recent call last):\n",
      "  File \"<ipython-input-12-ce7f870e485c>\", line 7, in <module>\n",
      "    baixa_acordao(num, path_to_pdf)\n",
      "  File \"<ipython-input-11-cc788343a120>\", line 31, in baixa_acordao\n",
      "    raise ValueError('Mais de um registro encontrado:', hits)\n",
      "ValueError: ('Mais de um registro encontrado:', 2)\n",
      "\n"
     ]
    },
    {
     "name": "stdout",
     "output_type": "stream",
     "text": [
      "Processando acórdão nº 107-09410\n",
      "Processando acórdão nº 104-20812\n",
      "Processando acórdão nº 9101-003387\n",
      "Processando acórdão nº 1401-002833\n",
      "Processando acórdão nº 2402-006646\n",
      "Processando acórdão nº 9101-01037\n",
      "Processando acórdão nº 9303-007880\n",
      "Processando acórdão nº 2801-00239\n"
     ]
    },
    {
     "name": "stderr",
     "output_type": "stream",
     "text": [
      "Traceback (most recent call last):\n",
      "  File \"<ipython-input-12-ce7f870e485c>\", line 7, in <module>\n",
      "    baixa_acordao(num, path_to_pdf)\n",
      "  File \"<ipython-input-11-cc788343a120>\", line 31, in baixa_acordao\n",
      "    raise ValueError('Mais de um registro encontrado:', hits)\n",
      "ValueError: ('Mais de um registro encontrado:', 33)\n",
      "\n"
     ]
    },
    {
     "name": "stdout",
     "output_type": "stream",
     "text": [
      "Processando acórdão nº 9303-002458\n",
      "Processando acórdão nº 107-09230\n",
      "Processando acórdão nº 9202-003401\n",
      "Processando acórdão nº 9303-003141\n",
      "Processando acórdão nº 3403-002701\n",
      "Processando acórdão nº 1302-001164\n",
      "Processando acórdão nº 04-00627\n"
     ]
    },
    {
     "name": "stderr",
     "output_type": "stream",
     "text": [
      "Traceback (most recent call last):\n",
      "  File \"<ipython-input-12-ce7f870e485c>\", line 7, in <module>\n",
      "    baixa_acordao(num, path_to_pdf)\n",
      "  File \"<ipython-input-11-cc788343a120>\", line 31, in baixa_acordao\n",
      "    raise ValueError('Mais de um registro encontrado:', hits)\n",
      "ValueError: ('Mais de um registro encontrado:', 2)\n",
      "\n"
     ]
    },
    {
     "name": "stdout",
     "output_type": "stream",
     "text": [
      "Processando acórdão nº 9202-007445\n",
      "Processando acórdão nº 103-22840\n",
      "Processando acórdão nº 9101-002901\n",
      "Processando acórdão nº 3802-000570\n",
      "Processando acórdão nº 9303-006313\n",
      "Processando acórdão nº 104-19123\n",
      "Processando acórdão nº 102-49425\n",
      "Processando acórdão nº 9303-004142\n",
      "Processando acórdão nº 101-93877\n",
      "Processando acórdão nº 204-00304\n"
     ]
    },
    {
     "name": "stderr",
     "output_type": "stream",
     "text": [
      "Traceback (most recent call last):\n",
      "  File \"<ipython-input-12-ce7f870e485c>\", line 7, in <module>\n",
      "    baixa_acordao(num, path_to_pdf)\n",
      "  File \"<ipython-input-11-cc788343a120>\", line 31, in baixa_acordao\n",
      "    raise ValueError('Mais de um registro encontrado:', hits)\n",
      "ValueError: ('Mais de um registro encontrado:', 2)\n",
      "\n"
     ]
    },
    {
     "name": "stdout",
     "output_type": "stream",
     "text": [
      "Processando acórdão nº 103-22886\n",
      "Processando acórdão nº 3302-002353\n",
      "Processando acórdão nº 9303-002857\n",
      "Processando acórdão nº 2301-005113\n",
      "Processando acórdão nº 107-06045\n",
      "Processando acórdão nº 301-31763\n",
      "Processando acórdão nº 104-23185\n",
      "Processando acórdão nº 2102-00668\n"
     ]
    },
    {
     "name": "stderr",
     "output_type": "stream",
     "text": [
      "Traceback (most recent call last):\n",
      "  File \"<ipython-input-12-ce7f870e485c>\", line 7, in <module>\n",
      "    baixa_acordao(num, path_to_pdf)\n",
      "  File \"<ipython-input-11-cc788343a120>\", line 31, in baixa_acordao\n",
      "    raise ValueError('Mais de um registro encontrado:', hits)\n",
      "ValueError: ('Mais de um registro encontrado:', 3)\n",
      "\n"
     ]
    },
    {
     "name": "stdout",
     "output_type": "stream",
     "text": [
      "Processando acórdão nº 2301-002092\n",
      "Processando acórdão nº 1201-001893\n",
      "Processando acórdão nº 9101-003334\n",
      "Processando acórdão nº 9101-003376\n",
      "Processando acórdão nº 3201-00459\n"
     ]
    },
    {
     "name": "stderr",
     "output_type": "stream",
     "text": [
      "Traceback (most recent call last):\n",
      "  File \"<ipython-input-12-ce7f870e485c>\", line 7, in <module>\n",
      "    baixa_acordao(num, path_to_pdf)\n",
      "  File \"<ipython-input-11-cc788343a120>\", line 31, in baixa_acordao\n",
      "    raise ValueError('Mais de um registro encontrado:', hits)\n",
      "ValueError: ('Mais de um registro encontrado:', 38)\n",
      "\n"
     ]
    },
    {
     "name": "stdout",
     "output_type": "stream",
     "text": [
      "Processando acórdão nº 1401-001907\n",
      "Processando acórdão nº 9202-006512\n",
      "Processando acórdão nº 103-20828\n",
      "Processando acórdão nº 101-94846\n",
      "Processando acórdão nº 103-22603\n",
      "Processando acórdão nº 9303-006510\n",
      "Processando acórdão nº 1801-00560\n"
     ]
    },
    {
     "name": "stderr",
     "output_type": "stream",
     "text": [
      "Traceback (most recent call last):\n",
      "  File \"<ipython-input-12-ce7f870e485c>\", line 7, in <module>\n",
      "    baixa_acordao(num, path_to_pdf)\n",
      "  File \"<ipython-input-11-cc788343a120>\", line 31, in baixa_acordao\n",
      "    raise ValueError('Mais de um registro encontrado:', hits)\n",
      "ValueError: ('Mais de um registro encontrado:', 2)\n",
      "\n"
     ]
    },
    {
     "name": "stdout",
     "output_type": "stream",
     "text": [
      "Processando acórdão nº 1301-00503\n"
     ]
    },
    {
     "name": "stderr",
     "output_type": "stream",
     "text": [
      "Traceback (most recent call last):\n",
      "  File \"<ipython-input-12-ce7f870e485c>\", line 7, in <module>\n",
      "    baixa_acordao(num, path_to_pdf)\n",
      "  File \"<ipython-input-11-cc788343a120>\", line 31, in baixa_acordao\n",
      "    raise ValueError('Mais de um registro encontrado:', hits)\n",
      "ValueError: ('Mais de um registro encontrado:', 28)\n",
      "\n"
     ]
    },
    {
     "name": "stdout",
     "output_type": "stream",
     "text": [
      "Processando acórdão nº 02-02961\n"
     ]
    },
    {
     "name": "stderr",
     "output_type": "stream",
     "text": [
      "Traceback (most recent call last):\n",
      "  File \"<ipython-input-12-ce7f870e485c>\", line 7, in <module>\n",
      "    baixa_acordao(num, path_to_pdf)\n",
      "  File \"<ipython-input-11-cc788343a120>\", line 31, in baixa_acordao\n",
      "    raise ValueError('Mais de um registro encontrado:', hits)\n",
      "ValueError: ('Mais de um registro encontrado:', 12)\n",
      "\n"
     ]
    },
    {
     "name": "stdout",
     "output_type": "stream",
     "text": [
      "Processando acórdão nº 9303-005941\n",
      "Processando acórdão nº 106-17207\n",
      "Processando acórdão nº 102-49315\n",
      "Processando acórdão nº 1103-000668\n",
      "Processando acórdão nº 201-80828\n",
      "Processando acórdão nº 101-94871\n",
      "Processando acórdão nº 206-00611\n",
      "Processando acórdão nº 9303-005550\n",
      "Processando acórdão nº 1302-002788\n",
      "Processando acórdão nº 3301-001446\n"
     ]
    },
    {
     "name": "stderr",
     "output_type": "stream",
     "text": [
      "Traceback (most recent call last):\n",
      "  File \"<ipython-input-12-ce7f870e485c>\", line 7, in <module>\n",
      "    baixa_acordao(num, path_to_pdf)\n",
      "  File \"<ipython-input-11-cc788343a120>\", line 31, in baixa_acordao\n",
      "    raise ValueError('Mais de um registro encontrado:', hits)\n",
      "ValueError: ('Mais de um registro encontrado:', 2)\n",
      "\n"
     ]
    },
    {
     "name": "stdout",
     "output_type": "stream",
     "text": [
      "Processando acórdão nº 201-76714\n",
      "Processando acórdão nº 106-17080\n",
      "Processando acórdão nº 104-19384\n",
      "Processando acórdão nº 1402-00423\n"
     ]
    },
    {
     "name": "stderr",
     "output_type": "stream",
     "text": [
      "Traceback (most recent call last):\n",
      "  File \"<ipython-input-12-ce7f870e485c>\", line 7, in <module>\n",
      "    baixa_acordao(num, path_to_pdf)\n",
      "  File \"<ipython-input-11-cc788343a120>\", line 31, in baixa_acordao\n",
      "    raise ValueError('Mais de um registro encontrado:', hits)\n",
      "ValueError: ('Mais de um registro encontrado:', 35)\n",
      "\n"
     ]
    },
    {
     "name": "stdout",
     "output_type": "stream",
     "text": [
      "Processando acórdão nº 201-80242\n",
      "Processando acórdão nº 104-23287\n",
      "Processando acórdão nº 1803-01000\n",
      "Processando acórdão nº 9202-01413\n",
      "Processando acórdão nº 3402-002265\n"
     ]
    },
    {
     "name": "stderr",
     "output_type": "stream",
     "text": [
      "Traceback (most recent call last):\n",
      "  File \"<ipython-input-12-ce7f870e485c>\", line 7, in <module>\n",
      "    baixa_acordao(num, path_to_pdf)\n",
      "  File \"<ipython-input-11-cc788343a120>\", line 31, in baixa_acordao\n",
      "    raise ValueError('Mais de um registro encontrado:', hits)\n",
      "ValueError: ('Mais de um registro encontrado:', 2)\n",
      "\n"
     ]
    },
    {
     "name": "stdout",
     "output_type": "stream",
     "text": [
      "Processando acórdão nº 202-08457\n"
     ]
    },
    {
     "name": "stderr",
     "output_type": "stream",
     "text": [
      "Traceback (most recent call last):\n",
      "  File \"<ipython-input-12-ce7f870e485c>\", line 7, in <module>\n",
      "    baixa_acordao(num, path_to_pdf)\n",
      "  File \"<ipython-input-11-cc788343a120>\", line 31, in baixa_acordao\n",
      "    raise ValueError('Mais de um registro encontrado:', hits)\n",
      "ValueError: ('Mais de um registro encontrado:', 3)\n",
      "\n"
     ]
    },
    {
     "name": "stdout",
     "output_type": "stream",
     "text": [
      "Processando acórdão nº 202-16301\n",
      "Processando acórdão nº 9303-006215\n",
      "Processando acórdão nº 108-07492\n",
      "Processando acórdão nº 2202-002561\n",
      "Processando acórdão nº 201-78277\n",
      "Processando acórdão nº 04-00088\n"
     ]
    },
    {
     "name": "stderr",
     "output_type": "stream",
     "text": [
      "Traceback (most recent call last):\n",
      "  File \"<ipython-input-12-ce7f870e485c>\", line 7, in <module>\n",
      "    baixa_acordao(num, path_to_pdf)\n",
      "  File \"<ipython-input-11-cc788343a120>\", line 31, in baixa_acordao\n",
      "    raise ValueError('Mais de um registro encontrado:', hits)\n",
      "ValueError: ('Mais de um registro encontrado:', 5)\n",
      "\n"
     ]
    },
    {
     "name": "stdout",
     "output_type": "stream",
     "text": [
      "Processando acórdão nº 3803-00277\n"
     ]
    },
    {
     "name": "stderr",
     "output_type": "stream",
     "text": [
      "Traceback (most recent call last):\n",
      "  File \"<ipython-input-12-ce7f870e485c>\", line 7, in <module>\n",
      "    baixa_acordao(num, path_to_pdf)\n",
      "  File \"<ipython-input-11-cc788343a120>\", line 31, in baixa_acordao\n",
      "    raise ValueError('Mais de um registro encontrado:', hits)\n",
      "ValueError: ('Mais de um registro encontrado:', 30)\n",
      "\n"
     ]
    },
    {
     "name": "stdout",
     "output_type": "stream",
     "text": [
      "Processando acórdão nº 2402-005692\n",
      "Processando acórdão nº 301-29487\n",
      "Processando acórdão nº 204-00488\n",
      "Processando acórdão nº 106-17093\n",
      "Processando acórdão nº 108-08933\n",
      "Processando acórdão nº 107-07922\n",
      "Processando acórdão nº 9202-002636\n",
      "Processando acórdão nº 2102-003046\n",
      "Processando acórdão nº 1202-00607\n",
      "Processando acórdão nº 303-32358\n",
      "Processando acórdão nº 2202-003786\n",
      "Processando acórdão nº 3302-00872\n"
     ]
    },
    {
     "name": "stderr",
     "output_type": "stream",
     "text": [
      "Traceback (most recent call last):\n",
      "  File \"<ipython-input-12-ce7f870e485c>\", line 7, in <module>\n",
      "    baixa_acordao(num, path_to_pdf)\n",
      "  File \"<ipython-input-11-cc788343a120>\", line 31, in baixa_acordao\n",
      "    raise ValueError('Mais de um registro encontrado:', hits)\n",
      "ValueError: ('Mais de um registro encontrado:', 39)\n",
      "\n"
     ]
    },
    {
     "name": "stdout",
     "output_type": "stream",
     "text": [
      "Processando acórdão nº 201-80999\n",
      "Processando acórdão nº 9101-002598\n",
      "Processando acórdão nº 1201-00267\n"
     ]
    },
    {
     "name": "stderr",
     "output_type": "stream",
     "text": [
      "Traceback (most recent call last):\n",
      "  File \"<ipython-input-12-ce7f870e485c>\", line 7, in <module>\n",
      "    baixa_acordao(num, path_to_pdf)\n",
      "  File \"<ipython-input-11-cc788343a120>\", line 31, in baixa_acordao\n",
      "    raise ValueError('Mais de um registro encontrado:', hits)\n",
      "ValueError: ('Mais de um registro encontrado:', 32)\n",
      "\n"
     ]
    },
    {
     "name": "stdout",
     "output_type": "stream",
     "text": [
      "Processando acórdão nº 04-00713\n"
     ]
    },
    {
     "name": "stderr",
     "output_type": "stream",
     "text": [
      "Traceback (most recent call last):\n",
      "  File \"<ipython-input-12-ce7f870e485c>\", line 7, in <module>\n",
      "    baixa_acordao(num, path_to_pdf)\n",
      "  File \"<ipython-input-11-cc788343a120>\", line 31, in baixa_acordao\n",
      "    raise ValueError('Mais de um registro encontrado:', hits)\n",
      "ValueError: ('Mais de um registro encontrado:', 2)\n",
      "\n"
     ]
    },
    {
     "name": "stdout",
     "output_type": "stream",
     "text": [
      "Processando acórdão nº 105-17382\n",
      "Processando acórdão nº 1301-002960\n",
      "Processando acórdão nº 104-23181\n",
      "Processando acórdão nº 1301-003622\n",
      "Processando acórdão nº 01-05645\n"
     ]
    },
    {
     "name": "stderr",
     "output_type": "stream",
     "text": [
      "Traceback (most recent call last):\n",
      "  File \"<ipython-input-12-ce7f870e485c>\", line 7, in <module>\n",
      "    baixa_acordao(num, path_to_pdf)\n",
      "  File \"<ipython-input-11-cc788343a120>\", line 31, in baixa_acordao\n",
      "    raise ValueError('Mais de um registro encontrado:', hits)\n",
      "ValueError: ('Mais de um registro encontrado:', 8)\n",
      "\n"
     ]
    },
    {
     "name": "stdout",
     "output_type": "stream",
     "text": [
      "Processando acórdão nº 103-22293\n",
      "Processando acórdão nº 102-49283\n",
      "Processando acórdão nº 1402-00093\n"
     ]
    },
    {
     "name": "stderr",
     "output_type": "stream",
     "text": [
      "Traceback (most recent call last):\n",
      "  File \"<ipython-input-12-ce7f870e485c>\", line 7, in <module>\n",
      "    baixa_acordao(num, path_to_pdf)\n",
      "  File \"<ipython-input-11-cc788343a120>\", line 31, in baixa_acordao\n",
      "    raise ValueError('Mais de um registro encontrado:', hits)\n",
      "ValueError: ('Mais de um registro encontrado:', 66)\n",
      "\n"
     ]
    },
    {
     "name": "stdout",
     "output_type": "stream",
     "text": [
      "Processando acórdão nº 1402-001337\n"
     ]
    },
    {
     "name": "stderr",
     "output_type": "stream",
     "text": [
      "Traceback (most recent call last):\n",
      "  File \"<ipython-input-12-ce7f870e485c>\", line 7, in <module>\n",
      "    baixa_acordao(num, path_to_pdf)\n",
      "  File \"<ipython-input-11-cc788343a120>\", line 31, in baixa_acordao\n",
      "    raise ValueError('Mais de um registro encontrado:', hits)\n",
      "ValueError: ('Mais de um registro encontrado:', 2)\n",
      "\n"
     ]
    },
    {
     "name": "stdout",
     "output_type": "stream",
     "text": [
      "Processando acórdão nº 9202-006477\n",
      "Processando acórdão nº 1103-00268\n",
      "Processando acórdão nº 2401-005127\n",
      "Processando acórdão nº 1102-00748\n"
     ]
    },
    {
     "name": "stderr",
     "output_type": "stream",
     "text": [
      "Traceback (most recent call last):\n",
      "  File \"<ipython-input-12-ce7f870e485c>\", line 7, in <module>\n",
      "    baixa_acordao(num, path_to_pdf)\n",
      "  File \"<ipython-input-11-cc788343a120>\", line 31, in baixa_acordao\n",
      "    raise ValueError('Mais de um registro encontrado:', hits)\n",
      "ValueError: ('Mais de um registro encontrado:', 2)\n",
      "\n"
     ]
    },
    {
     "name": "stdout",
     "output_type": "stream",
     "text": [
      "Processando acórdão nº 1401-002052\n",
      "Processando acórdão nº 107-09330\n",
      "Processando acórdão nº 301-31875\n",
      "Processando acórdão nº 1302-002128\n",
      "Processando acórdão nº 3302-01170\n"
     ]
    },
    {
     "name": "stderr",
     "output_type": "stream",
     "text": [
      "Traceback (most recent call last):\n",
      "  File \"<ipython-input-12-ce7f870e485c>\", line 7, in <module>\n",
      "    baixa_acordao(num, path_to_pdf)\n",
      "  File \"<ipython-input-11-cc788343a120>\", line 31, in baixa_acordao\n",
      "    raise ValueError('Mais de um registro encontrado:', hits)\n",
      "ValueError: ('Mais de um registro encontrado:', 5)\n",
      "\n"
     ]
    },
    {
     "name": "stdout",
     "output_type": "stream",
     "text": [
      "Processando acórdão nº 102-47103\n",
      "Processando acórdão nº 101-96364\n",
      "Processando acórdão nº 203-08809\n",
      "Processando acórdão nº 101-97107\n",
      "Processando acórdão nº 101-96318\n",
      "Processando acórdão nº 2401-01806\n",
      "Processando acórdão nº 106-17006\n",
      "Processando acórdão nº 9900-000728\n",
      "Processando acórdão nº 9202-005128\n",
      "Processando acórdão nº 2301-00212\n"
     ]
    },
    {
     "name": "stderr",
     "output_type": "stream",
     "text": [
      "Traceback (most recent call last):\n",
      "  File \"<ipython-input-12-ce7f870e485c>\", line 7, in <module>\n",
      "    baixa_acordao(num, path_to_pdf)\n",
      "  File \"<ipython-input-11-cc788343a120>\", line 31, in baixa_acordao\n",
      "    raise ValueError('Mais de um registro encontrado:', hits)\n",
      "ValueError: ('Mais de um registro encontrado:', 39)\n",
      "\n"
     ]
    },
    {
     "name": "stdout",
     "output_type": "stream",
     "text": [
      "Processando acórdão nº 104-19855\n",
      "Processando acórdão nº 105-17341\n",
      "Processando acórdão nº 101-95977\n",
      "Processando acórdão nº 206-01596\n",
      "Processando acórdão nº 9303-01248\n"
     ]
    },
    {
     "name": "stderr",
     "output_type": "stream",
     "text": [
      "Traceback (most recent call last):\n",
      "  File \"<ipython-input-12-ce7f870e485c>\", line 7, in <module>\n",
      "    baixa_acordao(num, path_to_pdf)\n",
      "  File \"<ipython-input-11-cc788343a120>\", line 31, in baixa_acordao\n",
      "    raise ValueError('Mais de um registro encontrado:', hits)\n",
      "ValueError: ('Mais de um registro encontrado:', 3)\n",
      "\n"
     ]
    },
    {
     "name": "stdout",
     "output_type": "stream",
     "text": [
      "Processando acórdão nº 9101-003373\n",
      "Processando acórdão nº 195-0125\n",
      "Processando acórdão nº 108-08919\n",
      "Processando acórdão nº 104-17359\n",
      "Processando acórdão nº 1401-000804\n"
     ]
    },
    {
     "name": "stderr",
     "output_type": "stream",
     "text": [
      "Traceback (most recent call last):\n",
      "  File \"<ipython-input-12-ce7f870e485c>\", line 7, in <module>\n",
      "    baixa_acordao(num, path_to_pdf)\n",
      "  File \"<ipython-input-11-cc788343a120>\", line 31, in baixa_acordao\n",
      "    raise ValueError('Mais de um registro encontrado:', hits)\n",
      "ValueError: ('Mais de um registro encontrado:', 2)\n",
      "\n"
     ]
    },
    {
     "name": "stdout",
     "output_type": "stream",
     "text": [
      "Processando acórdão nº 201-76735\n",
      "Processando acórdão nº 1401-00407\n"
     ]
    },
    {
     "name": "stderr",
     "output_type": "stream",
     "text": [
      "Traceback (most recent call last):\n",
      "  File \"<ipython-input-12-ce7f870e485c>\", line 7, in <module>\n",
      "    baixa_acordao(num, path_to_pdf)\n",
      "  File \"<ipython-input-11-cc788343a120>\", line 31, in baixa_acordao\n",
      "    raise ValueError('Mais de um registro encontrado:', hits)\n",
      "ValueError: ('Mais de um registro encontrado:', 34)\n",
      "\n"
     ]
    },
    {
     "name": "stdout",
     "output_type": "stream",
     "text": [
      "Processando acórdão nº 2202-003578\n",
      "Processando acórdão nº 106-14387\n",
      "Processando acórdão nº 1202-00074\n"
     ]
    },
    {
     "name": "stderr",
     "output_type": "stream",
     "text": [
      "Traceback (most recent call last):\n",
      "  File \"<ipython-input-12-ce7f870e485c>\", line 7, in <module>\n",
      "    baixa_acordao(num, path_to_pdf)\n",
      "  File \"<ipython-input-11-cc788343a120>\", line 31, in baixa_acordao\n",
      "    raise ValueError('Mais de um registro encontrado:', hits)\n",
      "ValueError: ('Mais de um registro encontrado:', 28)\n",
      "\n"
     ]
    },
    {
     "name": "stdout",
     "output_type": "stream",
     "text": [
      "Processando acórdão nº 9202-003027\n",
      "Processando acórdão nº 3403-003551\n",
      "Processando acórdão nº 9202-006010\n",
      "Processando acórdão nº 3201-002860\n"
     ]
    },
    {
     "name": "stderr",
     "output_type": "stream",
     "text": [
      "Traceback (most recent call last):\n",
      "  File \"<ipython-input-12-ce7f870e485c>\", line 7, in <module>\n",
      "    baixa_acordao(num, path_to_pdf)\n",
      "  File \"<ipython-input-11-cc788343a120>\", line 31, in baixa_acordao\n",
      "    raise ValueError('Mais de um registro encontrado:', hits)\n",
      "ValueError: ('Mais de um registro encontrado:', 2)\n",
      "\n"
     ]
    },
    {
     "name": "stdout",
     "output_type": "stream",
     "text": [
      "Processando acórdão nº 202-18012\n",
      "Processando acórdão nº 393-00032\n",
      "Processando acórdão nº 1102-001029\n",
      "Processando acórdão nº 101-96212\n",
      "Processando acórdão nº 1401-002549\n",
      "Processando acórdão nº 203-09710\n",
      "Processando acórdão nº 302-37944\n",
      "Processando acórdão nº 107-06963\n",
      "Processando acórdão nº 301-31241\n",
      "Processando acórdão nº 302-39829\n",
      "Processando acórdão nº 3302-005305\n",
      "Processando acórdão nº 103-23507\n",
      "Processando acórdão nº 9202-005573\n",
      "Processando acórdão nº 103-22290\n",
      "Processando acórdão nº 1301-002278\n",
      "Processando acórdão nº 9101-000950\n",
      "Processando acórdão nº 3101-01106\n",
      "Processando acórdão nº 3201-003647\n",
      "Processando acórdão nº 9101-003884\n",
      "Processando acórdão nº 106-17009\n",
      "Processando acórdão nº 107-08419\n",
      "Processando acórdão nº 1402-002396\n",
      "Processando acórdão nº 391-00059\n",
      "Processando acórdão nº 3802-00252\n"
     ]
    },
    {
     "name": "stderr",
     "output_type": "stream",
     "text": [
      "Traceback (most recent call last):\n",
      "  File \"<ipython-input-12-ce7f870e485c>\", line 7, in <module>\n",
      "    baixa_acordao(num, path_to_pdf)\n",
      "  File \"<ipython-input-11-cc788343a120>\", line 31, in baixa_acordao\n",
      "    raise ValueError('Mais de um registro encontrado:', hits)\n",
      "ValueError: ('Mais de um registro encontrado:', 30)\n",
      "\n"
     ]
    },
    {
     "name": "stdout",
     "output_type": "stream",
     "text": [
      "Processando acórdão nº 106-15476\n",
      "Processando acórdão nº 101-96145\n",
      "Processando acórdão nº 9101-003049\n",
      "Processando acórdão nº 108-07538\n",
      "Processando acórdão nº 2302-001028\n",
      "Processando acórdão nº 101-94711\n",
      "Processando acórdão nº 9101-001861\n",
      "Processando acórdão nº 3202-000473\n",
      "Processando acórdão nº 107-09463\n",
      "Processando acórdão nº 1102-000932\n",
      "Processando acórdão nº 9202-006237\n",
      "Processando acórdão nº 105-14809\n",
      "Processando acórdão nº 1402-002291\n",
      "Processando acórdão nº 9101-00303\n"
     ]
    },
    {
     "name": "stderr",
     "output_type": "stream",
     "text": [
      "Traceback (most recent call last):\n",
      "  File \"<ipython-input-12-ce7f870e485c>\", line 7, in <module>\n",
      "    baixa_acordao(num, path_to_pdf)\n",
      "  File \"<ipython-input-11-cc788343a120>\", line 31, in baixa_acordao\n",
      "    raise ValueError('Mais de um registro encontrado:', hits)\n",
      "ValueError: ('Mais de um registro encontrado:', 33)\n",
      "\n"
     ]
    },
    {
     "name": "stdout",
     "output_type": "stream",
     "text": [
      "Processando acórdão nº 01-05814\n"
     ]
    },
    {
     "name": "stderr",
     "output_type": "stream",
     "text": [
      "Traceback (most recent call last):\n",
      "  File \"<ipython-input-12-ce7f870e485c>\", line 7, in <module>\n",
      "    baixa_acordao(num, path_to_pdf)\n",
      "  File \"<ipython-input-11-cc788343a120>\", line 31, in baixa_acordao\n",
      "    raise ValueError('Mais de um registro encontrado:', hits)\n",
      "ValueError: ('Mais de um registro encontrado:', 7)\n",
      "\n"
     ]
    },
    {
     "name": "stdout",
     "output_type": "stream",
     "text": [
      "Processando acórdão nº 203-09751\n",
      "Processando acórdão nº 301-31486\n",
      "Processando acórdão nº 103-19842\n",
      "Processando acórdão nº 206-01782\n",
      "Processando acórdão nº 201-68026\n",
      "Processando acórdão nº 9101-003374\n",
      "Processando acórdão nº 201-81384\n",
      "Processando acórdão nº 2301-002295\n",
      "Processando acórdão nº 108-08212\n",
      "Processando acórdão nº 102-42738\n",
      "Processando acórdão nº 203-04404\n",
      "Processando acórdão nº 9303-005293\n",
      "Processando acórdão nº 2401-01436\n",
      "Processando acórdão nº 2402-005025\n",
      "Processando acórdão nº 1102-00610\n",
      "Processando acórdão nº 2301-00283\n"
     ]
    },
    {
     "name": "stderr",
     "output_type": "stream",
     "text": [
      "Traceback (most recent call last):\n",
      "  File \"<ipython-input-12-ce7f870e485c>\", line 7, in <module>\n",
      "    baixa_acordao(num, path_to_pdf)\n",
      "  File \"<ipython-input-11-cc788343a120>\", line 31, in baixa_acordao\n",
      "    raise ValueError('Mais de um registro encontrado:', hits)\n",
      "ValueError: ('Mais de um registro encontrado:', 36)\n",
      "\n"
     ]
    },
    {
     "name": "stdout",
     "output_type": "stream",
     "text": [
      "Processando acórdão nº 9202-002193\n",
      "Processando acórdão nº 3301-002526\n",
      "Processando acórdão nº 9202-006489\n",
      "Processando acórdão nº 301-34105\n",
      "Processando acórdão nº 3803-00276\n"
     ]
    },
    {
     "name": "stderr",
     "output_type": "stream",
     "text": [
      "Traceback (most recent call last):\n",
      "  File \"<ipython-input-12-ce7f870e485c>\", line 7, in <module>\n",
      "    baixa_acordao(num, path_to_pdf)\n",
      "  File \"<ipython-input-11-cc788343a120>\", line 31, in baixa_acordao\n",
      "    raise ValueError('Mais de um registro encontrado:', hits)\n",
      "ValueError: ('Mais de um registro encontrado:', 28)\n",
      "\n"
     ]
    },
    {
     "name": "stdout",
     "output_type": "stream",
     "text": [
      "Processando acórdão nº 03-05557\n"
     ]
    },
    {
     "name": "stderr",
     "output_type": "stream",
     "text": [
      "Traceback (most recent call last):\n",
      "  File \"<ipython-input-12-ce7f870e485c>\", line 7, in <module>\n",
      "    baixa_acordao(num, path_to_pdf)\n",
      "  File \"<ipython-input-11-cc788343a120>\", line 31, in baixa_acordao\n",
      "    raise ValueError('Mais de um registro encontrado:', hits)\n",
      "ValueError: ('Mais de um registro encontrado:', 4)\n",
      "\n"
     ]
    },
    {
     "name": "stdout",
     "output_type": "stream",
     "text": [
      "Processando acórdão nº 102-49292\n",
      "Processando acórdão nº 9101-001298\n",
      "Processando acórdão nº 9303-005273\n",
      "Processando acórdão nº 9101-002992\n",
      "Processando acórdão nº 1803-00753\n"
     ]
    },
    {
     "name": "stderr",
     "output_type": "stream",
     "text": [
      "Traceback (most recent call last):\n",
      "  File \"<ipython-input-12-ce7f870e485c>\", line 7, in <module>\n",
      "    baixa_acordao(num, path_to_pdf)\n",
      "  File \"<ipython-input-11-cc788343a120>\", line 31, in baixa_acordao\n",
      "    raise ValueError('Mais de um registro encontrado:', hits)\n",
      "ValueError: ('Mais de um registro encontrado:', 2)\n",
      "\n"
     ]
    },
    {
     "name": "stdout",
     "output_type": "stream",
     "text": [
      "Processando acórdão nº 102-48664\n",
      "Processando acórdão nº 104-22779\n",
      "Processando acórdão nº 107-04638\n",
      "Processando acórdão nº 1801-000970\n",
      "Processando acórdão nº 1201-001872\n",
      "Processando acórdão nº 107-05873\n",
      "Processando acórdão nº 106-17001\n",
      "Processando acórdão nº 301-32695\n",
      "Processando acórdão nº 201-73651\n",
      "Processando acórdão nº 106-14266\n",
      "Processando acórdão nº 108-09592\n",
      "Processando acórdão nº 9101-001010\n",
      "Processando acórdão nº 9303-007282\n",
      "Processando acórdão nº 3201-003022\n",
      "Processando acórdão nº 108-06035\n",
      "Processando acórdão nº 206-01488\n",
      "Processando acórdão nº 9101-001578\n",
      "Processando acórdão nº 1401-001856\n",
      "Processando acórdão nº 106-16812\n",
      "Processando acórdão nº 9101-001350\n",
      "Processando acórdão nº 9202-002930\n",
      "Processando acórdão nº 1201-000705\n"
     ]
    },
    {
     "name": "stderr",
     "output_type": "stream",
     "text": [
      "Traceback (most recent call last):\n",
      "  File \"<ipython-input-12-ce7f870e485c>\", line 7, in <module>\n",
      "    baixa_acordao(num, path_to_pdf)\n",
      "  File \"<ipython-input-11-cc788343a120>\", line 31, in baixa_acordao\n",
      "    raise ValueError('Mais de um registro encontrado:', hits)\n",
      "ValueError: ('Mais de um registro encontrado:', 2)\n",
      "\n"
     ]
    },
    {
     "name": "stdout",
     "output_type": "stream",
     "text": [
      "Processando acórdão nº 1401-00323\n"
     ]
    },
    {
     "name": "stderr",
     "output_type": "stream",
     "text": [
      "Traceback (most recent call last):\n",
      "  File \"<ipython-input-12-ce7f870e485c>\", line 7, in <module>\n",
      "    baixa_acordao(num, path_to_pdf)\n",
      "  File \"<ipython-input-11-cc788343a120>\", line 31, in baixa_acordao\n",
      "    raise ValueError('Mais de um registro encontrado:', hits)\n",
      "ValueError: ('Mais de um registro encontrado:', 34)\n",
      "\n"
     ]
    },
    {
     "name": "stdout",
     "output_type": "stream",
     "text": [
      "Processando acórdão nº 9101-001238\n",
      "Processando acórdão nº 1101-00098\n"
     ]
    },
    {
     "name": "stderr",
     "output_type": "stream",
     "text": [
      "Traceback (most recent call last):\n",
      "  File \"<ipython-input-12-ce7f870e485c>\", line 7, in <module>\n",
      "    baixa_acordao(num, path_to_pdf)\n",
      "  File \"<ipython-input-11-cc788343a120>\", line 31, in baixa_acordao\n",
      "    raise ValueError('Mais de um registro encontrado:', hits)\n",
      "ValueError: ('Mais de um registro encontrado:', 32)\n",
      "\n"
     ]
    },
    {
     "name": "stdout",
     "output_type": "stream",
     "text": [
      "Processando acórdão nº 106-16928\n",
      "Processando acórdão nº 3403-003591\n",
      "Processando acórdão nº 3301-002011\n",
      "Processando acórdão nº 203-08674\n",
      "Processando acórdão nº 3302-000671\n",
      "Processando acórdão nº 9101-003053\n",
      "Processando acórdão nº 2202-002802\n",
      "Processando acórdão nº 103-21585\n",
      "Processando acórdão nº 108-07322\n",
      "Processando acórdão nº 3801-004745\n",
      "Processando acórdão nº 105-16489\n",
      "Processando acórdão nº 106-15764\n",
      "Processando acórdão nº 203-07401\n",
      "Processando acórdão nº 108-09286\n",
      "Processando acórdão nº 9202-002669\n",
      "Processando acórdão nº 107-09299\n",
      "Processando acórdão nº 101-96040\n",
      "Processando acórdão nº 1301-002832\n",
      "Processando acórdão nº 9202-005470\n",
      "Processando acórdão nº 9303-01768\n"
     ]
    },
    {
     "name": "stderr",
     "output_type": "stream",
     "text": [
      "Traceback (most recent call last):\n",
      "  File \"<ipython-input-12-ce7f870e485c>\", line 7, in <module>\n",
      "    baixa_acordao(num, path_to_pdf)\n",
      "  File \"<ipython-input-11-cc788343a120>\", line 31, in baixa_acordao\n",
      "    raise ValueError('Mais de um registro encontrado:', hits)\n",
      "ValueError: ('Mais de um registro encontrado:', 2)\n",
      "\n"
     ]
    },
    {
     "name": "stdout",
     "output_type": "stream",
     "text": [
      "Processando acórdão nº 301-29745\n",
      "Processando acórdão nº 101-94351\n",
      "Processando acórdão nº 1402-00391\n"
     ]
    },
    {
     "name": "stderr",
     "output_type": "stream",
     "text": [
      "Traceback (most recent call last):\n",
      "  File \"<ipython-input-12-ce7f870e485c>\", line 7, in <module>\n",
      "    baixa_acordao(num, path_to_pdf)\n",
      "  File \"<ipython-input-11-cc788343a120>\", line 31, in baixa_acordao\n",
      "    raise ValueError('Mais de um registro encontrado:', hits)\n",
      "ValueError: ('Mais de um registro encontrado:', 34)\n",
      "\n"
     ]
    },
    {
     "name": "stdout",
     "output_type": "stream",
     "text": [
      "Processando acórdão nº 102-45717\n",
      "Processando acórdão nº 104-19963\n",
      "Processando acórdão nº 1302-000993\n",
      "Processando acórdão nº 9101-001261\n",
      "Processando acórdão nº 9202-006150\n",
      "Processando acórdão nº 106-15820\n",
      "Processando acórdão nº 3201-004265\n",
      "Processando acórdão nº 1402-001511\n",
      "Processando acórdão nº 202-07929\n"
     ]
    },
    {
     "name": "stderr",
     "output_type": "stream",
     "text": [
      "Traceback (most recent call last):\n",
      "  File \"<ipython-input-12-ce7f870e485c>\", line 7, in <module>\n",
      "    baixa_acordao(num, path_to_pdf)\n",
      "  File \"<ipython-input-11-cc788343a120>\", line 31, in baixa_acordao\n",
      "    raise ValueError('Mais de um registro encontrado:', hits)\n",
      "ValueError: ('Mais de um registro encontrado:', 4)\n",
      "\n"
     ]
    },
    {
     "name": "stdout",
     "output_type": "stream",
     "text": [
      "Processando acórdão nº 103-22032\n",
      "Processando acórdão nº 1402-002789\n",
      "Processando acórdão nº 202-14769\n",
      "Processando acórdão nº 1201-002030\n",
      "Processando acórdão nº 3402-005132\n",
      "Processando acórdão nº 1202-00458\n",
      "Processando acórdão nº 9101-00539\n"
     ]
    },
    {
     "name": "stderr",
     "output_type": "stream",
     "text": [
      "Traceback (most recent call last):\n",
      "  File \"<ipython-input-12-ce7f870e485c>\", line 7, in <module>\n",
      "    baixa_acordao(num, path_to_pdf)\n",
      "  File \"<ipython-input-11-cc788343a120>\", line 31, in baixa_acordao\n",
      "    raise ValueError('Mais de um registro encontrado:', hits)\n",
      "ValueError: ('Mais de um registro encontrado:', 27)\n",
      "\n"
     ]
    },
    {
     "name": "stdout",
     "output_type": "stream",
     "text": [
      "Processando acórdão nº 1103-00194\n"
     ]
    },
    {
     "name": "stderr",
     "output_type": "stream",
     "text": [
      "Traceback (most recent call last):\n",
      "  File \"<ipython-input-12-ce7f870e485c>\", line 7, in <module>\n",
      "    baixa_acordao(num, path_to_pdf)\n",
      "  File \"<ipython-input-11-cc788343a120>\", line 31, in baixa_acordao\n",
      "    raise ValueError('Mais de um registro encontrado:', hits)\n",
      "ValueError: ('Mais de um registro encontrado:', 3)\n",
      "\n"
     ]
    },
    {
     "name": "stdout",
     "output_type": "stream",
     "text": [
      "Processando acórdão nº 9303-01450\n"
     ]
    },
    {
     "name": "stderr",
     "output_type": "stream",
     "text": [
      "Traceback (most recent call last):\n",
      "  File \"<ipython-input-12-ce7f870e485c>\", line 7, in <module>\n",
      "    baixa_acordao(num, path_to_pdf)\n",
      "  File \"<ipython-input-11-cc788343a120>\", line 31, in baixa_acordao\n",
      "    raise ValueError('Mais de um registro encontrado:', hits)\n",
      "ValueError: ('Mais de um registro encontrado:', 3)\n",
      "\n"
     ]
    },
    {
     "name": "stdout",
     "output_type": "stream",
     "text": [
      "Processando acórdão nº 203-13354\n",
      "Processando acórdão nº 205-01048\n",
      "Processando acórdão nº 106-17146\n",
      "Processando acórdão nº 1401-002646\n",
      "Processando acórdão nº 101-95950\n",
      "Processando acórdão nº 103-19444\n",
      "Processando acórdão nº 9303-003277\n",
      "Processando acórdão nº 203-08164\n",
      "Processando acórdão nº 104-23025\n",
      "Processando acórdão nº 2401-003347\n",
      "Processando acórdão nº 103-23364\n",
      "Processando acórdão nº 9101-001598\n",
      "Processando acórdão nº 3401-004474\n",
      "Processando acórdão nº 301-30534\n",
      "Processando acórdão nº 3401-004403\n",
      "Processando acórdão nº 202-15883\n",
      "Processando acórdão nº 106-16110\n",
      "Processando acórdão nº 104-19980\n",
      "Processando acórdão nº 302-36429\n",
      "Processando acórdão nº 01-05306\n"
     ]
    },
    {
     "name": "stderr",
     "output_type": "stream",
     "text": [
      "Traceback (most recent call last):\n",
      "  File \"<ipython-input-12-ce7f870e485c>\", line 7, in <module>\n",
      "    baixa_acordao(num, path_to_pdf)\n",
      "  File \"<ipython-input-11-cc788343a120>\", line 31, in baixa_acordao\n",
      "    raise ValueError('Mais de um registro encontrado:', hits)\n",
      "ValueError: ('Mais de um registro encontrado:', 11)\n",
      "\n"
     ]
    },
    {
     "name": "stdout",
     "output_type": "stream",
     "text": [
      "Processando acórdão nº 102-46146\n",
      "Processando acórdão nº 102-49407\n",
      "Processando acórdão nº 203-02815\n"
     ]
    },
    {
     "name": "stderr",
     "output_type": "stream",
     "text": [
      "Traceback (most recent call last):\n",
      "  File \"<ipython-input-12-ce7f870e485c>\", line 7, in <module>\n",
      "    baixa_acordao(num, path_to_pdf)\n",
      "  File \"<ipython-input-11-cc788343a120>\", line 31, in baixa_acordao\n",
      "    raise ValueError('Mais de um registro encontrado:', hits)\n",
      "ValueError: ('Mais de um registro encontrado:', 4)\n",
      "\n"
     ]
    },
    {
     "name": "stdout",
     "output_type": "stream",
     "text": [
      "Processando acórdão nº 101-96515\n",
      "Processando acórdão nº 102-49334\n",
      "Processando acórdão nº 01-05049\n"
     ]
    },
    {
     "name": "stderr",
     "output_type": "stream",
     "text": [
      "Traceback (most recent call last):\n",
      "  File \"<ipython-input-12-ce7f870e485c>\", line 7, in <module>\n",
      "    baixa_acordao(num, path_to_pdf)\n",
      "  File \"<ipython-input-11-cc788343a120>\", line 31, in baixa_acordao\n",
      "    raise ValueError('Mais de um registro encontrado:', hits)\n",
      "ValueError: ('Mais de um registro encontrado:', 11)\n",
      "\n"
     ]
    },
    {
     "name": "stdout",
     "output_type": "stream",
     "text": [
      "Processando acórdão nº 1301-00899\n"
     ]
    },
    {
     "name": "stderr",
     "output_type": "stream",
     "text": [
      "Traceback (most recent call last):\n",
      "  File \"<ipython-input-12-ce7f870e485c>\", line 7, in <module>\n",
      "    baixa_acordao(num, path_to_pdf)\n",
      "  File \"<ipython-input-11-cc788343a120>\", line 31, in baixa_acordao\n",
      "    raise ValueError('Mais de um registro encontrado:', hits)\n",
      "ValueError: ('Mais de um registro encontrado:', 5)\n",
      "\n"
     ]
    },
    {
     "name": "stdout",
     "output_type": "stream",
     "text": [
      "Processando acórdão nº 104-23286\n",
      "Processando acórdão nº 2202-01975\n",
      "Processando acórdão nº 201-76943\n",
      "Processando acórdão nº 1302-002092\n",
      "Processando acórdão nº 107-08137\n",
      "Processando acórdão nº 303-35326\n",
      "Processando acórdão nº 108-08208\n",
      "Processando acórdão nº 1202-00459\n",
      "Processando acórdão nº 301-32284\n",
      "Processando acórdão nº 2402-004167\n",
      "Processando acórdão nº 2401-005139\n",
      "Processando acórdão nº 9303-003465\n",
      "Processando acórdão nº 102-48460\n",
      "Processando acórdão nº 3301-001933\n",
      "Processando acórdão nº 04-00089\n"
     ]
    },
    {
     "name": "stderr",
     "output_type": "stream",
     "text": [
      "Traceback (most recent call last):\n",
      "  File \"<ipython-input-12-ce7f870e485c>\", line 7, in <module>\n",
      "    baixa_acordao(num, path_to_pdf)\n",
      "  File \"<ipython-input-11-cc788343a120>\", line 31, in baixa_acordao\n",
      "    raise ValueError('Mais de um registro encontrado:', hits)\n",
      "ValueError: ('Mais de um registro encontrado:', 5)\n",
      "\n"
     ]
    },
    {
     "name": "stdout",
     "output_type": "stream",
     "text": [
      "Processando acórdão nº 103-21884\n",
      "Processando acórdão nº 203-07480\n",
      "Processando acórdão nº 104-23659\n",
      "Processando acórdão nº 106-17181\n",
      "Processando acórdão nº 1101-00330\n",
      "Processando acórdão nº 1202-00658\n",
      "Processando acórdão nº 9303-005435\n",
      "Processando acórdão nº 301-30585\n",
      "Processando acórdão nº 3102-001844\n",
      "Processando acórdão nº 9202-003150\n",
      "Processando acórdão nº 106-16534\n",
      "Processando acórdão nº 202-16105\n",
      "Processando acórdão nº 101-94964\n",
      "Processando acórdão nº 1102-00674\n",
      "Processando acórdão nº 9303-006734\n",
      "Processando acórdão nº 302-39723\n",
      "Processando acórdão nº 3401-005709\n",
      "Processando acórdão nº 302-39650\n",
      "Processando acórdão nº 106-17254\n",
      "Processando acórdão nº 3801-00039\n"
     ]
    },
    {
     "name": "stderr",
     "output_type": "stream",
     "text": [
      "Traceback (most recent call last):\n",
      "  File \"<ipython-input-12-ce7f870e485c>\", line 7, in <module>\n",
      "    baixa_acordao(num, path_to_pdf)\n",
      "  File \"<ipython-input-11-cc788343a120>\", line 31, in baixa_acordao\n",
      "    raise ValueError('Mais de um registro encontrado:', hits)\n",
      "ValueError: ('Mais de um registro encontrado:', 45)\n",
      "\n"
     ]
    },
    {
     "name": "stdout",
     "output_type": "stream",
     "text": [
      "Processando acórdão nº 104-20530\n",
      "Processando acórdão nº 203-09351\n",
      "Processando acórdão nº 04-00883\n"
     ]
    },
    {
     "name": "stderr",
     "output_type": "stream",
     "text": [
      "Traceback (most recent call last):\n",
      "  File \"<ipython-input-12-ce7f870e485c>\", line 7, in <module>\n",
      "    baixa_acordao(num, path_to_pdf)\n",
      "  File \"<ipython-input-11-cc788343a120>\", line 31, in baixa_acordao\n",
      "    raise ValueError('Mais de um registro encontrado:', hits)\n",
      "ValueError: ('Mais de um registro encontrado:', 2)\n",
      "\n"
     ]
    },
    {
     "name": "stdout",
     "output_type": "stream",
     "text": [
      "Processando acórdão nº 106-15761\n",
      "Processando acórdão nº 104-23308\n",
      "Processando acórdão nº 1803-001578\n",
      "Processando acórdão nº 1803-000860\n",
      "Processando acórdão nº 9101-000843\n",
      "Processando acórdão nº 3201-003090\n",
      "Processando acórdão nº 206-01797\n",
      "Processando acórdão nº 2401-005513\n",
      "Processando acórdão nº 102-47301\n",
      "Processando acórdão nº 1202-00118\n"
     ]
    },
    {
     "name": "stderr",
     "output_type": "stream",
     "text": [
      "Traceback (most recent call last):\n",
      "  File \"<ipython-input-12-ce7f870e485c>\", line 7, in <module>\n",
      "    baixa_acordao(num, path_to_pdf)\n",
      "  File \"<ipython-input-11-cc788343a120>\", line 31, in baixa_acordao\n",
      "    raise ValueError('Mais de um registro encontrado:', hits)\n",
      "ValueError: ('Mais de um registro encontrado:', 21)\n",
      "\n"
     ]
    },
    {
     "name": "stdout",
     "output_type": "stream",
     "text": [
      "Processando acórdão nº 303-30029\n",
      "Processando acórdão nº 104-22316\n",
      "Processando acórdão nº 9101-003009\n",
      "Processando acórdão nº 103-22641\n",
      "Processando acórdão nº 192-00048\n",
      "Processando acórdão nº 9303-002165\n",
      "Processando acórdão nº 9303-007011\n",
      "Processando acórdão nº 193-00017\n",
      "Processando acórdão nº 3201-003461\n",
      "Processando acórdão nº 1401-00047\n"
     ]
    },
    {
     "name": "stderr",
     "output_type": "stream",
     "text": [
      "Traceback (most recent call last):\n",
      "  File \"<ipython-input-12-ce7f870e485c>\", line 7, in <module>\n",
      "    baixa_acordao(num, path_to_pdf)\n",
      "  File \"<ipython-input-11-cc788343a120>\", line 31, in baixa_acordao\n",
      "    raise ValueError('Mais de um registro encontrado:', hits)\n",
      "ValueError: ('Mais de um registro encontrado:', 53)\n",
      "\n"
     ]
    },
    {
     "name": "stdout",
     "output_type": "stream",
     "text": [
      "Processando acórdão nº 104-22484\n",
      "Processando acórdão nº 1103-00179\n"
     ]
    },
    {
     "name": "stderr",
     "output_type": "stream",
     "text": [
      "Traceback (most recent call last):\n",
      "  File \"<ipython-input-12-ce7f870e485c>\", line 7, in <module>\n",
      "    baixa_acordao(num, path_to_pdf)\n",
      "  File \"<ipython-input-11-cc788343a120>\", line 31, in baixa_acordao\n",
      "    raise ValueError('Mais de um registro encontrado:', hits)\n",
      "ValueError: ('Mais de um registro encontrado:', 4)\n",
      "\n"
     ]
    },
    {
     "name": "stdout",
     "output_type": "stream",
     "text": [
      "Processando acórdão nº 1402-002817\n",
      "Processando acórdão nº 206-00766\n",
      "Processando acórdão nº 302-39379\n",
      "Processando acórdão nº 2401-00181\n"
     ]
    },
    {
     "name": "stderr",
     "output_type": "stream",
     "text": [
      "Traceback (most recent call last):\n",
      "  File \"<ipython-input-12-ce7f870e485c>\", line 7, in <module>\n",
      "    baixa_acordao(num, path_to_pdf)\n",
      "  File \"<ipython-input-11-cc788343a120>\", line 31, in baixa_acordao\n",
      "    raise ValueError('Mais de um registro encontrado:', hits)\n",
      "ValueError: ('Mais de um registro encontrado:', 38)\n",
      "\n"
     ]
    },
    {
     "name": "stdout",
     "output_type": "stream",
     "text": [
      "Processando acórdão nº 101-96819\n",
      "Processando acórdão nº 105-16808\n",
      "Processando acórdão nº 1401-00377\n"
     ]
    },
    {
     "name": "stderr",
     "output_type": "stream",
     "text": [
      "Traceback (most recent call last):\n",
      "  File \"<ipython-input-12-ce7f870e485c>\", line 7, in <module>\n",
      "    baixa_acordao(num, path_to_pdf)\n",
      "  File \"<ipython-input-11-cc788343a120>\", line 31, in baixa_acordao\n",
      "    raise ValueError('Mais de um registro encontrado:', hits)\n",
      "ValueError: ('Mais de um registro encontrado:', 34)\n",
      "\n"
     ]
    },
    {
     "name": "stdout",
     "output_type": "stream",
     "text": [
      "Processando acórdão nº 1301-001233\n",
      "Processando acórdão nº 1201-00658\n"
     ]
    },
    {
     "name": "stderr",
     "output_type": "stream",
     "text": [
      "Traceback (most recent call last):\n",
      "  File \"<ipython-input-12-ce7f870e485c>\", line 7, in <module>\n",
      "    baixa_acordao(num, path_to_pdf)\n",
      "  File \"<ipython-input-11-cc788343a120>\", line 31, in baixa_acordao\n",
      "    raise ValueError('Mais de um registro encontrado:', hits)\n",
      "ValueError: ('Mais de um registro encontrado:', 6)\n",
      "\n"
     ]
    },
    {
     "name": "stdout",
     "output_type": "stream",
     "text": [
      "Processando acórdão nº 3801-004834\n",
      "Processando acórdão nº 203-06545\n",
      "Processando acórdão nº 1802-00084\n"
     ]
    },
    {
     "name": "stderr",
     "output_type": "stream",
     "text": [
      "Traceback (most recent call last):\n",
      "  File \"<ipython-input-12-ce7f870e485c>\", line 7, in <module>\n",
      "    baixa_acordao(num, path_to_pdf)\n",
      "  File \"<ipython-input-11-cc788343a120>\", line 31, in baixa_acordao\n",
      "    raise ValueError('Mais de um registro encontrado:', hits)\n",
      "ValueError: ('Mais de um registro encontrado:', 36)\n",
      "\n"
     ]
    },
    {
     "name": "stdout",
     "output_type": "stream",
     "text": [
      "Processando acórdão nº 3403-002516\n",
      "Processando acórdão nº 9303-003551\n",
      "Processando acórdão nº 302-37140\n",
      "Processando acórdão nº 102-46574\n",
      "Processando acórdão nº 1803-001263\n",
      "Processando acórdão nº 104-17093\n",
      "Processando acórdão nº 101-94876\n",
      "Processando acórdão nº 2201-002132\n",
      "Processando acórdão nº 301-34653\n",
      "Processando acórdão nº 192-00096\n",
      "Processando acórdão nº 1302-003215\n",
      "Processando acórdão nº 1402-002816\n",
      "Processando acórdão nº 104-23021\n",
      "Processando acórdão nº 103-21298\n",
      "Processando acórdão nº 9202-004017\n",
      "Processando acórdão nº 104-20204\n",
      "Processando acórdão nº 1102-00984\n",
      "Processando acórdão nº 104-23697\n",
      "Processando acórdão nº 1302-002979\n",
      "Processando acórdão nº 303-31446\n",
      "Processando acórdão nº 01-05497\n"
     ]
    },
    {
     "name": "stderr",
     "output_type": "stream",
     "text": [
      "Traceback (most recent call last):\n",
      "  File \"<ipython-input-12-ce7f870e485c>\", line 7, in <module>\n",
      "    baixa_acordao(num, path_to_pdf)\n",
      "  File \"<ipython-input-11-cc788343a120>\", line 31, in baixa_acordao\n",
      "    raise ValueError('Mais de um registro encontrado:', hits)\n",
      "ValueError: ('Mais de um registro encontrado:', 9)\n",
      "\n"
     ]
    },
    {
     "name": "stdout",
     "output_type": "stream",
     "text": [
      "Processando acórdão nº 102-49379\n",
      "Processando acórdão nº 205-01533\n",
      "Processando acórdão nº 302-36277\n",
      "Processando acórdão nº 201-77472\n",
      "Processando acórdão nº 201-80983\n",
      "Processando acórdão nº 9101-003147\n",
      "Processando acórdão nº 1402-001217\n"
     ]
    },
    {
     "name": "stderr",
     "output_type": "stream",
     "text": [
      "Traceback (most recent call last):\n",
      "  File \"<ipython-input-12-ce7f870e485c>\", line 7, in <module>\n",
      "    baixa_acordao(num, path_to_pdf)\n",
      "  File \"<ipython-input-11-cc788343a120>\", line 31, in baixa_acordao\n",
      "    raise ValueError('Mais de um registro encontrado:', hits)\n",
      "ValueError: ('Mais de um registro encontrado:', 2)\n",
      "\n"
     ]
    },
    {
     "name": "stdout",
     "output_type": "stream",
     "text": [
      "Processando acórdão nº 102-48953\n",
      "Processando acórdão nº 9202-002436\n",
      "Processando acórdão nº 9101-002514\n",
      "Processando acórdão nº 104-23093\n",
      "Processando acórdão nº 9303-005303\n",
      "Processando acórdão nº 9303-004909\n",
      "Processando acórdão nº 04-00873\n"
     ]
    },
    {
     "name": "stderr",
     "output_type": "stream",
     "text": [
      "Traceback (most recent call last):\n",
      "  File \"<ipython-input-12-ce7f870e485c>\", line 7, in <module>\n",
      "    baixa_acordao(num, path_to_pdf)\n",
      "  File \"<ipython-input-11-cc788343a120>\", line 31, in baixa_acordao\n",
      "    raise ValueError('Mais de um registro encontrado:', hits)\n",
      "ValueError: ('Mais de um registro encontrado:', 2)\n",
      "\n"
     ]
    },
    {
     "name": "stdout",
     "output_type": "stream",
     "text": [
      "Processando acórdão nº 2301-003452\n",
      "Processando acórdão nº 2202-004302\n",
      "Processando acórdão nº 2401-004759\n",
      "Processando acórdão nº 106-15545\n",
      "Processando acórdão nº 102-49251\n",
      "Processando acórdão nº 106-17245\n",
      "Processando acórdão nº 105-16365\n",
      "Processando acórdão nº 2202-003723\n",
      "Processando acórdão nº 105-15754\n",
      "Processando acórdão nº 2802-001581\n",
      "Processando acórdão nº 1301-002817\n",
      "Processando acórdão nº 9202-005304\n",
      "Processando acórdão nº 9303-006331\n",
      "Processando acórdão nº 9202-005355\n",
      "Processando acórdão nº 101-96093\n",
      "Processando acórdão nº 1402-00213\n"
     ]
    },
    {
     "name": "stderr",
     "output_type": "stream",
     "text": [
      "Traceback (most recent call last):\n",
      "  File \"<ipython-input-12-ce7f870e485c>\", line 7, in <module>\n",
      "    baixa_acordao(num, path_to_pdf)\n",
      "  File \"<ipython-input-11-cc788343a120>\", line 31, in baixa_acordao\n",
      "    raise ValueError('Mais de um registro encontrado:', hits)\n",
      "ValueError: ('Mais de um registro encontrado:', 33)\n",
      "\n"
     ]
    },
    {
     "name": "stdout",
     "output_type": "stream",
     "text": [
      "Processando acórdão nº 1201-00404\n"
     ]
    },
    {
     "name": "stderr",
     "output_type": "stream",
     "text": [
      "Traceback (most recent call last):\n",
      "  File \"<ipython-input-12-ce7f870e485c>\", line 7, in <module>\n",
      "    baixa_acordao(num, path_to_pdf)\n",
      "  File \"<ipython-input-11-cc788343a120>\", line 31, in baixa_acordao\n",
      "    raise ValueError('Mais de um registro encontrado:', hits)\n",
      "ValueError: ('Mais de um registro encontrado:', 33)\n",
      "\n"
     ]
    },
    {
     "name": "stdout",
     "output_type": "stream",
     "text": [
      "Processando acórdão nº 301-34613\n",
      "Processando acórdão nº 9202-01991\n",
      "Processando acórdão nº 9202-02086\n",
      "Processando acórdão nº 9101-002430\n",
      "Processando acórdão nº 1402-002173\n",
      "Processando acórdão nº 108-09668\n",
      "Processando acórdão nº 108-09252\n",
      "Processando acórdão nº 9101-002245\n",
      "Processando acórdão nº 1803-00426\n"
     ]
    },
    {
     "name": "stderr",
     "output_type": "stream",
     "text": [
      "Traceback (most recent call last):\n",
      "  File \"<ipython-input-12-ce7f870e485c>\", line 7, in <module>\n",
      "    baixa_acordao(num, path_to_pdf)\n",
      "  File \"<ipython-input-11-cc788343a120>\", line 31, in baixa_acordao\n",
      "    raise ValueError('Mais de um registro encontrado:', hits)\n",
      "ValueError: ('Mais de um registro encontrado:', 3)\n",
      "\n"
     ]
    },
    {
     "name": "stdout",
     "output_type": "stream",
     "text": [
      "Processando acórdão nº 1802-00495\n"
     ]
    },
    {
     "name": "stderr",
     "output_type": "stream",
     "text": [
      "Traceback (most recent call last):\n",
      "  File \"<ipython-input-12-ce7f870e485c>\", line 7, in <module>\n",
      "    baixa_acordao(num, path_to_pdf)\n",
      "  File \"<ipython-input-11-cc788343a120>\", line 31, in baixa_acordao\n",
      "    raise ValueError('Mais de um registro encontrado:', hits)\n",
      "ValueError: ('Mais de um registro encontrado:', 4)\n",
      "\n"
     ]
    },
    {
     "name": "stdout",
     "output_type": "stream",
     "text": [
      "Processando acórdão nº 105-16665\n",
      "Processando acórdão nº 106-17115\n",
      "Processando acórdão nº 2301-002575\n",
      "Processando acórdão nº 105-15685\n",
      "Processando acórdão nº 01-05384\n"
     ]
    },
    {
     "name": "stderr",
     "output_type": "stream",
     "text": [
      "Traceback (most recent call last):\n",
      "  File \"<ipython-input-12-ce7f870e485c>\", line 7, in <module>\n",
      "    baixa_acordao(num, path_to_pdf)\n",
      "  File \"<ipython-input-11-cc788343a120>\", line 31, in baixa_acordao\n",
      "    raise ValueError('Mais de um registro encontrado:', hits)\n",
      "ValueError: ('Mais de um registro encontrado:', 10)\n",
      "\n"
     ]
    },
    {
     "name": "stdout",
     "output_type": "stream",
     "text": [
      "Processando acórdão nº 203-09298\n",
      "Processando acórdão nº 9202-006632\n",
      "Processando acórdão nº 104-23367\n",
      "Processando acórdão nº 1302-001857\n",
      "Processando acórdão nº 9101-00308\n"
     ]
    },
    {
     "name": "stderr",
     "output_type": "stream",
     "text": [
      "Traceback (most recent call last):\n",
      "  File \"<ipython-input-12-ce7f870e485c>\", line 7, in <module>\n",
      "    baixa_acordao(num, path_to_pdf)\n",
      "  File \"<ipython-input-11-cc788343a120>\", line 31, in baixa_acordao\n",
      "    raise ValueError('Mais de um registro encontrado:', hits)\n",
      "ValueError: ('Mais de um registro encontrado:', 33)\n",
      "\n"
     ]
    },
    {
     "name": "stdout",
     "output_type": "stream",
     "text": [
      "Processando acórdão nº 9303-004949\n",
      "Processando acórdão nº 101-96910\n",
      "Processando acórdão nº 3302-004864\n",
      "Processando acórdão nº 1401-000788\n"
     ]
    },
    {
     "name": "stderr",
     "output_type": "stream",
     "text": [
      "Traceback (most recent call last):\n",
      "  File \"<ipython-input-12-ce7f870e485c>\", line 7, in <module>\n",
      "    baixa_acordao(num, path_to_pdf)\n",
      "  File \"<ipython-input-11-cc788343a120>\", line 31, in baixa_acordao\n",
      "    raise ValueError('Mais de um registro encontrado:', hits)\n",
      "ValueError: ('Mais de um registro encontrado:', 2)\n",
      "\n"
     ]
    },
    {
     "name": "stdout",
     "output_type": "stream",
     "text": [
      "Processando acórdão nº 206-01689\n",
      "Processando acórdão nº 301-31557\n",
      "Processando acórdão nº 1301-002432\n",
      "Processando acórdão nº 101-96683\n",
      "Processando acórdão nº 9202-003129\n",
      "Processando acórdão nº 9303-005190\n",
      "Processando acórdão nº 9303-007425\n",
      "Processando acórdão nº 2301-005121\n",
      "Processando acórdão nº 102-48858\n",
      "Processando acórdão nº 9101-000766\n",
      "Processando acórdão nº 2202-002804\n",
      "Processando acórdão nº 3401-003800\n",
      "Processando acórdão nº 9202-003706\n",
      "Processando acórdão nº 302-40013\n",
      "Processando acórdão nº 101-95938\n",
      "Processando acórdão nº 1402-002616\n",
      "Processando acórdão nº 9202-006043\n",
      "Processando acórdão nº 3201-00088\n"
     ]
    },
    {
     "name": "stderr",
     "output_type": "stream",
     "text": [
      "Traceback (most recent call last):\n",
      "  File \"<ipython-input-12-ce7f870e485c>\", line 7, in <module>\n",
      "    baixa_acordao(num, path_to_pdf)\n",
      "  File \"<ipython-input-11-cc788343a120>\", line 31, in baixa_acordao\n",
      "    raise ValueError('Mais de um registro encontrado:', hits)\n",
      "ValueError: ('Mais de um registro encontrado:', 66)\n",
      "\n"
     ]
    },
    {
     "name": "stdout",
     "output_type": "stream",
     "text": [
      "Processando acórdão nº 105-14814\n",
      "Processando acórdão nº 303-33607\n",
      "Processando acórdão nº 103-23254\n",
      "Processando acórdão nº 104-18397\n",
      "Processando acórdão nº 1301-000795\n"
     ]
    },
    {
     "name": "stderr",
     "output_type": "stream",
     "text": [
      "Traceback (most recent call last):\n",
      "  File \"<ipython-input-12-ce7f870e485c>\", line 7, in <module>\n",
      "    baixa_acordao(num, path_to_pdf)\n",
      "  File \"<ipython-input-11-cc788343a120>\", line 31, in baixa_acordao\n",
      "    raise ValueError('Mais de um registro encontrado:', hits)\n",
      "ValueError: ('Mais de um registro encontrado:', 2)\n",
      "\n"
     ]
    },
    {
     "name": "stdout",
     "output_type": "stream",
     "text": [
      "Processando acórdão nº 2401-00007\n"
     ]
    },
    {
     "name": "stderr",
     "output_type": "stream",
     "text": [
      "Traceback (most recent call last):\n",
      "  File \"<ipython-input-12-ce7f870e485c>\", line 7, in <module>\n",
      "    baixa_acordao(num, path_to_pdf)\n",
      "  File \"<ipython-input-11-cc788343a120>\", line 31, in baixa_acordao\n",
      "    raise ValueError('Mais de um registro encontrado:', hits)\n",
      "ValueError: ('Mais de um registro encontrado:', 63)\n",
      "\n"
     ]
    },
    {
     "name": "stdout",
     "output_type": "stream",
     "text": [
      "Processando acórdão nº 9101-002605\n",
      "Processando acórdão nº 9303-006343\n",
      "Processando acórdão nº 9101-002262\n",
      "Processando acórdão nº 105-17083\n",
      "Processando acórdão nº 2401-00182\n"
     ]
    },
    {
     "name": "stderr",
     "output_type": "stream",
     "text": [
      "Traceback (most recent call last):\n",
      "  File \"<ipython-input-12-ce7f870e485c>\", line 7, in <module>\n",
      "    baixa_acordao(num, path_to_pdf)\n",
      "  File \"<ipython-input-11-cc788343a120>\", line 31, in baixa_acordao\n",
      "    raise ValueError('Mais de um registro encontrado:', hits)\n",
      "ValueError: ('Mais de um registro encontrado:', 39)\n",
      "\n"
     ]
    },
    {
     "name": "stdout",
     "output_type": "stream",
     "text": [
      "Processando acórdão nº 201-74351\n",
      "Processando acórdão nº 1103-00486\n",
      "Processando acórdão nº 9202-006503\n",
      "Processando acórdão nº 04-00157\n"
     ]
    },
    {
     "name": "stderr",
     "output_type": "stream",
     "text": [
      "Traceback (most recent call last):\n",
      "  File \"<ipython-input-12-ce7f870e485c>\", line 7, in <module>\n",
      "    baixa_acordao(num, path_to_pdf)\n",
      "  File \"<ipython-input-11-cc788343a120>\", line 31, in baixa_acordao\n",
      "    raise ValueError('Mais de um registro encontrado:', hits)\n",
      "ValueError: ('Mais de um registro encontrado:', 3)\n",
      "\n"
     ]
    },
    {
     "name": "stdout",
     "output_type": "stream",
     "text": [
      "Processando acórdão nº 9202-007001\n",
      "Processando acórdão nº 104-20408\n",
      "Processando acórdão nº 9101-003239\n",
      "Processando acórdão nº 302-39932\n",
      "Processando acórdão nº 103-21225\n",
      "Processando acórdão nº 9101-003094\n",
      "Processando acórdão nº 3102-002316\n",
      "Processando acórdão nº 106-16440\n",
      "Processando acórdão nº 104-19834\n",
      "Processando acórdão nº 9303-007706\n",
      "Processando acórdão nº 3403-002298\n",
      "Processando acórdão nº 2401-00556\n"
     ]
    },
    {
     "name": "stderr",
     "output_type": "stream",
     "text": [
      "Traceback (most recent call last):\n",
      "  File \"<ipython-input-12-ce7f870e485c>\", line 7, in <module>\n",
      "    baixa_acordao(num, path_to_pdf)\n",
      "  File \"<ipython-input-11-cc788343a120>\", line 31, in baixa_acordao\n",
      "    raise ValueError('Mais de um registro encontrado:', hits)\n",
      "ValueError: ('Mais de um registro encontrado:', 37)\n",
      "\n"
     ]
    },
    {
     "name": "stdout",
     "output_type": "stream",
     "text": [
      "Processando acórdão nº 9202-006578\n",
      "Processando acórdão nº 201-77505\n",
      "Processando acórdão nº 9303-006389\n",
      "Processando acórdão nº 105-14586\n",
      "Processando acórdão nº 106-12302\n",
      "Processando acórdão nº 301-34624\n",
      "Processando acórdão nº 198-00028\n",
      "Processando acórdão nº 2301-00246\n"
     ]
    },
    {
     "name": "stderr",
     "output_type": "stream",
     "text": [
      "Traceback (most recent call last):\n",
      "  File \"<ipython-input-12-ce7f870e485c>\", line 7, in <module>\n",
      "    baixa_acordao(num, path_to_pdf)\n",
      "  File \"<ipython-input-11-cc788343a120>\", line 31, in baixa_acordao\n",
      "    raise ValueError('Mais de um registro encontrado:', hits)\n",
      "ValueError: ('Mais de um registro encontrado:', 36)\n",
      "\n"
     ]
    },
    {
     "name": "stdout",
     "output_type": "stream",
     "text": [
      "Processando acórdão nº 2301-002281\n"
     ]
    },
    {
     "name": "stderr",
     "output_type": "stream",
     "text": [
      "Traceback (most recent call last):\n",
      "  File \"<ipython-input-12-ce7f870e485c>\", line 7, in <module>\n",
      "    baixa_acordao(num, path_to_pdf)\n",
      "  File \"<ipython-input-11-cc788343a120>\", line 31, in baixa_acordao\n",
      "    raise ValueError('Mais de um registro encontrado:', hits)\n",
      "ValueError: ('Mais de um registro encontrado:', 2)\n",
      "\n"
     ]
    },
    {
     "name": "stdout",
     "output_type": "stream",
     "text": [
      "Processando acórdão nº 2102-003245\n",
      "Processando acórdão nº 1402-002182\n",
      "Processando acórdão nº 302-38888\n",
      "Processando acórdão nº 3402-004899\n",
      "Processando acórdão nº 103-21239\n",
      "Processando acórdão nº 202-14867\n",
      "Processando acórdão nº 106-16701\n",
      "Processando acórdão nº 106-16925\n",
      "Processando acórdão nº 01-05892\n"
     ]
    },
    {
     "name": "stderr",
     "output_type": "stream",
     "text": [
      "Traceback (most recent call last):\n",
      "  File \"<ipython-input-12-ce7f870e485c>\", line 7, in <module>\n",
      "    baixa_acordao(num, path_to_pdf)\n",
      "  File \"<ipython-input-11-cc788343a120>\", line 31, in baixa_acordao\n",
      "    raise ValueError('Mais de um registro encontrado:', hits)\n",
      "ValueError: ('Mais de um registro encontrado:', 6)\n",
      "\n"
     ]
    },
    {
     "name": "stdout",
     "output_type": "stream",
     "text": [
      "Processando acórdão nº 01-05174\n"
     ]
    },
    {
     "name": "stderr",
     "output_type": "stream",
     "text": [
      "Traceback (most recent call last):\n",
      "  File \"<ipython-input-12-ce7f870e485c>\", line 7, in <module>\n",
      "    baixa_acordao(num, path_to_pdf)\n",
      "  File \"<ipython-input-11-cc788343a120>\", line 31, in baixa_acordao\n",
      "    raise ValueError('Mais de um registro encontrado:', hits)\n",
      "ValueError: ('Mais de um registro encontrado:', 11)\n",
      "\n"
     ]
    },
    {
     "name": "stdout",
     "output_type": "stream",
     "text": [
      "Processando acórdão nº 101-95433\n",
      "Processando acórdão nº 303-32636\n",
      "Processando acórdão nº 2202-003907\n",
      "Processando acórdão nº 9202-005488\n",
      "Processando acórdão nº 3402-002469\n"
     ]
    },
    {
     "name": "stderr",
     "output_type": "stream",
     "text": [
      "Traceback (most recent call last):\n",
      "  File \"<ipython-input-12-ce7f870e485c>\", line 7, in <module>\n",
      "    baixa_acordao(num, path_to_pdf)\n",
      "  File \"<ipython-input-11-cc788343a120>\", line 31, in baixa_acordao\n",
      "    raise ValueError('Mais de um registro encontrado:', hits)\n",
      "ValueError: ('Mais de um registro encontrado:', 2)\n",
      "\n"
     ]
    },
    {
     "name": "stdout",
     "output_type": "stream",
     "text": [
      "Processando acórdão nº 204-00405\n",
      "Processando acórdão nº 01-05405\n"
     ]
    },
    {
     "name": "stderr",
     "output_type": "stream",
     "text": [
      "Traceback (most recent call last):\n",
      "  File \"<ipython-input-12-ce7f870e485c>\", line 7, in <module>\n",
      "    baixa_acordao(num, path_to_pdf)\n",
      "  File \"<ipython-input-11-cc788343a120>\", line 31, in baixa_acordao\n",
      "    raise ValueError('Mais de um registro encontrado:', hits)\n",
      "ValueError: ('Mais de um registro encontrado:', 9)\n",
      "\n"
     ]
    },
    {
     "name": "stdout",
     "output_type": "stream",
     "text": [
      "Processando acórdão nº 9101-00949\n"
     ]
    },
    {
     "name": "stderr",
     "output_type": "stream",
     "text": [
      "Traceback (most recent call last):\n",
      "  File \"<ipython-input-12-ce7f870e485c>\", line 7, in <module>\n",
      "    baixa_acordao(num, path_to_pdf)\n",
      "  File \"<ipython-input-11-cc788343a120>\", line 31, in baixa_acordao\n",
      "    raise ValueError('Mais de um registro encontrado:', hits)\n",
      "ValueError: ('Mais de um registro encontrado:', 5)\n",
      "\n"
     ]
    },
    {
     "name": "stdout",
     "output_type": "stream",
     "text": [
      "Processando acórdão nº 9101-00773\n"
     ]
    },
    {
     "name": "stderr",
     "output_type": "stream",
     "text": [
      "Traceback (most recent call last):\n",
      "  File \"<ipython-input-12-ce7f870e485c>\", line 7, in <module>\n",
      "    baixa_acordao(num, path_to_pdf)\n",
      "  File \"<ipython-input-11-cc788343a120>\", line 31, in baixa_acordao\n",
      "    raise ValueError('Mais de um registro encontrado:', hits)\n",
      "ValueError: ('Mais de um registro encontrado:', 5)\n",
      "\n"
     ]
    },
    {
     "name": "stdout",
     "output_type": "stream",
     "text": [
      "Processando acórdão nº 1201-001395\n",
      "Processando acórdão nº 1302-002291\n",
      "Processando acórdão nº 9303-005262\n",
      "Processando acórdão nº 9202-002596\n",
      "Processando acórdão nº 1103-00043\n"
     ]
    },
    {
     "name": "stderr",
     "output_type": "stream",
     "text": [
      "Traceback (most recent call last):\n",
      "  File \"<ipython-input-12-ce7f870e485c>\", line 7, in <module>\n",
      "    baixa_acordao(num, path_to_pdf)\n",
      "  File \"<ipython-input-11-cc788343a120>\", line 31, in baixa_acordao\n",
      "    raise ValueError('Mais de um registro encontrado:', hits)\n",
      "ValueError: ('Mais de um registro encontrado:', 30)\n",
      "\n"
     ]
    },
    {
     "name": "stdout",
     "output_type": "stream",
     "text": [
      "Processando acórdão nº 393-00021\n",
      "Processando acórdão nº 106-17050\n",
      "Processando acórdão nº 302-40046\n",
      "Processando acórdão nº 9202-00873\n"
     ]
    },
    {
     "name": "stderr",
     "output_type": "stream",
     "text": [
      "Traceback (most recent call last):\n",
      "  File \"<ipython-input-12-ce7f870e485c>\", line 7, in <module>\n",
      "    baixa_acordao(num, path_to_pdf)\n",
      "  File \"<ipython-input-11-cc788343a120>\", line 31, in baixa_acordao\n",
      "    raise ValueError('Mais de um registro encontrado:', hits)\n",
      "ValueError: ('Mais de um registro encontrado:', 36)\n",
      "\n"
     ]
    },
    {
     "name": "stdout",
     "output_type": "stream",
     "text": [
      "Processando acórdão nº 01-05654\n"
     ]
    },
    {
     "name": "stderr",
     "output_type": "stream",
     "text": [
      "Traceback (most recent call last):\n",
      "  File \"<ipython-input-12-ce7f870e485c>\", line 7, in <module>\n",
      "    baixa_acordao(num, path_to_pdf)\n",
      "  File \"<ipython-input-11-cc788343a120>\", line 31, in baixa_acordao\n",
      "    raise ValueError('Mais de um registro encontrado:', hits)\n",
      "ValueError: ('Mais de um registro encontrado:', 7)\n",
      "\n"
     ]
    },
    {
     "name": "stdout",
     "output_type": "stream",
     "text": [
      "Processando acórdão nº 103-23202\n",
      "Processando acórdão nº 107-07772\n",
      "Processando acórdão nº 2401-00249\n"
     ]
    },
    {
     "name": "stderr",
     "output_type": "stream",
     "text": [
      "Traceback (most recent call last):\n",
      "  File \"<ipython-input-12-ce7f870e485c>\", line 7, in <module>\n",
      "    baixa_acordao(num, path_to_pdf)\n",
      "  File \"<ipython-input-11-cc788343a120>\", line 31, in baixa_acordao\n",
      "    raise ValueError('Mais de um registro encontrado:', hits)\n",
      "ValueError: ('Mais de um registro encontrado:', 46)\n",
      "\n"
     ]
    },
    {
     "name": "stdout",
     "output_type": "stream",
     "text": [
      "Processando acórdão nº 101-96652\n",
      "Processando acórdão nº 9101-002696\n",
      "Processando acórdão nº 105-14047\n",
      "Processando acórdão nº 105-17110\n",
      "Processando acórdão nº 2401-00564\n"
     ]
    },
    {
     "name": "stderr",
     "output_type": "stream",
     "text": [
      "Traceback (most recent call last):\n",
      "  File \"<ipython-input-12-ce7f870e485c>\", line 7, in <module>\n",
      "    baixa_acordao(num, path_to_pdf)\n",
      "  File \"<ipython-input-11-cc788343a120>\", line 31, in baixa_acordao\n",
      "    raise ValueError('Mais de um registro encontrado:', hits)\n",
      "ValueError: ('Mais de um registro encontrado:', 38)\n",
      "\n"
     ]
    },
    {
     "name": "stdout",
     "output_type": "stream",
     "text": [
      "Processando acórdão nº 04-00409\n"
     ]
    },
    {
     "name": "stderr",
     "output_type": "stream",
     "text": [
      "Traceback (most recent call last):\n",
      "  File \"<ipython-input-12-ce7f870e485c>\", line 7, in <module>\n",
      "    baixa_acordao(num, path_to_pdf)\n",
      "  File \"<ipython-input-11-cc788343a120>\", line 31, in baixa_acordao\n",
      "    raise ValueError('Mais de um registro encontrado:', hits)\n",
      "ValueError: ('Mais de um registro encontrado:', 2)\n",
      "\n"
     ]
    },
    {
     "name": "stdout",
     "output_type": "stream",
     "text": [
      "Processando acórdão nº 108-06421\n",
      "Processando acórdão nº 3301-001683\n",
      "Processando acórdão nº 296-00105\n",
      "Processando acórdão nº 9101-00020\n"
     ]
    },
    {
     "name": "stderr",
     "output_type": "stream",
     "text": [
      "Traceback (most recent call last):\n",
      "  File \"<ipython-input-12-ce7f870e485c>\", line 7, in <module>\n",
      "    baixa_acordao(num, path_to_pdf)\n",
      "  File \"<ipython-input-11-cc788343a120>\", line 31, in baixa_acordao\n",
      "    raise ValueError('Mais de um registro encontrado:', hits)\n",
      "ValueError: ('Mais de um registro encontrado:', 34)\n",
      "\n"
     ]
    },
    {
     "name": "stdout",
     "output_type": "stream",
     "text": [
      "Processando acórdão nº 105-16674\n",
      "Processando acórdão nº 3302-002097\n",
      "Processando acórdão nº 9101-001671\n",
      "Processando acórdão nº 201-76985\n",
      "Processando acórdão nº 201-76923\n",
      "Processando acórdão nº 202-11760\n",
      "Processando acórdão nº 01-05383\n"
     ]
    },
    {
     "name": "stderr",
     "output_type": "stream",
     "text": [
      "Traceback (most recent call last):\n",
      "  File \"<ipython-input-12-ce7f870e485c>\", line 7, in <module>\n",
      "    baixa_acordao(num, path_to_pdf)\n",
      "  File \"<ipython-input-11-cc788343a120>\", line 31, in baixa_acordao\n",
      "    raise ValueError('Mais de um registro encontrado:', hits)\n",
      "ValueError: ('Mais de um registro encontrado:', 9)\n",
      "\n"
     ]
    },
    {
     "name": "stdout",
     "output_type": "stream",
     "text": [
      "Processando acórdão nº 2402-006114\n",
      "Processando acórdão nº 1803-00728\n"
     ]
    },
    {
     "name": "stderr",
     "output_type": "stream",
     "text": [
      "Traceback (most recent call last):\n",
      "  File \"<ipython-input-12-ce7f870e485c>\", line 7, in <module>\n",
      "    baixa_acordao(num, path_to_pdf)\n",
      "  File \"<ipython-input-11-cc788343a120>\", line 31, in baixa_acordao\n",
      "    raise ValueError('Mais de um registro encontrado:', hits)\n",
      "ValueError: ('Mais de um registro encontrado:', 2)\n",
      "\n"
     ]
    },
    {
     "name": "stdout",
     "output_type": "stream",
     "text": [
      "Processando acórdão nº 3101-00305\n"
     ]
    },
    {
     "name": "stderr",
     "output_type": "stream",
     "text": [
      "Traceback (most recent call last):\n",
      "  File \"<ipython-input-12-ce7f870e485c>\", line 7, in <module>\n",
      "    baixa_acordao(num, path_to_pdf)\n",
      "  File \"<ipython-input-11-cc788343a120>\", line 31, in baixa_acordao\n",
      "    raise ValueError('Mais de um registro encontrado:', hits)\n",
      "ValueError: ('Mais de um registro encontrado:', 3)\n",
      "\n"
     ]
    },
    {
     "name": "stdout",
     "output_type": "stream",
     "text": [
      "Processando acórdão nº 2401-002299\n",
      "Processando acórdão nº 9101-002209\n",
      "Processando acórdão nº 303-35538\n",
      "Processando acórdão nº 101-94619\n",
      "Processando acórdão nº 106-13820\n",
      "Processando acórdão nº 104-22425\n",
      "Processando acórdão nº 9303-008194\n",
      "Processando acórdão nº 1102-000824\n",
      "Processando acórdão nº 9202-003846\n",
      "Processando acórdão nº 3402-004149\n",
      "Processando acórdão nº 302-35499\n",
      "Processando acórdão nº 101-97094\n"
     ]
    },
    {
     "name": "stderr",
     "output_type": "stream",
     "text": [
      "Traceback (most recent call last):\n",
      "  File \"<ipython-input-12-ce7f870e485c>\", line 7, in <module>\n",
      "    baixa_acordao(num, path_to_pdf)\n",
      "  File \"<ipython-input-11-cc788343a120>\", line 31, in baixa_acordao\n",
      "    raise ValueError('Mais de um registro encontrado:', hits)\n",
      "ValueError: ('Mais de um registro encontrado:', 2)\n",
      "\n"
     ]
    },
    {
     "name": "stdout",
     "output_type": "stream",
     "text": [
      "Processando acórdão nº 9202-01895\n",
      "Processando acórdão nº 01-05624\n"
     ]
    },
    {
     "name": "stderr",
     "output_type": "stream",
     "text": [
      "Traceback (most recent call last):\n",
      "  File \"<ipython-input-12-ce7f870e485c>\", line 7, in <module>\n",
      "    baixa_acordao(num, path_to_pdf)\n",
      "  File \"<ipython-input-11-cc788343a120>\", line 31, in baixa_acordao\n",
      "    raise ValueError('Mais de um registro encontrado:', hits)\n",
      "ValueError: ('Mais de um registro encontrado:', 7)\n",
      "\n"
     ]
    },
    {
     "name": "stdout",
     "output_type": "stream",
     "text": [
      "Processando acórdão nº 9202-005577\n",
      "Processando acórdão nº 9303-002721\n",
      "Processando acórdão nº 105-14009\n",
      "Processando acórdão nº 9303-006509\n",
      "Processando acórdão nº 2201-003486\n",
      "Processando acórdão nº 201-78612\n",
      "Processando acórdão nº 1301-002667\n",
      "Processando acórdão nº 9303-01486\n"
     ]
    },
    {
     "name": "stderr",
     "output_type": "stream",
     "text": [
      "Traceback (most recent call last):\n",
      "  File \"<ipython-input-12-ce7f870e485c>\", line 7, in <module>\n",
      "    baixa_acordao(num, path_to_pdf)\n",
      "  File \"<ipython-input-11-cc788343a120>\", line 31, in baixa_acordao\n",
      "    raise ValueError('Mais de um registro encontrado:', hits)\n",
      "ValueError: ('Mais de um registro encontrado:', 3)\n",
      "\n"
     ]
    },
    {
     "name": "stdout",
     "output_type": "stream",
     "text": [
      "Processando acórdão nº 1302-002660\n",
      "Processando acórdão nº 2402-00985\n"
     ]
    },
    {
     "name": "stderr",
     "output_type": "stream",
     "text": [
      "Traceback (most recent call last):\n",
      "  File \"<ipython-input-12-ce7f870e485c>\", line 7, in <module>\n",
      "    baixa_acordao(num, path_to_pdf)\n",
      "  File \"<ipython-input-11-cc788343a120>\", line 31, in baixa_acordao\n",
      "    raise ValueError('Mais de um registro encontrado:', hits)\n",
      "ValueError: ('Mais de um registro encontrado:', 37)\n",
      "\n"
     ]
    },
    {
     "name": "stdout",
     "output_type": "stream",
     "text": [
      "Processando acórdão nº 3201-00520\n"
     ]
    },
    {
     "name": "stderr",
     "output_type": "stream",
     "text": [
      "Traceback (most recent call last):\n",
      "  File \"<ipython-input-12-ce7f870e485c>\", line 7, in <module>\n",
      "    baixa_acordao(num, path_to_pdf)\n",
      "  File \"<ipython-input-11-cc788343a120>\", line 31, in baixa_acordao\n",
      "    raise ValueError('Mais de um registro encontrado:', hits)\n",
      "ValueError: ('Mais de um registro encontrado:', 34)\n",
      "\n"
     ]
    },
    {
     "name": "stdout",
     "output_type": "stream",
     "text": [
      "Processando acórdão nº 9101-003985\n",
      "Processando acórdão nº 301-31961\n",
      "Processando acórdão nº 104-20957\n",
      "Processando acórdão nº 195-00027\n",
      "Processando acórdão nº 106-15679\n",
      "Processando acórdão nº 9101-001863\n",
      "Processando acórdão nº 104-22049\n",
      "Processando acórdão nº 104-20276\n",
      "Processando acórdão nº 3302-005\n"
     ]
    },
    {
     "name": "stderr",
     "output_type": "stream",
     "text": [
      "Traceback (most recent call last):\n",
      "  File \"<ipython-input-12-ce7f870e485c>\", line 7, in <module>\n",
      "    baixa_acordao(num, path_to_pdf)\n",
      "  File \"<ipython-input-11-cc788343a120>\", line 31, in baixa_acordao\n",
      "    raise ValueError('Mais de um registro encontrado:', hits)\n",
      "ValueError: ('Mais de um registro encontrado:', 4074)\n",
      "\n"
     ]
    },
    {
     "name": "stdout",
     "output_type": "stream",
     "text": [
      "Processando acórdão nº 9202-006208\n",
      "Processando acórdão nº 104-23108\n",
      "Processando acórdão nº 9202-005211\n",
      "Processando acórdão nº 1302-003149\n",
      "Processando acórdão nº 108-06305\n",
      "Processando acórdão nº 1101-000991\n",
      "Processando acórdão nº 303-30903\n",
      "Processando acórdão nº 9202-00053\n"
     ]
    },
    {
     "name": "stderr",
     "output_type": "stream",
     "text": [
      "Traceback (most recent call last):\n",
      "  File \"<ipython-input-12-ce7f870e485c>\", line 7, in <module>\n",
      "    baixa_acordao(num, path_to_pdf)\n",
      "  File \"<ipython-input-11-cc788343a120>\", line 31, in baixa_acordao\n",
      "    raise ValueError('Mais de um registro encontrado:', hits)\n",
      "ValueError: ('Mais de um registro encontrado:', 37)\n",
      "\n"
     ]
    },
    {
     "name": "stdout",
     "output_type": "stream",
     "text": [
      "Processando acórdão nº 105-16896\n",
      "Processando acórdão nº 103-23541\n",
      "Processando acórdão nº 202-16141\n",
      "Processando acórdão nº 201-74300\n",
      "Processando acórdão nº 101-96039\n",
      "Processando acórdão nº 103-21900\n",
      "Processando acórdão nº 107-08068\n",
      "Processando acórdão nº 3402-00145\n"
     ]
    },
    {
     "name": "stderr",
     "output_type": "stream",
     "text": [
      "Traceback (most recent call last):\n",
      "  File \"<ipython-input-12-ce7f870e485c>\", line 7, in <module>\n",
      "    baixa_acordao(num, path_to_pdf)\n",
      "  File \"<ipython-input-11-cc788343a120>\", line 31, in baixa_acordao\n",
      "    raise ValueError('Mais de um registro encontrado:', hits)\n",
      "ValueError: ('Mais de um registro encontrado:', 61)\n",
      "\n"
     ]
    },
    {
     "name": "stdout",
     "output_type": "stream",
     "text": [
      "Processando acórdão nº 9303-006001\n",
      "Processando acórdão nº 01-06056\n"
     ]
    },
    {
     "name": "stderr",
     "output_type": "stream",
     "text": [
      "Traceback (most recent call last):\n",
      "  File \"<ipython-input-12-ce7f870e485c>\", line 7, in <module>\n",
      "    baixa_acordao(num, path_to_pdf)\n",
      "  File \"<ipython-input-11-cc788343a120>\", line 31, in baixa_acordao\n",
      "    raise ValueError('Mais de um registro encontrado:', hits)\n",
      "ValueError: ('Mais de um registro encontrado:', 7)\n",
      "\n"
     ]
    },
    {
     "name": "stdout",
     "output_type": "stream",
     "text": [
      "Processando acórdão nº 3301-002123\n",
      "Processando acórdão nº 202-18868\n",
      "Processando acórdão nº 3201-003344\n",
      "Processando acórdão nº 204-00079\n"
     ]
    },
    {
     "name": "stderr",
     "output_type": "stream",
     "text": [
      "Traceback (most recent call last):\n",
      "  File \"<ipython-input-12-ce7f870e485c>\", line 7, in <module>\n",
      "    baixa_acordao(num, path_to_pdf)\n",
      "  File \"<ipython-input-11-cc788343a120>\", line 31, in baixa_acordao\n",
      "    raise ValueError('Mais de um registro encontrado:', hits)\n",
      "ValueError: ('Mais de um registro encontrado:', 3)\n",
      "\n"
     ]
    },
    {
     "name": "stdout",
     "output_type": "stream",
     "text": [
      "Processando acórdão nº 01-05465\n"
     ]
    },
    {
     "name": "stderr",
     "output_type": "stream",
     "text": [
      "Traceback (most recent call last):\n",
      "  File \"<ipython-input-12-ce7f870e485c>\", line 7, in <module>\n",
      "    baixa_acordao(num, path_to_pdf)\n",
      "  File \"<ipython-input-11-cc788343a120>\", line 31, in baixa_acordao\n",
      "    raise ValueError('Mais de um registro encontrado:', hits)\n",
      "ValueError: ('Mais de um registro encontrado:', 9)\n",
      "\n"
     ]
    },
    {
     "name": "stdout",
     "output_type": "stream",
     "text": [
      "Processando acórdão nº 9101-000809\n",
      "Processando acórdão nº 2301-004531\n",
      "Processando acórdão nº 1103-00672\n",
      "Processando acórdão nº 195-00110\n",
      "Processando acórdão nº 201-77691\n",
      "Processando acórdão nº 3301-00809\n"
     ]
    },
    {
     "name": "stderr",
     "output_type": "stream",
     "text": [
      "Traceback (most recent call last):\n",
      "  File \"<ipython-input-12-ce7f870e485c>\", line 7, in <module>\n",
      "    baixa_acordao(num, path_to_pdf)\n",
      "  File \"<ipython-input-11-cc788343a120>\", line 31, in baixa_acordao\n",
      "    raise ValueError('Mais de um registro encontrado:', hits)\n",
      "ValueError: ('Mais de um registro encontrado:', 38)\n",
      "\n"
     ]
    },
    {
     "name": "stdout",
     "output_type": "stream",
     "text": [
      "Processando acórdão nº 301-31127\n",
      "Processando acórdão nº 9202-006961\n",
      "Processando acórdão nº 3201-002449\n"
     ]
    },
    {
     "name": "stderr",
     "output_type": "stream",
     "text": [
      "Traceback (most recent call last):\n",
      "  File \"<ipython-input-12-ce7f870e485c>\", line 7, in <module>\n",
      "    baixa_acordao(num, path_to_pdf)\n",
      "  File \"<ipython-input-11-cc788343a120>\", line 31, in baixa_acordao\n",
      "    raise ValueError('Mais de um registro encontrado:', hits)\n",
      "ValueError: ('Mais de um registro encontrado:', 2)\n",
      "\n"
     ]
    },
    {
     "name": "stdout",
     "output_type": "stream",
     "text": [
      "Processando acórdão nº 103-22779\n",
      "Processando acórdão nº 202-15455\n",
      "Processando acórdão nº 01-05820\n"
     ]
    },
    {
     "name": "stderr",
     "output_type": "stream",
     "text": [
      "Traceback (most recent call last):\n",
      "  File \"<ipython-input-12-ce7f870e485c>\", line 7, in <module>\n",
      "    baixa_acordao(num, path_to_pdf)\n",
      "  File \"<ipython-input-11-cc788343a120>\", line 31, in baixa_acordao\n",
      "    raise ValueError('Mais de um registro encontrado:', hits)\n",
      "ValueError: ('Mais de um registro encontrado:', 6)\n",
      "\n"
     ]
    },
    {
     "name": "stdout",
     "output_type": "stream",
     "text": [
      "Processando acórdão nº 102-48799\n",
      "Processando acórdão nº 108-09029\n",
      "Processando acórdão nº 1402-001416\n",
      "Processando acórdão nº 3202-000455\n",
      "Processando acórdão nº 1402-002111\n",
      "Processando acórdão nº 302-40049\n",
      "Processando acórdão nº 107-05840\n",
      "Processando acórdão nº 9900-000459\n",
      "Processando acórdão nº 101-96195\n",
      "Processando acórdão nº 9202-003130\n",
      "Processando acórdão nº 1302-001502\n",
      "Processando acórdão nº 2401-005253\n",
      "Processando acórdão nº 9303-004905\n",
      "Processando acórdão nº 9101-003062\n",
      "Processando acórdão nº 9202-003405\n",
      "Processando acórdão nº 106-16730\n",
      "Processando acórdão nº 9303-007454\n",
      "Processando acórdão nº 2301-01476\n",
      "Processando acórdão nº 9101-00406\n"
     ]
    },
    {
     "name": "stderr",
     "output_type": "stream",
     "text": [
      "Traceback (most recent call last):\n",
      "  File \"<ipython-input-12-ce7f870e485c>\", line 7, in <module>\n",
      "    baixa_acordao(num, path_to_pdf)\n",
      "  File \"<ipython-input-11-cc788343a120>\", line 31, in baixa_acordao\n",
      "    raise ValueError('Mais de um registro encontrado:', hits)\n",
      "ValueError: ('Mais de um registro encontrado:', 33)\n",
      "\n"
     ]
    },
    {
     "name": "stdout",
     "output_type": "stream",
     "text": [
      "Processando acórdão nº 2301-005109\n",
      "Processando acórdão nº 1401-001886\n",
      "Processando acórdão nº 104-18935\n",
      "Processando acórdão nº 9303-006670\n",
      "Processando acórdão nº 3201-004121\n",
      "Processando acórdão nº 9303-007067\n",
      "Processando acórdão nº 1401-000848\n",
      "Processando acórdão nº 2202-004015\n",
      "Processando acórdão nº 9202-005739\n",
      "Processando acórdão nº 203-09664\n",
      "Processando acórdão nº 9303-002251\n",
      "Processando acórdão nº 1402-001460\n",
      "Processando acórdão nº 202-15674\n",
      "Processando acórdão nº 9202-01806\n",
      "Processando acórdão nº 3302-001448\n"
     ]
    },
    {
     "name": "stderr",
     "output_type": "stream",
     "text": [
      "Traceback (most recent call last):\n",
      "  File \"<ipython-input-12-ce7f870e485c>\", line 7, in <module>\n",
      "    baixa_acordao(num, path_to_pdf)\n",
      "  File \"<ipython-input-11-cc788343a120>\", line 31, in baixa_acordao\n",
      "    raise ValueError('Mais de um registro encontrado:', hits)\n",
      "ValueError: ('Mais de um registro encontrado:', 2)\n",
      "\n"
     ]
    },
    {
     "name": "stdout",
     "output_type": "stream",
     "text": [
      "Processando acórdão nº 201-80751\n",
      "Processando acórdão nº 9101-00774\n"
     ]
    },
    {
     "name": "stderr",
     "output_type": "stream",
     "text": [
      "Traceback (most recent call last):\n",
      "  File \"<ipython-input-12-ce7f870e485c>\", line 7, in <module>\n",
      "    baixa_acordao(num, path_to_pdf)\n",
      "  File \"<ipython-input-11-cc788343a120>\", line 31, in baixa_acordao\n",
      "    raise ValueError('Mais de um registro encontrado:', hits)\n",
      "ValueError: ('Mais de um registro encontrado:', 5)\n",
      "\n"
     ]
    },
    {
     "name": "stdout",
     "output_type": "stream",
     "text": [
      "Processando acórdão nº 393-00054\n",
      "Processando acórdão nº 9303-007747\n",
      "Processando acórdão nº 3101-00664\n"
     ]
    },
    {
     "name": "stderr",
     "output_type": "stream",
     "text": [
      "Traceback (most recent call last):\n",
      "  File \"<ipython-input-12-ce7f870e485c>\", line 7, in <module>\n",
      "    baixa_acordao(num, path_to_pdf)\n",
      "  File \"<ipython-input-11-cc788343a120>\", line 31, in baixa_acordao\n",
      "    raise ValueError('Mais de um registro encontrado:', hits)\n",
      "ValueError: ('Mais de um registro encontrado:', 2)\n",
      "\n"
     ]
    },
    {
     "name": "stdout",
     "output_type": "stream",
     "text": [
      "Processando acórdão nº 3301-004056\n",
      "Processando acórdão nº 9101-00017\n"
     ]
    },
    {
     "name": "stderr",
     "output_type": "stream",
     "text": [
      "Traceback (most recent call last):\n",
      "  File \"<ipython-input-12-ce7f870e485c>\", line 7, in <module>\n",
      "    baixa_acordao(num, path_to_pdf)\n",
      "  File \"<ipython-input-11-cc788343a120>\", line 31, in baixa_acordao\n",
      "    raise ValueError('Mais de um registro encontrado:', hits)\n",
      "ValueError: ('Mais de um registro encontrado:', 34)\n",
      "\n"
     ]
    },
    {
     "name": "stdout",
     "output_type": "stream",
     "text": [
      "Processando acórdão nº 04-01176\n"
     ]
    },
    {
     "name": "stderr",
     "output_type": "stream",
     "text": [
      "Traceback (most recent call last):\n",
      "  File \"<ipython-input-12-ce7f870e485c>\", line 7, in <module>\n",
      "    baixa_acordao(num, path_to_pdf)\n",
      "  File \"<ipython-input-11-cc788343a120>\", line 31, in baixa_acordao\n",
      "    raise ValueError('Mais de um registro encontrado:', hits)\n",
      "ValueError: ('Mais de um registro encontrado:', 2)\n",
      "\n"
     ]
    },
    {
     "name": "stdout",
     "output_type": "stream",
     "text": [
      "Processando acórdão nº 9303-007539\n",
      "Processando acórdão nº 9303-005423\n",
      "Processando acórdão nº 105-16815\n",
      "Processando acórdão nº 2201-003715\n",
      "Processando acórdão nº 104-23325\n",
      "Processando acórdão nº 201-78131\n",
      "Processando acórdão nº 3102-001988\n",
      "Processando acórdão nº 202-15366\n",
      "Processando acórdão nº 3302-006328\n",
      "Processando acórdão nº 2301-005194\n",
      "Processando acórdão nº 107-08732\n",
      "Processando acórdão nº 3804-00063\n",
      "Processando acórdão nº 105-17082\n",
      "Processando acórdão nº 9202-004345\n",
      "Processando acórdão nº 01-06004\n"
     ]
    },
    {
     "name": "stderr",
     "output_type": "stream",
     "text": [
      "Traceback (most recent call last):\n",
      "  File \"<ipython-input-12-ce7f870e485c>\", line 7, in <module>\n",
      "    baixa_acordao(num, path_to_pdf)\n",
      "  File \"<ipython-input-11-cc788343a120>\", line 31, in baixa_acordao\n",
      "    raise ValueError('Mais de um registro encontrado:', hits)\n",
      "ValueError: ('Mais de um registro encontrado:', 7)\n",
      "\n"
     ]
    },
    {
     "name": "stdout",
     "output_type": "stream",
     "text": [
      "Processando acórdão nº 9900-000767\n",
      "Processando acórdão nº 107-09202\n",
      "Processando acórdão nº 102-45909\n",
      "Processando acórdão nº 205-00680\n",
      "Processando acórdão nº 206-01351\n",
      "Processando acórdão nº 103-22990\n",
      "Processando acórdão nº 9101-00503\n"
     ]
    },
    {
     "name": "stderr",
     "output_type": "stream",
     "text": [
      "Traceback (most recent call last):\n",
      "  File \"<ipython-input-12-ce7f870e485c>\", line 7, in <module>\n",
      "    baixa_acordao(num, path_to_pdf)\n",
      "  File \"<ipython-input-11-cc788343a120>\", line 31, in baixa_acordao\n",
      "    raise ValueError('Mais de um registro encontrado:', hits)\n",
      "ValueError: ('Mais de um registro encontrado:', 28)\n",
      "\n"
     ]
    },
    {
     "name": "stdout",
     "output_type": "stream",
     "text": [
      "Processando acórdão nº 1103-00277\n",
      "Processando acórdão nº 1402-01217\n"
     ]
    },
    {
     "name": "stderr",
     "output_type": "stream",
     "text": [
      "Traceback (most recent call last):\n",
      "  File \"<ipython-input-12-ce7f870e485c>\", line 7, in <module>\n",
      "    baixa_acordao(num, path_to_pdf)\n",
      "  File \"<ipython-input-11-cc788343a120>\", line 31, in baixa_acordao\n",
      "    raise ValueError('Mais de um registro encontrado:', hits)\n",
      "ValueError: ('Mais de um registro encontrado:', 2)\n",
      "\n"
     ]
    },
    {
     "name": "stdout",
     "output_type": "stream",
     "text": [
      "Processando acórdão nº 1101-000961\n",
      "Processando acórdão nº 103-19964\n",
      "Processando acórdão nº 101-96213\n",
      "Processando acórdão nº 104-19081\n",
      "Processando acórdão nº 1103-00522\n",
      "Processando acórdão nº 2202-002782\n",
      "Processando acórdão nº 102-47949\n",
      "Processando acórdão nº 9202-006304\n",
      "Processando acórdão nº 103-22842\n",
      "Processando acórdão nº 1803-00002\n"
     ]
    },
    {
     "name": "stderr",
     "output_type": "stream",
     "text": [
      "Traceback (most recent call last):\n",
      "  File \"<ipython-input-12-ce7f870e485c>\", line 7, in <module>\n",
      "    baixa_acordao(num, path_to_pdf)\n",
      "  File \"<ipython-input-11-cc788343a120>\", line 31, in baixa_acordao\n",
      "    raise ValueError('Mais de um registro encontrado:', hits)\n",
      "ValueError: ('Mais de um registro encontrado:', 45)\n",
      "\n"
     ]
    },
    {
     "name": "stdout",
     "output_type": "stream",
     "text": [
      "Processando acórdão nº 2401-003108\n",
      "Processando acórdão nº 206-00819\n",
      "Processando acórdão nº 104-22932\n",
      "Processando acórdão nº 203-11272\n",
      "Processando acórdão nº 302-35740\n",
      "Processando acórdão nº 3804-00078\n",
      "Processando acórdão nº 1301-002488\n",
      "Processando acórdão nº 104-19806\n",
      "Processando acórdão nº 101-96625\n",
      "Processando acórdão nº 301-34801\n",
      "Processando acórdão nº 1101-00135\n"
     ]
    },
    {
     "name": "stderr",
     "output_type": "stream",
     "text": [
      "Traceback (most recent call last):\n",
      "  File \"<ipython-input-12-ce7f870e485c>\", line 7, in <module>\n",
      "    baixa_acordao(num, path_to_pdf)\n",
      "  File \"<ipython-input-11-cc788343a120>\", line 31, in baixa_acordao\n",
      "    raise ValueError('Mais de um registro encontrado:', hits)\n",
      "ValueError: ('Mais de um registro encontrado:', 5)\n",
      "\n"
     ]
    },
    {
     "name": "stdout",
     "output_type": "stream",
     "text": [
      "Processando acórdão nº 302-38594\n",
      "Processando acórdão nº 104-22409\n",
      "Processando acórdão nº 9202-005100\n",
      "Processando acórdão nº 04-00762\n"
     ]
    },
    {
     "name": "stderr",
     "output_type": "stream",
     "text": [
      "Traceback (most recent call last):\n",
      "  File \"<ipython-input-12-ce7f870e485c>\", line 7, in <module>\n",
      "    baixa_acordao(num, path_to_pdf)\n",
      "  File \"<ipython-input-11-cc788343a120>\", line 31, in baixa_acordao\n",
      "    raise ValueError('Mais de um registro encontrado:', hits)\n",
      "ValueError: ('Mais de um registro encontrado:', 2)\n",
      "\n"
     ]
    },
    {
     "name": "stdout",
     "output_type": "stream",
     "text": [
      "Processando acórdão nº 9101-002804\n",
      "Processando acórdão nº 2201-002433\n",
      "Processando acórdão nº 201-79179\n",
      "Processando acórdão nº 201-80363\n",
      "Processando acórdão nº 2201-003800\n",
      "Processando acórdão nº 203-07934\n",
      "Processando acórdão nº 302-40038\n",
      "Processando acórdão nº 301-33218\n",
      "Processando acórdão nº 1201-002645\n",
      "Processando acórdão nº 102-49451\n",
      "Processando acórdão nº 9202-003245\n",
      "Processando acórdão nº 107-05870\n",
      "Processando acórdão nº 301-30745\n",
      "Processando acórdão nº 01-05388\n"
     ]
    },
    {
     "name": "stderr",
     "output_type": "stream",
     "text": [
      "Traceback (most recent call last):\n",
      "  File \"<ipython-input-12-ce7f870e485c>\", line 7, in <module>\n",
      "    baixa_acordao(num, path_to_pdf)\n",
      "  File \"<ipython-input-11-cc788343a120>\", line 31, in baixa_acordao\n",
      "    raise ValueError('Mais de um registro encontrado:', hits)\n",
      "ValueError: ('Mais de um registro encontrado:', 9)\n",
      "\n"
     ]
    },
    {
     "name": "stdout",
     "output_type": "stream",
     "text": [
      "Processando acórdão nº 106-13534\n",
      "Processando acórdão nº 1401-000996\n",
      "Processando acórdão nº 1202-00740\n",
      "Processando acórdão nº 201-78848\n",
      "Processando acórdão nº 1803-001507\n",
      "Processando acórdão nº 105-15943\n",
      "Processando acórdão nº 9303-003812\n",
      "Processando acórdão nº 9202-005984\n",
      "Processando acórdão nº 01-05653\n"
     ]
    },
    {
     "name": "stderr",
     "output_type": "stream",
     "text": [
      "Traceback (most recent call last):\n",
      "  File \"<ipython-input-12-ce7f870e485c>\", line 7, in <module>\n",
      "    baixa_acordao(num, path_to_pdf)\n",
      "  File \"<ipython-input-11-cc788343a120>\", line 31, in baixa_acordao\n",
      "    raise ValueError('Mais de um registro encontrado:', hits)\n",
      "ValueError: ('Mais de um registro encontrado:', 7)\n",
      "\n"
     ]
    },
    {
     "name": "stdout",
     "output_type": "stream",
     "text": [
      "Processando acórdão nº 9101-002684\n",
      "Processando acórdão nº 202-14887\n",
      "Processando acórdão nº 1402-00219\n"
     ]
    },
    {
     "name": "stderr",
     "output_type": "stream",
     "text": [
      "Traceback (most recent call last):\n",
      "  File \"<ipython-input-12-ce7f870e485c>\", line 7, in <module>\n",
      "    baixa_acordao(num, path_to_pdf)\n",
      "  File \"<ipython-input-11-cc788343a120>\", line 31, in baixa_acordao\n",
      "    raise ValueError('Mais de um registro encontrado:', hits)\n",
      "ValueError: ('Mais de um registro encontrado:', 33)\n",
      "\n"
     ]
    },
    {
     "name": "stdout",
     "output_type": "stream",
     "text": [
      "Processando acórdão nº 9101-002212\n",
      "Processando acórdão nº 9202-004250\n",
      "Processando acórdão nº 202-18608\n",
      "Processando acórdão nº 9101-001518\n",
      "Processando acórdão nº 01-05616\n"
     ]
    },
    {
     "name": "stderr",
     "output_type": "stream",
     "text": [
      "Traceback (most recent call last):\n",
      "  File \"<ipython-input-12-ce7f870e485c>\", line 7, in <module>\n",
      "    baixa_acordao(num, path_to_pdf)\n",
      "  File \"<ipython-input-11-cc788343a120>\", line 31, in baixa_acordao\n",
      "    raise ValueError('Mais de um registro encontrado:', hits)\n",
      "ValueError: ('Mais de um registro encontrado:', 7)\n",
      "\n"
     ]
    },
    {
     "name": "stdout",
     "output_type": "stream",
     "text": [
      "Processando acórdão nº 102-49298\n",
      "Processando acórdão nº 1401-002122\n",
      "Processando acórdão nº 2402-006084\n",
      "Processando acórdão nº 201-79\n"
     ]
    },
    {
     "name": "stderr",
     "output_type": "stream",
     "text": [
      "Traceback (most recent call last):\n",
      "  File \"<ipython-input-12-ce7f870e485c>\", line 7, in <module>\n",
      "    baixa_acordao(num, path_to_pdf)\n",
      "  File \"<ipython-input-11-cc788343a120>\", line 31, in baixa_acordao\n",
      "    raise ValueError('Mais de um registro encontrado:', hits)\n",
      "ValueError: ('Mais de um registro encontrado:', 7762)\n",
      "\n"
     ]
    },
    {
     "name": "stdout",
     "output_type": "stream",
     "text": [
      "Processando acórdão nº 301-32120\n",
      "Processando acórdão nº 2301-004005\n",
      "Processando acórdão nº 104-22564\n",
      "Processando acórdão nº 3802-001643\n",
      "Processando acórdão nº 105-14773\n",
      "Processando acórdão nº 3201-000007\n",
      "Processando acórdão nº 2401-005029\n",
      "Processando acórdão nº 1802-01087\n",
      "Processando acórdão nº 103-23290\n",
      "Processando acórdão nº 2401-004499\n",
      "Processando acórdão nº 2102-01186\n",
      "Processando acórdão nº 9303-01806\n"
     ]
    },
    {
     "name": "stderr",
     "output_type": "stream",
     "text": [
      "Traceback (most recent call last):\n",
      "  File \"<ipython-input-12-ce7f870e485c>\", line 7, in <module>\n",
      "    baixa_acordao(num, path_to_pdf)\n",
      "  File \"<ipython-input-11-cc788343a120>\", line 31, in baixa_acordao\n",
      "    raise ValueError('Mais de um registro encontrado:', hits)\n",
      "ValueError: ('Mais de um registro encontrado:', 2)\n",
      "\n"
     ]
    },
    {
     "name": "stdout",
     "output_type": "stream",
     "text": [
      "Processando acórdão nº 1402-00338\n"
     ]
    },
    {
     "name": "stderr",
     "output_type": "stream",
     "text": [
      "Traceback (most recent call last):\n",
      "  File \"<ipython-input-12-ce7f870e485c>\", line 7, in <module>\n",
      "    baixa_acordao(num, path_to_pdf)\n",
      "  File \"<ipython-input-11-cc788343a120>\", line 31, in baixa_acordao\n",
      "    raise ValueError('Mais de um registro encontrado:', hits)\n",
      "ValueError: ('Mais de um registro encontrado:', 34)\n",
      "\n"
     ]
    },
    {
     "name": "stdout",
     "output_type": "stream",
     "text": [
      "Processando acórdão nº 1302-002549\n",
      "Processando acórdão nº 206-00463\n",
      "Processando acórdão nº 206-01535\n",
      "Processando acórdão nº 01-05032\n"
     ]
    },
    {
     "name": "stderr",
     "output_type": "stream",
     "text": [
      "Traceback (most recent call last):\n",
      "  File \"<ipython-input-12-ce7f870e485c>\", line 7, in <module>\n",
      "    baixa_acordao(num, path_to_pdf)\n",
      "  File \"<ipython-input-11-cc788343a120>\", line 31, in baixa_acordao\n",
      "    raise ValueError('Mais de um registro encontrado:', hits)\n",
      "ValueError: ('Mais de um registro encontrado:', 11)\n",
      "\n"
     ]
    },
    {
     "name": "stdout",
     "output_type": "stream",
     "text": [
      "Processando acórdão nº 2302-00594\n"
     ]
    },
    {
     "name": "stderr",
     "output_type": "stream",
     "text": [
      "Traceback (most recent call last):\n",
      "  File \"<ipython-input-12-ce7f870e485c>\", line 7, in <module>\n",
      "    baixa_acordao(num, path_to_pdf)\n",
      "  File \"<ipython-input-11-cc788343a120>\", line 31, in baixa_acordao\n",
      "    raise ValueError('Mais de um registro encontrado:', hits)\n",
      "ValueError: ('Mais de um registro encontrado:', 5)\n",
      "\n"
     ]
    },
    {
     "name": "stdout",
     "output_type": "stream",
     "text": [
      "Processando acórdão nº 104-20368\n",
      "Processando acórdão nº 108-09603\n",
      "Processando acórdão nº 04-00651\n"
     ]
    },
    {
     "name": "stderr",
     "output_type": "stream",
     "text": [
      "Traceback (most recent call last):\n",
      "  File \"<ipython-input-12-ce7f870e485c>\", line 7, in <module>\n",
      "    baixa_acordao(num, path_to_pdf)\n",
      "  File \"<ipython-input-11-cc788343a120>\", line 31, in baixa_acordao\n",
      "    raise ValueError('Mais de um registro encontrado:', hits)\n",
      "ValueError: ('Mais de um registro encontrado:', 2)\n",
      "\n"
     ]
    },
    {
     "name": "stdout",
     "output_type": "stream",
     "text": [
      "Processando acórdão nº 9303-005419\n",
      "Processando acórdão nº 302-39144\n",
      "Processando acórdão nº 03-06233\n"
     ]
    },
    {
     "name": "stderr",
     "output_type": "stream",
     "text": [
      "Traceback (most recent call last):\n",
      "  File \"<ipython-input-12-ce7f870e485c>\", line 7, in <module>\n",
      "    baixa_acordao(num, path_to_pdf)\n",
      "  File \"<ipython-input-11-cc788343a120>\", line 31, in baixa_acordao\n",
      "    raise ValueError('Mais de um registro encontrado:', hits)\n",
      "ValueError: ('Mais de um registro encontrado:', 4)\n",
      "\n"
     ]
    },
    {
     "name": "stdout",
     "output_type": "stream",
     "text": [
      "Processando acórdão nº 1402-00320\n"
     ]
    },
    {
     "name": "stderr",
     "output_type": "stream",
     "text": [
      "Traceback (most recent call last):\n",
      "  File \"<ipython-input-12-ce7f870e485c>\", line 7, in <module>\n",
      "    baixa_acordao(num, path_to_pdf)\n",
      "  File \"<ipython-input-11-cc788343a120>\", line 31, in baixa_acordao\n",
      "    raise ValueError('Mais de um registro encontrado:', hits)\n",
      "ValueError: ('Mais de um registro encontrado:', 35)\n",
      "\n"
     ]
    },
    {
     "name": "stdout",
     "output_type": "stream",
     "text": [
      "Processando acórdão nº 1101-00626\n",
      "Processando acórdão nº 1401-002049\n",
      "Processando acórdão nº 3102-002141\n",
      "Processando acórdão nº 201-76699\n",
      "Processando acórdão nº 202-15750\n",
      "Processando acórdão nº 1302-00620\n"
     ]
    },
    {
     "name": "stderr",
     "output_type": "stream",
     "text": [
      "Traceback (most recent call last):\n",
      "  File \"<ipython-input-12-ce7f870e485c>\", line 7, in <module>\n",
      "    baixa_acordao(num, path_to_pdf)\n",
      "  File \"<ipython-input-11-cc788343a120>\", line 31, in baixa_acordao\n",
      "    raise ValueError('Mais de um registro encontrado:', hits)\n",
      "ValueError: ('Mais de um registro encontrado:', 6)\n",
      "\n"
     ]
    },
    {
     "name": "stdout",
     "output_type": "stream",
     "text": [
      "Processando acórdão nº 107-07733\n",
      "Processando acórdão nº 106-16561\n",
      "Processando acórdão nº 3803-00045\n"
     ]
    },
    {
     "name": "stderr",
     "output_type": "stream",
     "text": [
      "Traceback (most recent call last):\n",
      "  File \"<ipython-input-12-ce7f870e485c>\", line 7, in <module>\n",
      "    baixa_acordao(num, path_to_pdf)\n",
      "  File \"<ipython-input-11-cc788343a120>\", line 31, in baixa_acordao\n",
      "    raise ValueError('Mais de um registro encontrado:', hits)\n",
      "ValueError: ('Mais de um registro encontrado:', 28)\n",
      "\n"
     ]
    },
    {
     "name": "stdout",
     "output_type": "stream",
     "text": [
      "Processando acórdão nº 101-96215\n",
      "Processando acórdão nº 105-16359\n",
      "Processando acórdão nº 1301-002011\n",
      "Processando acórdão nº 106-16123\n",
      "Processando acórdão nº 202-15325\n",
      "Processando acórdão nº 9101-002340\n",
      "Processando acórdão nº 101-96319\n",
      "Processando acórdão nº 303-31882\n",
      "Processando acórdão nº 9303-006474\n",
      "Processando acórdão nº 9101-003131\n",
      "Processando acórdão nº 3201-003645\n",
      "Processando acórdão nº 1803-01159\n",
      "Processando acórdão nº 9303-007437\n",
      "Processando acórdão nº 3021-0088\n",
      "Processando acórdão nº 101-94218\n",
      "Processando acórdão nº 01-04663\n"
     ]
    },
    {
     "name": "stderr",
     "output_type": "stream",
     "text": [
      "Traceback (most recent call last):\n",
      "  File \"<ipython-input-12-ce7f870e485c>\", line 7, in <module>\n",
      "    baixa_acordao(num, path_to_pdf)\n",
      "  File \"<ipython-input-11-cc788343a120>\", line 31, in baixa_acordao\n",
      "    raise ValueError('Mais de um registro encontrado:', hits)\n",
      "ValueError: ('Mais de um registro encontrado:', 11)\n",
      "\n"
     ]
    },
    {
     "name": "stdout",
     "output_type": "stream",
     "text": [
      "Processando acórdão nº 103-23005\n",
      "Processando acórdão nº 3402-00396\n"
     ]
    },
    {
     "name": "stderr",
     "output_type": "stream",
     "text": [
      "Traceback (most recent call last):\n",
      "  File \"<ipython-input-12-ce7f870e485c>\", line 7, in <module>\n",
      "    baixa_acordao(num, path_to_pdf)\n",
      "  File \"<ipython-input-11-cc788343a120>\", line 31, in baixa_acordao\n",
      "    raise ValueError('Mais de um registro encontrado:', hits)\n",
      "ValueError: ('Mais de um registro encontrado:', 37)\n",
      "\n"
     ]
    },
    {
     "name": "stdout",
     "output_type": "stream",
     "text": [
      "Processando acórdão nº 1401-002278\n",
      "Processando acórdão nº 106-16727\n",
      "Processando acórdão nº 102-45558\n",
      "Processando acórdão nº 301-31917\n",
      "Processando acórdão nº 104-23395\n",
      "Processando acórdão nº 9303-005195\n",
      "Processando acórdão nº 202-15223\n",
      "Processando acórdão nº 1402-001541\n",
      "Processando acórdão nº 3101-001160\n",
      "Processando acórdão nº 302-39602\n",
      "Processando acórdão nº 103-22679\n",
      "Processando acórdão nº 301-32112\n",
      "Processando acórdão nº 2202-004088\n",
      "Processando acórdão nº 303-33810\n",
      "Processando acórdão nº 2301-01396\n",
      "Processando acórdão nº 301-34747\n",
      "Processando acórdão nº 107-09125\n",
      "Processando acórdão nº 2202-003644\n",
      "Processando acórdão nº 102-48163\n",
      "Processando acórdão nº 192-00010\n"
     ]
    },
    {
     "name": "stderr",
     "output_type": "stream",
     "text": [
      "Traceback (most recent call last):\n",
      "  File \"<ipython-input-12-ce7f870e485c>\", line 7, in <module>\n",
      "    baixa_acordao(num, path_to_pdf)\n",
      "  File \"<ipython-input-11-cc788343a120>\", line 31, in baixa_acordao\n",
      "    raise ValueError('Mais de um registro encontrado:', hits)\n",
      "ValueError: ('Mais de um registro encontrado:', 2)\n",
      "\n"
     ]
    },
    {
     "name": "stdout",
     "output_type": "stream",
     "text": [
      "Processando acórdão nº 2201-004001\n",
      "Processando acórdão nº 1101-000627\n",
      "Processando acórdão nº 206-01405\n",
      "Processando acórdão nº 202-15269\n",
      "Processando acórdão nº 101-95949\n",
      "Processando acórdão nº 9202-006205\n",
      "Processando acórdão nº 102-49353\n",
      "Processando acórdão nº 1101-00756\n",
      "Processando acórdão nº 9101-003258\n",
      "Processando acórdão nº 108-07742\n",
      "Processando acórdão nº 9303-004714\n",
      "Processando acórdão nº 2402-002521\n",
      "Processando acórdão nº 1202-000990\n",
      "Processando acórdão nº 3403-003029\n",
      "Processando acórdão nº 107-09452\n",
      "Processando acórdão nº 9101-002325\n",
      "Processando acórdão nº 1301-001137\n",
      "Processando acórdão nº 2401-005593\n",
      "Processando acórdão nº 9202-00876\n"
     ]
    },
    {
     "name": "stderr",
     "output_type": "stream",
     "text": [
      "Traceback (most recent call last):\n",
      "  File \"<ipython-input-12-ce7f870e485c>\", line 7, in <module>\n",
      "    baixa_acordao(num, path_to_pdf)\n",
      "  File \"<ipython-input-11-cc788343a120>\", line 31, in baixa_acordao\n",
      "    raise ValueError('Mais de um registro encontrado:', hits)\n",
      "ValueError: ('Mais de um registro encontrado:', 36)\n",
      "\n"
     ]
    },
    {
     "name": "stdout",
     "output_type": "stream",
     "text": [
      "Processando acórdão nº 2802-00641\n"
     ]
    },
    {
     "name": "stderr",
     "output_type": "stream",
     "text": [
      "Traceback (most recent call last):\n",
      "  File \"<ipython-input-12-ce7f870e485c>\", line 7, in <module>\n",
      "    baixa_acordao(num, path_to_pdf)\n",
      "  File \"<ipython-input-11-cc788343a120>\", line 31, in baixa_acordao\n",
      "    raise ValueError('Mais de um registro encontrado:', hits)\n",
      "ValueError: ('Mais de um registro encontrado:', 3)\n",
      "\n"
     ]
    },
    {
     "name": "stdout",
     "output_type": "stream",
     "text": [
      "Processando acórdão nº 102-49394\n",
      "Processando acórdão nº 202-15515\n",
      "Processando acórdão nº 301-30589\n",
      "Processando acórdão nº 3102-002198\n",
      "Processando acórdão nº 03201-002029\n"
     ]
    },
    {
     "name": "stderr",
     "output_type": "stream",
     "text": [
      "Traceback (most recent call last):\n",
      "  File \"<ipython-input-12-ce7f870e485c>\", line 7, in <module>\n",
      "    baixa_acordao(num, path_to_pdf)\n",
      "  File \"<ipython-input-11-cc788343a120>\", line 26, in baixa_acordao\n",
      "    raise ValueError('Nenhum registro encontrado')\n",
      "ValueError: Nenhum registro encontrado\n",
      "\n"
     ]
    },
    {
     "name": "stdout",
     "output_type": "stream",
     "text": [
      "Processando acórdão nº 1301-001096\n",
      "Processando acórdão nº 02-03257\n"
     ]
    },
    {
     "name": "stderr",
     "output_type": "stream",
     "text": [
      "Traceback (most recent call last):\n",
      "  File \"<ipython-input-12-ce7f870e485c>\", line 7, in <module>\n",
      "    baixa_acordao(num, path_to_pdf)\n",
      "  File \"<ipython-input-11-cc788343a120>\", line 31, in baixa_acordao\n",
      "    raise ValueError('Mais de um registro encontrado:', hits)\n",
      "ValueError: ('Mais de um registro encontrado:', 13)\n",
      "\n"
     ]
    },
    {
     "name": "stdout",
     "output_type": "stream",
     "text": [
      "Processando acórdão nº 104-22877\n",
      "Processando acórdão nº 2401-005053\n",
      "Processando acórdão nº 3803-00520\n"
     ]
    },
    {
     "name": "stderr",
     "output_type": "stream",
     "text": [
      "Traceback (most recent call last):\n",
      "  File \"<ipython-input-12-ce7f870e485c>\", line 7, in <module>\n",
      "    baixa_acordao(num, path_to_pdf)\n",
      "  File \"<ipython-input-11-cc788343a120>\", line 31, in baixa_acordao\n",
      "    raise ValueError('Mais de um registro encontrado:', hits)\n",
      "ValueError: ('Mais de um registro encontrado:', 34)\n",
      "\n"
     ]
    },
    {
     "name": "stdout",
     "output_type": "stream",
     "text": [
      "Processando acórdão nº 1401-002044\n",
      "Processando acórdão nº 101-95544\n",
      "Processando acórdão nº 9101-001559\n",
      "Processando acórdão nº 1402-002197\n",
      "Processando acórdão nº 2202-003846\n",
      "Processando acórdão nº 9303-002400\n",
      "Processando acórdão nº 108-05892\n",
      "Processando acórdão nº 9202-006516\n",
      "Processando acórdão nº 106-16761\n",
      "Processando acórdão nº 9303-003385\n",
      "Processando acórdão nº 1402-002074\n",
      "Processando acórdão nº 105-17260\n",
      "Processando acórdão nº 104-19410\n",
      "Processando acórdão nº 301-32390\n",
      "Processando acórdão nº 1301-00132\n"
     ]
    },
    {
     "name": "stderr",
     "output_type": "stream",
     "text": [
      "Traceback (most recent call last):\n",
      "  File \"<ipython-input-12-ce7f870e485c>\", line 7, in <module>\n",
      "    baixa_acordao(num, path_to_pdf)\n",
      "  File \"<ipython-input-11-cc788343a120>\", line 31, in baixa_acordao\n",
      "    raise ValueError('Mais de um registro encontrado:', hits)\n",
      "ValueError: ('Mais de um registro encontrado:', 32)\n",
      "\n"
     ]
    },
    {
     "name": "stdout",
     "output_type": "stream",
     "text": [
      "Processando acórdão nº 3403-001590\n",
      "Processando acórdão nº 107-07331\n",
      "Processando acórdão nº 1301-003020\n",
      "Processando acórdão nº 9303-01985\n"
     ]
    },
    {
     "name": "stderr",
     "output_type": "stream",
     "text": [
      "Traceback (most recent call last):\n",
      "  File \"<ipython-input-12-ce7f870e485c>\", line 7, in <module>\n",
      "    baixa_acordao(num, path_to_pdf)\n",
      "  File \"<ipython-input-11-cc788343a120>\", line 31, in baixa_acordao\n",
      "    raise ValueError('Mais de um registro encontrado:', hits)\n",
      "ValueError: ('Mais de um registro encontrado:', 2)\n",
      "\n"
     ]
    },
    {
     "name": "stdout",
     "output_type": "stream",
     "text": [
      "Processando acórdão nº 202-15782\n",
      "Processando acórdão nº 3202-003057\n"
     ]
    },
    {
     "name": "stderr",
     "output_type": "stream",
     "text": [
      "Traceback (most recent call last):\n",
      "  File \"<ipython-input-12-ce7f870e485c>\", line 7, in <module>\n",
      "    baixa_acordao(num, path_to_pdf)\n",
      "  File \"<ipython-input-11-cc788343a120>\", line 26, in baixa_acordao\n",
      "    raise ValueError('Nenhum registro encontrado')\n",
      "ValueError: Nenhum registro encontrado\n",
      "\n"
     ]
    },
    {
     "name": "stdout",
     "output_type": "stream",
     "text": [
      "Processando acórdão nº 1402-002413\n",
      "Processando acórdão nº 303-33518\n",
      "Processando acórdão nº 3803-003586\n",
      "Processando acórdão nº 1103-00379\n",
      "Processando acórdão nº 3202-000695\n",
      "Processando acórdão nº 3802-001488\n",
      "Processando acórdão nº 104-23097\n",
      "Processando acórdão nº 9101-001203\n",
      "Processando acórdão nº 3403-002901\n",
      "Processando acórdão nº 1402-00238\n"
     ]
    },
    {
     "name": "stderr",
     "output_type": "stream",
     "text": [
      "Traceback (most recent call last):\n",
      "  File \"<ipython-input-12-ce7f870e485c>\", line 7, in <module>\n",
      "    baixa_acordao(num, path_to_pdf)\n",
      "  File \"<ipython-input-11-cc788343a120>\", line 31, in baixa_acordao\n",
      "    raise ValueError('Mais de um registro encontrado:', hits)\n",
      "ValueError: ('Mais de um registro encontrado:', 34)\n",
      "\n"
     ]
    },
    {
     "name": "stdout",
     "output_type": "stream",
     "text": [
      "Processando acórdão nº 303-35854\n",
      "Processando acórdão nº 1301-002212\n",
      "Processando acórdão nº 9101-001522\n",
      "Processando acórdão nº 3401-004381\n",
      "Processando acórdão nº 101-97110\n",
      "Processando acórdão nº 2401-004795\n",
      "Processando acórdão nº 1301-000999\n"
     ]
    },
    {
     "name": "stderr",
     "output_type": "stream",
     "text": [
      "Traceback (most recent call last):\n",
      "  File \"<ipython-input-12-ce7f870e485c>\", line 7, in <module>\n",
      "    baixa_acordao(num, path_to_pdf)\n",
      "  File \"<ipython-input-11-cc788343a120>\", line 31, in baixa_acordao\n",
      "    raise ValueError('Mais de um registro encontrado:', hits)\n",
      "ValueError: ('Mais de um registro encontrado:', 2)\n",
      "\n"
     ]
    },
    {
     "name": "stdout",
     "output_type": "stream",
     "text": [
      "Processando acórdão nº 201-71773\n",
      "Processando acórdão nº 3801-00165\n"
     ]
    },
    {
     "name": "stderr",
     "output_type": "stream",
     "text": [
      "Traceback (most recent call last):\n",
      "  File \"<ipython-input-12-ce7f870e485c>\", line 7, in <module>\n",
      "    baixa_acordao(num, path_to_pdf)\n",
      "  File \"<ipython-input-11-cc788343a120>\", line 31, in baixa_acordao\n",
      "    raise ValueError('Mais de um registro encontrado:', hits)\n",
      "ValueError: ('Mais de um registro encontrado:', 31)\n",
      "\n"
     ]
    },
    {
     "name": "stdout",
     "output_type": "stream",
     "text": [
      "Processando acórdão nº 106-16977\n",
      "Processando acórdão nº 101-94511\n",
      "Processando acórdão nº 1302-002001\n",
      "Processando acórdão nº 102-46872\n",
      "Processando acórdão nº 1302-001750\n",
      "Processando acórdão nº 2102-002585\n",
      "Processando acórdão nº 202-14635\n",
      "Processando acórdão nº 9101-001474\n",
      "Processando acórdão nº 3401-003271\n",
      "Processando acórdão nº 1801-001485\n",
      "Processando acórdão nº 203-09811\n",
      "Processando acórdão nº 9202-006\n"
     ]
    },
    {
     "name": "stderr",
     "output_type": "stream",
     "text": [
      "Traceback (most recent call last):\n",
      "  File \"<ipython-input-12-ce7f870e485c>\", line 7, in <module>\n",
      "    baixa_acordao(num, path_to_pdf)\n",
      "  File \"<ipython-input-11-cc788343a120>\", line 31, in baixa_acordao\n",
      "    raise ValueError('Mais de um registro encontrado:', hits)\n",
      "ValueError: ('Mais de um registro encontrado:', 3302)\n",
      "\n"
     ]
    },
    {
     "name": "stdout",
     "output_type": "stream",
     "text": [
      "Processando acórdão nº 01-06043\n"
     ]
    },
    {
     "name": "stderr",
     "output_type": "stream",
     "text": [
      "Traceback (most recent call last):\n",
      "  File \"<ipython-input-12-ce7f870e485c>\", line 7, in <module>\n",
      "    baixa_acordao(num, path_to_pdf)\n",
      "  File \"<ipython-input-11-cc788343a120>\", line 31, in baixa_acordao\n",
      "    raise ValueError('Mais de um registro encontrado:', hits)\n",
      "ValueError: ('Mais de um registro encontrado:', 7)\n",
      "\n"
     ]
    },
    {
     "name": "stdout",
     "output_type": "stream",
     "text": [
      "Processando acórdão nº 9101-001853\n",
      "Processando acórdão nº 101-96185\n",
      "Processando acórdão nº 301-34680\n",
      "Processando acórdão nº 1401-002634\n",
      "Processando acórdão nº 106-17118\n",
      "Processando acórdão nº 301-30738\n",
      "Processando acórdão nº 103-21113\n",
      "Processando acórdão nº 101-96353\n",
      "Processando acórdão nº 9202-006473\n",
      "Processando acórdão nº 1102-001104\n",
      "Processando acórdão nº 3202-001239\n",
      "Processando acórdão nº 9303-005172\n",
      "Processando acórdão nº 1301-002961\n",
      "Processando acórdão nº 195-00008\n"
     ]
    },
    {
     "name": "stderr",
     "output_type": "stream",
     "text": [
      "Traceback (most recent call last):\n",
      "  File \"<ipython-input-12-ce7f870e485c>\", line 7, in <module>\n",
      "    baixa_acordao(num, path_to_pdf)\n",
      "  File \"<ipython-input-11-cc788343a120>\", line 31, in baixa_acordao\n",
      "    raise ValueError('Mais de um registro encontrado:', hits)\n",
      "ValueError: ('Mais de um registro encontrado:', 2)\n",
      "\n"
     ]
    },
    {
     "name": "stdout",
     "output_type": "stream",
     "text": [
      "Processando acórdão nº 1101-001100\n",
      "Processando acórdão nº 203-11669\n",
      "Processando acórdão nº 2806-00137\n",
      "Processando acórdão nº 9303-006036\n",
      "Processando acórdão nº 9101-003487\n",
      "Processando acórdão nº 303-32277\n",
      "Processando acórdão nº 1103-000904\n",
      "Processando acórdão nº 3301-005215\n",
      "Processando acórdão nº 9202-01794\n",
      "Processando acórdão nº 2401-01624\n",
      "Processando acórdão nº 3403-002702\n",
      "Processando acórdão nº 1101-000931\n",
      "Processando acórdão nº 101-97026\n",
      "Processando acórdão nº 107-07325\n",
      "Processando acórdão nº 1201-00732\n"
     ]
    },
    {
     "name": "stderr",
     "output_type": "stream",
     "text": [
      "Traceback (most recent call last):\n",
      "  File \"<ipython-input-12-ce7f870e485c>\", line 7, in <module>\n",
      "    baixa_acordao(num, path_to_pdf)\n",
      "  File \"<ipython-input-11-cc788343a120>\", line 31, in baixa_acordao\n",
      "    raise ValueError('Mais de um registro encontrado:', hits)\n",
      "ValueError: ('Mais de um registro encontrado:', 6)\n",
      "\n"
     ]
    },
    {
     "name": "stdout",
     "output_type": "stream",
     "text": [
      "Processando acórdão nº 9202-005972\n",
      "Processando acórdão nº 106-15616\n",
      "Processando acórdão nº 9202-007436\n",
      "Processando acórdão nº 102-49164\n",
      "Processando acórdão nº 2802-00136\n"
     ]
    },
    {
     "name": "stderr",
     "output_type": "stream",
     "text": [
      "Traceback (most recent call last):\n",
      "  File \"<ipython-input-12-ce7f870e485c>\", line 7, in <module>\n",
      "    baixa_acordao(num, path_to_pdf)\n",
      "  File \"<ipython-input-11-cc788343a120>\", line 31, in baixa_acordao\n",
      "    raise ValueError('Mais de um registro encontrado:', hits)\n",
      "ValueError: ('Mais de um registro encontrado:', 20)\n",
      "\n"
     ]
    },
    {
     "name": "stdout",
     "output_type": "stream",
     "text": [
      "Processando acórdão nº 108-07562\n",
      "Processando acórdão nº 104-23343\n",
      "Processando acórdão nº 2201-002719\n",
      "Processando acórdão nº 9101-002782\n",
      "Processando acórdão nº 101-94258\n",
      "Processando acórdão nº 1102-000939\n",
      "Processando acórdão nº 1401-001450\n",
      "Processando acórdão nº 104-22294\n",
      "Processando acórdão nº 1402-00493\n"
     ]
    },
    {
     "name": "stderr",
     "output_type": "stream",
     "text": [
      "Traceback (most recent call last):\n",
      "  File \"<ipython-input-12-ce7f870e485c>\", line 7, in <module>\n",
      "    baixa_acordao(num, path_to_pdf)\n",
      "  File \"<ipython-input-11-cc788343a120>\", line 31, in baixa_acordao\n",
      "    raise ValueError('Mais de um registro encontrado:', hits)\n",
      "ValueError: ('Mais de um registro encontrado:', 34)\n",
      "\n"
     ]
    },
    {
     "name": "stdout",
     "output_type": "stream",
     "text": [
      "Processando acórdão nº 201-71330\n",
      "Processando acórdão nº 204-00484\n",
      "Processando acórdão nº 1402-001418\n"
     ]
    },
    {
     "name": "stderr",
     "output_type": "stream",
     "text": [
      "Traceback (most recent call last):\n",
      "  File \"<ipython-input-12-ce7f870e485c>\", line 7, in <module>\n",
      "    baixa_acordao(num, path_to_pdf)\n",
      "  File \"<ipython-input-11-cc788343a120>\", line 31, in baixa_acordao\n",
      "    raise ValueError('Mais de um registro encontrado:', hits)\n",
      "ValueError: ('Mais de um registro encontrado:', 2)\n",
      "\n"
     ]
    },
    {
     "name": "stdout",
     "output_type": "stream",
     "text": [
      "Processando acórdão nº 102-47344\n",
      "Processando acórdão nº 2803-00145\n"
     ]
    },
    {
     "name": "stderr",
     "output_type": "stream",
     "text": [
      "Traceback (most recent call last):\n",
      "  File \"<ipython-input-12-ce7f870e485c>\", line 7, in <module>\n",
      "    baixa_acordao(num, path_to_pdf)\n",
      "  File \"<ipython-input-11-cc788343a120>\", line 31, in baixa_acordao\n",
      "    raise ValueError('Mais de um registro encontrado:', hits)\n",
      "ValueError: ('Mais de um registro encontrado:', 26)\n",
      "\n"
     ]
    },
    {
     "name": "stdout",
     "output_type": "stream",
     "text": [
      "Processando acórdão nº 1402-003597\n",
      "Processando acórdão nº 104-23212\n",
      "Processando acórdão nº 303-35361\n",
      "Processando acórdão nº 1101-001079\n",
      "Processando acórdão nº 9101-00207\n"
     ]
    },
    {
     "name": "stderr",
     "output_type": "stream",
     "text": [
      "Traceback (most recent call last):\n",
      "  File \"<ipython-input-12-ce7f870e485c>\", line 7, in <module>\n",
      "    baixa_acordao(num, path_to_pdf)\n",
      "  File \"<ipython-input-11-cc788343a120>\", line 31, in baixa_acordao\n",
      "    raise ValueError('Mais de um registro encontrado:', hits)\n",
      "ValueError: ('Mais de um registro encontrado:', 33)\n",
      "\n"
     ]
    },
    {
     "name": "stdout",
     "output_type": "stream",
     "text": [
      "Processando acórdão nº 1401-002888\n",
      "Processando acórdão nº 303-34001\n",
      "Processando acórdão nº 103-23332\n",
      "Processando acórdão nº 9101-003199\n",
      "Processando acórdão nº 9101-001001\n",
      "Processando acórdão nº 101-96492\n",
      "Processando acórdão nº 9101-003371\n",
      "Processando acórdão nº 1102-000915\n",
      "Processando acórdão nº 302-39028\n",
      "Processando acórdão nº 2801-00407\n"
     ]
    },
    {
     "name": "stderr",
     "output_type": "stream",
     "text": [
      "Traceback (most recent call last):\n",
      "  File \"<ipython-input-12-ce7f870e485c>\", line 7, in <module>\n",
      "    baixa_acordao(num, path_to_pdf)\n",
      "  File \"<ipython-input-11-cc788343a120>\", line 31, in baixa_acordao\n",
      "    raise ValueError('Mais de um registro encontrado:', hits)\n",
      "ValueError: ('Mais de um registro encontrado:', 8)\n",
      "\n"
     ]
    },
    {
     "name": "stdout",
     "output_type": "stream",
     "text": [
      "Processando acórdão nº 204-00115\n",
      "Processando acórdão nº 9202-006009\n",
      "Processando acórdão nº 9101-002717\n",
      "Processando acórdão nº 9101-002876\n",
      "Processando acórdão nº 2402-006286\n",
      "Processando acórdão nº 101-95964\n",
      "Processando acórdão nº 3302-002173\n",
      "Processando acórdão nº 1802-001060\n",
      "Processando acórdão nº 1102-00085\n"
     ]
    },
    {
     "name": "stderr",
     "output_type": "stream",
     "text": [
      "Traceback (most recent call last):\n",
      "  File \"<ipython-input-12-ce7f870e485c>\", line 7, in <module>\n",
      "    baixa_acordao(num, path_to_pdf)\n",
      "  File \"<ipython-input-11-cc788343a120>\", line 31, in baixa_acordao\n",
      "    raise ValueError('Mais de um registro encontrado:', hits)\n",
      "ValueError: ('Mais de um registro encontrado:', 31)\n",
      "\n"
     ]
    },
    {
     "name": "stdout",
     "output_type": "stream",
     "text": [
      "Processando acórdão nº 105-17057\n",
      "Processando acórdão nº 9202-004534\n",
      "Processando acórdão nº 9101-003963\n",
      "Processando acórdão nº 202-09572\n"
     ]
    },
    {
     "name": "stderr",
     "output_type": "stream",
     "text": [
      "Traceback (most recent call last):\n",
      "  File \"<ipython-input-12-ce7f870e485c>\", line 7, in <module>\n",
      "    baixa_acordao(num, path_to_pdf)\n",
      "  File \"<ipython-input-11-cc788343a120>\", line 31, in baixa_acordao\n",
      "    raise ValueError('Mais de um registro encontrado:', hits)\n",
      "ValueError: ('Mais de um registro encontrado:', 2)\n",
      "\n"
     ]
    },
    {
     "name": "stdout",
     "output_type": "stream",
     "text": [
      "Processando acórdão nº 103-23649\n",
      "Processando acórdão nº 1201-001889\n",
      "Processando acórdão nº 9202-005224\n",
      "Processando acórdão nº 1402-002736\n",
      "Processando acórdão nº 1202-00026\n"
     ]
    },
    {
     "name": "stderr",
     "output_type": "stream",
     "text": [
      "Traceback (most recent call last):\n",
      "  File \"<ipython-input-12-ce7f870e485c>\", line 7, in <module>\n",
      "    baixa_acordao(num, path_to_pdf)\n",
      "  File \"<ipython-input-11-cc788343a120>\", line 31, in baixa_acordao\n",
      "    raise ValueError('Mais de um registro encontrado:', hits)\n",
      "ValueError: ('Mais de um registro encontrado:', 37)\n",
      "\n"
     ]
    },
    {
     "name": "stdout",
     "output_type": "stream",
     "text": [
      "Processando acórdão nº 9101-002462\n",
      "Processando acórdão nº 9303-005417\n",
      "Processando acórdão nº 2401-006063\n",
      "Processando acórdão nº 201-78582\n",
      "Processando acórdão nº 2201-003855\n",
      "Processando acórdão nº 3802-002322\n",
      "Processando acórdão nº 3402-005242\n",
      "Processando acórdão nº 9202-005399\n",
      "Processando acórdão nº 1101-000738\n",
      "Processando acórdão nº 106-15548\n",
      "Processando acórdão nº 102-47140\n",
      "Processando acórdão nº 303-35422\n",
      "Processando acórdão nº 02-02844\n"
     ]
    },
    {
     "name": "stderr",
     "output_type": "stream",
     "text": [
      "Traceback (most recent call last):\n",
      "  File \"<ipython-input-12-ce7f870e485c>\", line 7, in <module>\n",
      "    baixa_acordao(num, path_to_pdf)\n",
      "  File \"<ipython-input-11-cc788343a120>\", line 31, in baixa_acordao\n",
      "    raise ValueError('Mais de um registro encontrado:', hits)\n",
      "ValueError: ('Mais de um registro encontrado:', 12)\n",
      "\n"
     ]
    },
    {
     "name": "stdout",
     "output_type": "stream",
     "text": [
      "Processando acórdão nº 04-00574\n"
     ]
    },
    {
     "name": "stderr",
     "output_type": "stream",
     "text": [
      "Traceback (most recent call last):\n",
      "  File \"<ipython-input-12-ce7f870e485c>\", line 7, in <module>\n",
      "    baixa_acordao(num, path_to_pdf)\n",
      "  File \"<ipython-input-11-cc788343a120>\", line 31, in baixa_acordao\n",
      "    raise ValueError('Mais de um registro encontrado:', hits)\n",
      "ValueError: ('Mais de um registro encontrado:', 2)\n",
      "\n"
     ]
    },
    {
     "name": "stdout",
     "output_type": "stream",
     "text": [
      "Processando acórdão nº 303-35893\n",
      "Processando acórdão nº 1302-002076\n",
      "Processando acórdão nº 1101-00622\n",
      "Processando acórdão nº 106-17191\n",
      "Processando acórdão nº 1402-001294\n"
     ]
    },
    {
     "name": "stderr",
     "output_type": "stream",
     "text": [
      "Traceback (most recent call last):\n",
      "  File \"<ipython-input-12-ce7f870e485c>\", line 7, in <module>\n",
      "    baixa_acordao(num, path_to_pdf)\n",
      "  File \"<ipython-input-11-cc788343a120>\", line 31, in baixa_acordao\n",
      "    raise ValueError('Mais de um registro encontrado:', hits)\n",
      "ValueError: ('Mais de um registro encontrado:', 2)\n",
      "\n"
     ]
    },
    {
     "name": "stdout",
     "output_type": "stream",
     "text": [
      "Processando acórdão nº 3302-003095\n",
      "Processando acórdão nº 301-32156\n",
      "Processando acórdão nº 9303-007739\n",
      "Processando acórdão nº 9303-006291\n",
      "Processando acórdão nº 303-31801\n",
      "Processando acórdão nº 201-78180\n",
      "Processando acórdão nº 106-16797\n",
      "Processando acórdão nº 3801-001506\n",
      "Processando acórdão nº 3401-004404\n",
      "Processando acórdão nº 203-09437\n",
      "Processando acórdão nº 9303-006289\n",
      "Processando acórdão nº 104-21933\n",
      "Processando acórdão nº 9303-003331\n",
      "Processando acórdão nº 1301-001229\n",
      "Processando acórdão nº 105-14330\n",
      "Processando acórdão nº 107-07076\n",
      "Processando acórdão nº 105-16676\n",
      "Processando acórdão nº 201-73981\n",
      "Processando acórdão nº 9303-005843\n",
      "Processando acórdão nº 1103-000684\n"
     ]
    },
    {
     "name": "stderr",
     "output_type": "stream",
     "text": [
      "Traceback (most recent call last):\n",
      "  File \"<ipython-input-12-ce7f870e485c>\", line 7, in <module>\n",
      "    baixa_acordao(num, path_to_pdf)\n",
      "  File \"<ipython-input-11-cc788343a120>\", line 31, in baixa_acordao\n",
      "    raise ValueError('Mais de um registro encontrado:', hits)\n",
      "ValueError: ('Mais de um registro encontrado:', 2)\n",
      "\n"
     ]
    },
    {
     "name": "stdout",
     "output_type": "stream",
     "text": [
      "Processando acórdão nº 107-09027\n",
      "Processando acórdão nº 3201-002186\n"
     ]
    },
    {
     "name": "stderr",
     "output_type": "stream",
     "text": [
      "Traceback (most recent call last):\n",
      "  File \"<ipython-input-12-ce7f870e485c>\", line 7, in <module>\n",
      "    baixa_acordao(num, path_to_pdf)\n",
      "  File \"<ipython-input-11-cc788343a120>\", line 31, in baixa_acordao\n",
      "    raise ValueError('Mais de um registro encontrado:', hits)\n",
      "ValueError: ('Mais de um registro encontrado:', 2)\n",
      "\n"
     ]
    },
    {
     "name": "stdout",
     "output_type": "stream",
     "text": [
      "Processando acórdão nº 101-96857\n",
      "Processando acórdão nº 103-22545\n",
      "Processando acórdão nº 205-00825\n",
      "Processando acórdão nº 2401-004621\n",
      "Processando acórdão nº 105-14962\n",
      "Processando acórdão nº 107-05876\n",
      "Processando acórdão nº 198-00101\n",
      "Processando acórdão nº 3402-004684\n",
      "Processando acórdão nº 301-30380\n",
      "Processando acórdão nº 2301-005046\n",
      "Processando acórdão nº 101-94322\n",
      "Processando acórdão nº 9101-001307\n",
      "Processando acórdão nº 01-05500\n"
     ]
    },
    {
     "name": "stderr",
     "output_type": "stream",
     "text": [
      "Traceback (most recent call last):\n",
      "  File \"<ipython-input-12-ce7f870e485c>\", line 7, in <module>\n",
      "    baixa_acordao(num, path_to_pdf)\n",
      "  File \"<ipython-input-11-cc788343a120>\", line 31, in baixa_acordao\n",
      "    raise ValueError('Mais de um registro encontrado:', hits)\n",
      "ValueError: ('Mais de um registro encontrado:', 9)\n",
      "\n"
     ]
    },
    {
     "name": "stdout",
     "output_type": "stream",
     "text": [
      "Processando acórdão nº 9101-001468\n",
      "Processando acórdão nº 301-30761\n",
      "Processando acórdão nº 105-17403\n",
      "Processando acórdão nº 201-77706\n",
      "Processando acórdão nº 2401-01304\n",
      "Processando acórdão nº 9101-002175\n",
      "Processando acórdão nº 9202-005657\n",
      "Processando acórdão nº 2102-00252\n"
     ]
    },
    {
     "name": "stderr",
     "output_type": "stream",
     "text": [
      "Traceback (most recent call last):\n",
      "  File \"<ipython-input-12-ce7f870e485c>\", line 7, in <module>\n",
      "    baixa_acordao(num, path_to_pdf)\n",
      "  File \"<ipython-input-11-cc788343a120>\", line 31, in baixa_acordao\n",
      "    raise ValueError('Mais de um registro encontrado:', hits)\n",
      "ValueError: ('Mais de um registro encontrado:', 31)\n",
      "\n"
     ]
    },
    {
     "name": "stdout",
     "output_type": "stream",
     "text": [
      "Processando acórdão nº 1301-001202\n",
      "Processando acórdão nº 303-33776\n",
      "Processando acórdão nº 1802-00817\n"
     ]
    },
    {
     "name": "stderr",
     "output_type": "stream",
     "text": [
      "Traceback (most recent call last):\n",
      "  File \"<ipython-input-12-ce7f870e485c>\", line 7, in <module>\n",
      "    baixa_acordao(num, path_to_pdf)\n",
      "  File \"<ipython-input-11-cc788343a120>\", line 31, in baixa_acordao\n",
      "    raise ValueError('Mais de um registro encontrado:', hits)\n",
      "ValueError: ('Mais de um registro encontrado:', 2)\n",
      "\n"
     ]
    },
    {
     "name": "stdout",
     "output_type": "stream",
     "text": [
      "Processando acórdão nº 302-38210\n",
      "Processando acórdão nº 105-14173\n",
      "Processando acórdão nº 04-00826\n"
     ]
    },
    {
     "name": "stderr",
     "output_type": "stream",
     "text": [
      "Traceback (most recent call last):\n",
      "  File \"<ipython-input-12-ce7f870e485c>\", line 7, in <module>\n",
      "    baixa_acordao(num, path_to_pdf)\n",
      "  File \"<ipython-input-11-cc788343a120>\", line 31, in baixa_acordao\n",
      "    raise ValueError('Mais de um registro encontrado:', hits)\n",
      "ValueError: ('Mais de um registro encontrado:', 2)\n",
      "\n"
     ]
    },
    {
     "name": "stdout",
     "output_type": "stream",
     "text": [
      "Processando acórdão nº 9101-003603\n",
      "Processando acórdão nº 2401-004695\n",
      "Processando acórdão nº 9303-001869\n",
      "Processando acórdão nº 205-00861\n",
      "Processando acórdão nº 1302-001687\n",
      "Processando acórdão nº 1201-001680\n",
      "Processando acórdão nº 3402-001821\n"
     ]
    },
    {
     "name": "stderr",
     "output_type": "stream",
     "text": [
      "Traceback (most recent call last):\n",
      "  File \"<ipython-input-12-ce7f870e485c>\", line 7, in <module>\n",
      "    baixa_acordao(num, path_to_pdf)\n",
      "  File \"<ipython-input-11-cc788343a120>\", line 31, in baixa_acordao\n",
      "    raise ValueError('Mais de um registro encontrado:', hits)\n",
      "ValueError: ('Mais de um registro encontrado:', 2)\n",
      "\n"
     ]
    },
    {
     "name": "stdout",
     "output_type": "stream",
     "text": [
      "Processando acórdão nº 102-49363\n",
      "Processando acórdão nº 9101-003137\n",
      "Processando acórdão nº 106-17020\n",
      "Processando acórdão nº 3201-001518\n"
     ]
    },
    {
     "name": "stderr",
     "output_type": "stream",
     "text": [
      "Traceback (most recent call last):\n",
      "  File \"<ipython-input-12-ce7f870e485c>\", line 7, in <module>\n",
      "    baixa_acordao(num, path_to_pdf)\n",
      "  File \"<ipython-input-11-cc788343a120>\", line 31, in baixa_acordao\n",
      "    raise ValueError('Mais de um registro encontrado:', hits)\n",
      "ValueError: ('Mais de um registro encontrado:', 2)\n",
      "\n"
     ]
    },
    {
     "name": "stdout",
     "output_type": "stream",
     "text": [
      "Processando acórdão nº 105-15211\n",
      "Processando acórdão nº 9101-002576\n",
      "Processando acórdão nº 1101-00154\n"
     ]
    },
    {
     "name": "stderr",
     "output_type": "stream",
     "text": [
      "Traceback (most recent call last):\n",
      "  File \"<ipython-input-12-ce7f870e485c>\", line 7, in <module>\n",
      "    baixa_acordao(num, path_to_pdf)\n",
      "  File \"<ipython-input-11-cc788343a120>\", line 31, in baixa_acordao\n",
      "    raise ValueError('Mais de um registro encontrado:', hits)\n",
      "ValueError: ('Mais de um registro encontrado:', 5)\n",
      "\n"
     ]
    },
    {
     "name": "stdout",
     "output_type": "stream",
     "text": [
      "Processando acórdão nº 301-33691\n",
      "Processando acórdão nº 1201-00116\n"
     ]
    },
    {
     "name": "stderr",
     "output_type": "stream",
     "text": [
      "Traceback (most recent call last):\n",
      "  File \"<ipython-input-12-ce7f870e485c>\", line 7, in <module>\n",
      "    baixa_acordao(num, path_to_pdf)\n",
      "  File \"<ipython-input-11-cc788343a120>\", line 31, in baixa_acordao\n",
      "    raise ValueError('Mais de um registro encontrado:', hits)\n",
      "ValueError: ('Mais de um registro encontrado:', 32)\n",
      "\n"
     ]
    },
    {
     "name": "stdout",
     "output_type": "stream",
     "text": [
      "Processando acórdão nº 3302-001840\n",
      "Processando acórdão nº 107-08642\n",
      "Processando acórdão nº 1402-002404\n",
      "Processando acórdão nº 202-15056\n",
      "Processando acórdão nº 04-00183\n"
     ]
    },
    {
     "name": "stderr",
     "output_type": "stream",
     "text": [
      "Traceback (most recent call last):\n",
      "  File \"<ipython-input-12-ce7f870e485c>\", line 7, in <module>\n",
      "    baixa_acordao(num, path_to_pdf)\n",
      "  File \"<ipython-input-11-cc788343a120>\", line 31, in baixa_acordao\n",
      "    raise ValueError('Mais de um registro encontrado:', hits)\n",
      "ValueError: ('Mais de um registro encontrado:', 2)\n",
      "\n"
     ]
    },
    {
     "name": "stdout",
     "output_type": "stream",
     "text": [
      "Processando acórdão nº 2802-00271\n"
     ]
    },
    {
     "name": "stderr",
     "output_type": "stream",
     "text": [
      "Traceback (most recent call last):\n",
      "  File \"<ipython-input-12-ce7f870e485c>\", line 7, in <module>\n",
      "    baixa_acordao(num, path_to_pdf)\n",
      "  File \"<ipython-input-11-cc788343a120>\", line 31, in baixa_acordao\n",
      "    raise ValueError('Mais de um registro encontrado:', hits)\n",
      "ValueError: ('Mais de um registro encontrado:', 24)\n",
      "\n"
     ]
    },
    {
     "name": "stdout",
     "output_type": "stream",
     "text": [
      "Processando acórdão nº 202-15710\n",
      "Processando acórdão nº 101-93581\n",
      "Processando acórdão nº 1102-001182\n",
      "Processando acórdão nº 9202-003848\n",
      "Processando acórdão nº 3401-003096\n",
      "Processando acórdão nº 9202-005464\n",
      "Processando acórdão nº 9202-004613\n",
      "Processando acórdão nº 3201-001765\n"
     ]
    },
    {
     "name": "stderr",
     "output_type": "stream",
     "text": [
      "Traceback (most recent call last):\n",
      "  File \"<ipython-input-12-ce7f870e485c>\", line 7, in <module>\n",
      "    baixa_acordao(num, path_to_pdf)\n",
      "  File \"<ipython-input-11-cc788343a120>\", line 31, in baixa_acordao\n",
      "    raise ValueError('Mais de um registro encontrado:', hits)\n",
      "ValueError: ('Mais de um registro encontrado:', 2)\n",
      "\n"
     ]
    },
    {
     "name": "stdout",
     "output_type": "stream",
     "text": [
      "Processando acórdão nº 1201-001435\n",
      "Processando acórdão nº 3401-003400\n",
      "Processando acórdão nº 106-16949\n",
      "Processando acórdão nº 1301-02617\n",
      "Processando acórdão nº 202-16395\n",
      "Processando acórdão nº 9202-003509\n",
      "Processando acórdão nº 3401-005695\n",
      "Processando acórdão nº 2402-00122\n"
     ]
    },
    {
     "name": "stderr",
     "output_type": "stream",
     "text": [
      "Traceback (most recent call last):\n",
      "  File \"<ipython-input-12-ce7f870e485c>\", line 7, in <module>\n",
      "    baixa_acordao(num, path_to_pdf)\n",
      "  File \"<ipython-input-11-cc788343a120>\", line 31, in baixa_acordao\n",
      "    raise ValueError('Mais de um registro encontrado:', hits)\n",
      "ValueError: ('Mais de um registro encontrado:', 24)\n",
      "\n"
     ]
    },
    {
     "name": "stdout",
     "output_type": "stream",
     "text": [
      "Processando acórdão nº 101-94147\n",
      "Processando acórdão nº 302-38480\n",
      "Processando acórdão nº 104-21257\n",
      "Processando acórdão nº 2401-002118\n",
      "Processando acórdão nº 9303-007560\n",
      "Processando acórdão nº 103-21568\n",
      "Processando acórdão nº 201-79983\n",
      "Processando acórdão nº 393-00091\n",
      "Processando acórdão nº 2202-01042\n",
      "Processando acórdão nº 103-21903\n",
      "Processando acórdão nº 01-01734\n"
     ]
    },
    {
     "name": "stderr",
     "output_type": "stream",
     "text": [
      "Traceback (most recent call last):\n",
      "  File \"<ipython-input-12-ce7f870e485c>\", line 7, in <module>\n",
      "    baixa_acordao(num, path_to_pdf)\n",
      "  File \"<ipython-input-11-cc788343a120>\", line 31, in baixa_acordao\n",
      "    raise ValueError('Mais de um registro encontrado:', hits)\n",
      "ValueError: ('Mais de um registro encontrado:', 22)\n",
      "\n"
     ]
    },
    {
     "name": "stdout",
     "output_type": "stream",
     "text": [
      "Processando acórdão nº 9303-00164\n"
     ]
    },
    {
     "name": "stderr",
     "output_type": "stream",
     "text": [
      "Traceback (most recent call last):\n",
      "  File \"<ipython-input-12-ce7f870e485c>\", line 7, in <module>\n",
      "    baixa_acordao(num, path_to_pdf)\n",
      "  File \"<ipython-input-11-cc788343a120>\", line 31, in baixa_acordao\n",
      "    raise ValueError('Mais de um registro encontrado:', hits)\n",
      "ValueError: ('Mais de um registro encontrado:', 38)\n",
      "\n"
     ]
    },
    {
     "name": "stdout",
     "output_type": "stream",
     "text": [
      "Processando acórdão nº 9101-001705\n",
      "Processando acórdão nº 104-21824\n",
      "Processando acórdão nº 1401-00786\n"
     ]
    },
    {
     "name": "stderr",
     "output_type": "stream",
     "text": [
      "Traceback (most recent call last):\n",
      "  File \"<ipython-input-12-ce7f870e485c>\", line 7, in <module>\n",
      "    baixa_acordao(num, path_to_pdf)\n",
      "  File \"<ipython-input-11-cc788343a120>\", line 31, in baixa_acordao\n",
      "    raise ValueError('Mais de um registro encontrado:', hits)\n",
      "ValueError: ('Mais de um registro encontrado:', 6)\n",
      "\n"
     ]
    },
    {
     "name": "stdout",
     "output_type": "stream",
     "text": [
      "Processando acórdão nº 1201-000097\n"
     ]
    },
    {
     "name": "stderr",
     "output_type": "stream",
     "text": [
      "Traceback (most recent call last):\n",
      "  File \"<ipython-input-12-ce7f870e485c>\", line 7, in <module>\n",
      "    baixa_acordao(num, path_to_pdf)\n",
      "  File \"<ipython-input-11-cc788343a120>\", line 31, in baixa_acordao\n",
      "    raise ValueError('Mais de um registro encontrado:', hits)\n",
      "ValueError: ('Mais de um registro encontrado:', 2)\n",
      "\n"
     ]
    },
    {
     "name": "stdout",
     "output_type": "stream",
     "text": [
      "Processando acórdão nº 105-15025\n",
      "Processando acórdão nº 9101-001325\n",
      "Processando acórdão nº 104-23033\n",
      "Processando acórdão nº 105-16587\n",
      "Processando acórdão nº 106-16893\n",
      "Processando acórdão nº 2301-00294\n"
     ]
    },
    {
     "name": "stderr",
     "output_type": "stream",
     "text": [
      "Traceback (most recent call last):\n",
      "  File \"<ipython-input-12-ce7f870e485c>\", line 7, in <module>\n",
      "    baixa_acordao(num, path_to_pdf)\n",
      "  File \"<ipython-input-11-cc788343a120>\", line 31, in baixa_acordao\n",
      "    raise ValueError('Mais de um registro encontrado:', hits)\n",
      "ValueError: ('Mais de um registro encontrado:', 37)\n",
      "\n"
     ]
    },
    {
     "name": "stdout",
     "output_type": "stream",
     "text": [
      "Processando acórdão nº 1402-00506\n"
     ]
    },
    {
     "name": "stderr",
     "output_type": "stream",
     "text": [
      "Traceback (most recent call last):\n",
      "  File \"<ipython-input-12-ce7f870e485c>\", line 7, in <module>\n",
      "    baixa_acordao(num, path_to_pdf)\n",
      "  File \"<ipython-input-11-cc788343a120>\", line 31, in baixa_acordao\n",
      "    raise ValueError('Mais de um registro encontrado:', hits)\n",
      "ValueError: ('Mais de um registro encontrado:', 29)\n",
      "\n"
     ]
    },
    {
     "name": "stdout",
     "output_type": "stream",
     "text": [
      "Processando acórdão nº 9101-00193\n"
     ]
    },
    {
     "name": "stderr",
     "output_type": "stream",
     "text": [
      "Traceback (most recent call last):\n",
      "  File \"<ipython-input-12-ce7f870e485c>\", line 7, in <module>\n",
      "    baixa_acordao(num, path_to_pdf)\n",
      "  File \"<ipython-input-11-cc788343a120>\", line 31, in baixa_acordao\n",
      "    raise ValueError('Mais de um registro encontrado:', hits)\n",
      "ValueError: ('Mais de um registro encontrado:', 33)\n",
      "\n"
     ]
    },
    {
     "name": "stdout",
     "output_type": "stream",
     "text": [
      "Processando acórdão nº 2301-004391\n",
      "Processando acórdão nº 101-96251\n",
      "Processando acórdão nº 1301-001544\n",
      "Processando acórdão nº 9202-004365\n",
      "Processando acórdão nº 106-16708\n",
      "Processando acórdão nº 103-23546\n",
      "Processando acórdão nº 1101-001236\n",
      "Processando acórdão nº 104-21747\n",
      "Processando acórdão nº 1402-001411\n"
     ]
    },
    {
     "name": "stderr",
     "output_type": "stream",
     "text": [
      "Traceback (most recent call last):\n",
      "  File \"<ipython-input-12-ce7f870e485c>\", line 7, in <module>\n",
      "    baixa_acordao(num, path_to_pdf)\n",
      "  File \"<ipython-input-11-cc788343a120>\", line 31, in baixa_acordao\n",
      "    raise ValueError('Mais de um registro encontrado:', hits)\n",
      "ValueError: ('Mais de um registro encontrado:', 2)\n",
      "\n"
     ]
    },
    {
     "name": "stdout",
     "output_type": "stream",
     "text": [
      "Processando acórdão nº 101-96144\n",
      "Processando acórdão nº 106-14065\n",
      "Processando acórdão nº 104-23330\n",
      "Processando acórdão nº 01-05781\n"
     ]
    },
    {
     "name": "stderr",
     "output_type": "stream",
     "text": [
      "Traceback (most recent call last):\n",
      "  File \"<ipython-input-12-ce7f870e485c>\", line 7, in <module>\n",
      "    baixa_acordao(num, path_to_pdf)\n",
      "  File \"<ipython-input-11-cc788343a120>\", line 31, in baixa_acordao\n",
      "    raise ValueError('Mais de um registro encontrado:', hits)\n",
      "ValueError: ('Mais de um registro encontrado:', 7)\n",
      "\n"
     ]
    },
    {
     "name": "stdout",
     "output_type": "stream",
     "text": [
      "Processando acórdão nº 3202-000589\n",
      "Processando acórdão nº 1102-00442\n",
      "Processando acórdão nº 2201-003764\n",
      "Processando acórdão nº 1402-003605\n",
      "Processando acórdão nº 104-21935\n",
      "Processando acórdão nº 3401-001637\n"
     ]
    },
    {
     "name": "stderr",
     "output_type": "stream",
     "text": [
      "Traceback (most recent call last):\n",
      "  File \"<ipython-input-12-ce7f870e485c>\", line 7, in <module>\n",
      "    baixa_acordao(num, path_to_pdf)\n",
      "  File \"<ipython-input-11-cc788343a120>\", line 31, in baixa_acordao\n",
      "    raise ValueError('Mais de um registro encontrado:', hits)\n",
      "ValueError: ('Mais de um registro encontrado:', 2)\n",
      "\n"
     ]
    },
    {
     "name": "stdout",
     "output_type": "stream",
     "text": [
      "Processando acórdão nº 201-77430\n",
      "Processando acórdão nº 9101-003437\n",
      "Processando acórdão nº 102-47881\n",
      "Processando acórdão nº 104-17338\n",
      "Processando acórdão nº 104-20983\n",
      "Processando acórdão nº 1402-000168\n"
     ]
    },
    {
     "name": "stderr",
     "output_type": "stream",
     "text": [
      "Traceback (most recent call last):\n",
      "  File \"<ipython-input-12-ce7f870e485c>\", line 7, in <module>\n",
      "    baixa_acordao(num, path_to_pdf)\n",
      "  File \"<ipython-input-11-cc788343a120>\", line 31, in baixa_acordao\n",
      "    raise ValueError('Mais de um registro encontrado:', hits)\n",
      "ValueError: ('Mais de um registro encontrado:', 2)\n",
      "\n"
     ]
    },
    {
     "name": "stdout",
     "output_type": "stream",
     "text": [
      "Processando acórdão nº 9202-005783\n",
      "Processando acórdão nº 9101-001654\n",
      "Processando acórdão nº 1401-002008\n",
      "Processando acórdão nº 302-39756\n",
      "Processando acórdão nº 106-15980\n",
      "Processando acórdão nº 9101-000775\n",
      "Processando acórdão nº 3801-00111\n"
     ]
    },
    {
     "name": "stderr",
     "output_type": "stream",
     "text": [
      "Traceback (most recent call last):\n",
      "  File \"<ipython-input-12-ce7f870e485c>\", line 7, in <module>\n",
      "    baixa_acordao(num, path_to_pdf)\n",
      "  File \"<ipython-input-11-cc788343a120>\", line 31, in baixa_acordao\n",
      "    raise ValueError('Mais de um registro encontrado:', hits)\n",
      "ValueError: ('Mais de um registro encontrado:', 30)\n",
      "\n"
     ]
    },
    {
     "name": "stdout",
     "output_type": "stream",
     "text": [
      "Processando acórdão nº 9303-005436\n",
      "Processando acórdão nº 1102-00351\n",
      "Processando acórdão nº 101-88969\n",
      "Processando acórdão nº 105-16138\n",
      "Processando acórdão nº 9101-01191\n",
      "Processando acórdão nº 1402-002815\n",
      "Processando acórdão nº 3101-001174\n",
      "Processando acórdão nº 202-11274\n",
      "Processando acórdão nº 2202-002528\n",
      "Processando acórdão nº 105-14637\n",
      "Processando acórdão nº 201-77198\n",
      "Processando acórdão nº 3101-01072\n",
      "Processando acórdão nº 2403-001742\n",
      "Processando acórdão nº 9202-003067\n",
      "Processando acórdão nº 1401-003024\n",
      "Processando acórdão nº 202-14254\n",
      "Processando acórdão nº 2401-02358\n",
      "Processando acórdão nº 9303-004155\n",
      "Processando acórdão nº 2301-005\n"
     ]
    },
    {
     "name": "stderr",
     "output_type": "stream",
     "text": [
      "Traceback (most recent call last):\n",
      "  File \"<ipython-input-12-ce7f870e485c>\", line 7, in <module>\n",
      "    baixa_acordao(num, path_to_pdf)\n",
      "  File \"<ipython-input-11-cc788343a120>\", line 31, in baixa_acordao\n",
      "    raise ValueError('Mais de um registro encontrado:', hits)\n",
      "ValueError: ('Mais de um registro encontrado:', 3372)\n",
      "\n"
     ]
    },
    {
     "name": "stdout",
     "output_type": "stream",
     "text": [
      "Processando acórdão nº 9202-006006\n",
      "Processando acórdão nº 9101-002484\n",
      "Processando acórdão nº 303-31479\n",
      "Processando acórdão nº 102-48290\n",
      "Processando acórdão nº 9101-002993\n",
      "Processando acórdão nº 202-16437\n",
      "Processando acórdão nº 106-16788\n",
      "Processando acórdão nº 101-94812\n",
      "Processando acórdão nº 9303-005886\n",
      "Processando acórdão nº 301-31414\n",
      "Processando acórdão nº 3402-002252\n"
     ]
    },
    {
     "name": "stderr",
     "output_type": "stream",
     "text": [
      "Traceback (most recent call last):\n",
      "  File \"<ipython-input-12-ce7f870e485c>\", line 7, in <module>\n",
      "    baixa_acordao(num, path_to_pdf)\n",
      "  File \"<ipython-input-11-cc788343a120>\", line 31, in baixa_acordao\n",
      "    raise ValueError('Mais de um registro encontrado:', hits)\n",
      "ValueError: ('Mais de um registro encontrado:', 2)\n",
      "\n"
     ]
    },
    {
     "name": "stdout",
     "output_type": "stream",
     "text": [
      "Processando acórdão nº 2401-003400\n",
      "Processando acórdão nº 204-03122\n"
     ]
    }
   ],
   "source": [
    "# baixa os arquivos dos acórdãos para uma pasta local\n",
    "path_to_pdf = 'pdf/'\n",
    "os.makedirs(path_to_pdf, exist_ok=True)     \n",
    "\n",
    "for num in nums:\n",
    "    try:\n",
    "        baixa_acordao(num, path_to_pdf)\n",
    "    except Exception:\n",
    "        print(traceback.format_exc(), file=sys.stderr)"
   ]
  }
 ],
 "metadata": {
  "kernelspec": {
   "display_name": "Python 3",
   "language": "python",
   "name": "python3"
  },
  "language_info": {
   "codemirror_mode": {
    "name": "ipython",
    "version": 3
   },
   "file_extension": ".py",
   "mimetype": "text/x-python",
   "name": "python",
   "nbconvert_exporter": "python",
   "pygments_lexer": "ipython3",
   "version": "3.8.8"
  }
 },
 "nbformat": 4,
 "nbformat_minor": 5
}
