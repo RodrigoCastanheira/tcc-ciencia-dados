{
 "cells": [
  {
   "cell_type": "code",
   "execution_count": null,
   "id": "94e8a631",
   "metadata": {},
   "outputs": [],
   "source": [
    "# OBJETIVO:\n",
    "# Analisar o dataset \"corpus\" criado no notebook _4_tratamento."
   ]
  },
  {
   "cell_type": "code",
   "execution_count": 1,
   "id": "ae4a9190",
   "metadata": {},
   "outputs": [],
   "source": [
    "import matplotlib.pyplot as plt\n",
    "import nltk\n",
    "import numpy as np\n",
    "import pandas as pd\n",
    "import seaborn as sns\n",
    "import string\n",
    "from importlib.metadata import version\n",
    "from nltk.probability import FreqDist\n",
    "from nltk.text import Text\n",
    "from nltk.tokenize import sent_tokenize, word_tokenize"
   ]
  },
  {
   "cell_type": "code",
   "execution_count": 2,
   "id": "6797535c",
   "metadata": {},
   "outputs": [
    {
     "data": {
      "text/plain": [
       "'0.11.1'"
      ]
     },
     "execution_count": 2,
     "metadata": {},
     "output_type": "execute_result"
    }
   ],
   "source": [
    "version('seaborn')"
   ]
  },
  {
   "cell_type": "code",
   "execution_count": null,
   "id": "a950401d",
   "metadata": {},
   "outputs": [],
   "source": [
    "# baixa dados do NLTK\n",
    "nltk.download('punkt')\n",
    "nltk.download('stopwords')"
   ]
  },
  {
   "cell_type": "code",
   "execution_count": 3,
   "id": "d1b94fa1",
   "metadata": {},
   "outputs": [
    {
     "name": "stdout",
     "output_type": "stream",
     "text": [
      "<class 'pandas.core.frame.DataFrame'>\n",
      "RangeIndex: 36264 entries, 0 to 36263\n",
      "Data columns (total 3 columns):\n",
      " #   Column          Non-Null Count  Dtype \n",
      "---  ------          --------------  ----- \n",
      " 0   Acordao         36264 non-null  object\n",
      " 1   SumulaDerivada  36264 non-null  int64 \n",
      " 2   Documento       36264 non-null  object\n",
      "dtypes: int64(1), object(2)\n",
      "memory usage: 850.1+ KB\n"
     ]
    }
   ],
   "source": [
    "# carrega o dataset \"corpus\" criado no notebook _4_tratamento\n",
    "corpus = pd.read_csv('datasets/corpus.csv')\n",
    "corpus.info()"
   ]
  },
  {
   "cell_type": "code",
   "execution_count": 4,
   "id": "4c236048",
   "metadata": {},
   "outputs": [
    {
     "name": "stdout",
     "output_type": "stream",
     "text": [
      "Wall time: 10min 23s\n"
     ]
    }
   ],
   "source": [
    "%%time\n",
    "docs = corpus['Documento']\n",
    "# obtém os tokens por documento em forma de lista de listas de tokens, ignorando pontuação\n",
    "tokens_by_doc = [[token for token in word_tokenize(doc, language='portuguese')\n",
    "                  if token not in string.punctuation] for doc in docs]\n",
    "# número de tokens por documento\n",
    "num_tokens_by_doc = [len(tokens) for tokens in tokens_by_doc]"
   ]
  },
  {
   "cell_type": "code",
   "execution_count": 5,
   "id": "cda9387c",
   "metadata": {},
   "outputs": [
    {
     "data": {
      "image/png": "[encoded data removed]",
      "text/plain": [
       "<Figure size 936x360 with 2 Axes>"
      ]
     },
     "metadata": {
      "needs_background": "light"
     },
     "output_type": "display_data"
    },
    {
     "data": {
      "text/html": [
       "<div>\n",
       "<style scoped>\n",
       "    .dataframe tbody tr th:only-of-type {\n",
       "        vertical-align: middle;\n",
       "    }\n",
       "\n",
       "    .dataframe tbody tr th {\n",
       "        vertical-align: top;\n",
       "    }\n",
       "\n",
       "    .dataframe thead th {\n",
       "        text-align: right;\n",
       "    }\n",
       "</style>\n",
       "<table border=\"1\" class=\"dataframe\">\n",
       "  <thead>\n",
       "    <tr style=\"text-align: right;\">\n",
       "      <th></th>\n",
       "      <th>Palavras por documento</th>\n",
       "    </tr>\n",
       "  </thead>\n",
       "  <tbody>\n",
       "    <tr>\n",
       "      <th>count</th>\n",
       "      <td>36264.000000</td>\n",
       "    </tr>\n",
       "    <tr>\n",
       "      <th>mean</th>\n",
       "      <td>2474.172127</td>\n",
       "    </tr>\n",
       "    <tr>\n",
       "      <th>std</th>\n",
       "      <td>2255.130363</td>\n",
       "    </tr>\n",
       "    <tr>\n",
       "      <th>min</th>\n",
       "      <td>134.000000</td>\n",
       "    </tr>\n",
       "    <tr>\n",
       "      <th>25%</th>\n",
       "      <td>1198.000000</td>\n",
       "    </tr>\n",
       "    <tr>\n",
       "      <th>50%</th>\n",
       "      <td>1814.000000</td>\n",
       "    </tr>\n",
       "    <tr>\n",
       "      <th>75%</th>\n",
       "      <td>2930.000000</td>\n",
       "    </tr>\n",
       "    <tr>\n",
       "      <th>max</th>\n",
       "      <td>56845.000000</td>\n",
       "    </tr>\n",
       "  </tbody>\n",
       "</table>\n",
       "</div>"
      ],
      "text/plain": [
       "       Palavras por documento\n",
       "count            36264.000000\n",
       "mean              2474.172127\n",
       "std               2255.130363\n",
       "min                134.000000\n",
       "25%               1198.000000\n",
       "50%               1814.000000\n",
       "75%               2930.000000\n",
       "max              56845.000000"
      ]
     },
     "execution_count": 5,
     "metadata": {},
     "output_type": "execute_result"
    }
   ],
   "source": [
    "# histograma da distribuição de tokens em escala linear e logarítmica\n",
    "fig, ax = plt.subplots(1, 2, figsize=(13, 5))\n",
    "g_lin = sns.histplot(num_tokens_by_doc, bins=20, ax=ax[0])\n",
    "g_lin.set(title='Distribuição do número de palavras por documento',\n",
    "          xlabel='Palavras', ylabel='Documentos')\n",
    "g_log = sns.histplot(num_tokens_by_doc, bins=20, log_scale=True, ax=ax[1])\n",
    "g_log.set(title='Distribuição do número de palavras por documento', \n",
    "          xlabel='Palavras', ylabel='Documentos',\n",
    "          xticks=[100, 300, 1000, 3000, 10000, 30000],\n",
    "          xticklabels=['100', '300', '1000', '3000', '10000', '30000'])\n",
    "plt.show()\n",
    "# estatísticas da distribuição\n",
    "pd.DataFrame(num_tokens_by_doc, columns=['Palavras por documento']).describe()"
   ]
  },
  {
   "cell_type": "code",
   "execution_count": 6,
   "id": "4852ecd3",
   "metadata": {},
   "outputs": [
    {
     "name": "stdout",
     "output_type": "stream",
     "text": [
      "Wall time: 3min 19s\n"
     ]
    }
   ],
   "source": [
    "%%time\n",
    "# obtém as sentenças por documento em forma de lista de listas de sentenças\n",
    "sents_by_doc = [sent_tokenize(doc, language='portuguese') for doc in docs]\n",
    "# número de sentenças por documento\n",
    "num_sents_by_doc = [len(sents) for sents in sents_by_doc]"
   ]
  },
  {
   "cell_type": "code",
   "execution_count": 7,
   "id": "4ac16fc8",
   "metadata": {},
   "outputs": [
    {
     "data": {
      "image/png": "[encoded data removed]",
      "text/plain": [
       "<Figure size 936x360 with 2 Axes>"
      ]
     },
     "metadata": {
      "needs_background": "light"
     },
     "output_type": "display_data"
    },
    {
     "data": {
      "text/html": [
       "<div>\n",
       "<style scoped>\n",
       "    .dataframe tbody tr th:only-of-type {\n",
       "        vertical-align: middle;\n",
       "    }\n",
       "\n",
       "    .dataframe tbody tr th {\n",
       "        vertical-align: top;\n",
       "    }\n",
       "\n",
       "    .dataframe thead th {\n",
       "        text-align: right;\n",
       "    }\n",
       "</style>\n",
       "<table border=\"1\" class=\"dataframe\">\n",
       "  <thead>\n",
       "    <tr style=\"text-align: right;\">\n",
       "      <th></th>\n",
       "      <th>Sentenças por documento</th>\n",
       "    </tr>\n",
       "  </thead>\n",
       "  <tbody>\n",
       "    <tr>\n",
       "      <th>count</th>\n",
       "      <td>36264.000000</td>\n",
       "    </tr>\n",
       "    <tr>\n",
       "      <th>mean</th>\n",
       "      <td>76.257059</td>\n",
       "    </tr>\n",
       "    <tr>\n",
       "      <th>std</th>\n",
       "      <td>62.856386</td>\n",
       "    </tr>\n",
       "    <tr>\n",
       "      <th>min</th>\n",
       "      <td>8.000000</td>\n",
       "    </tr>\n",
       "    <tr>\n",
       "      <th>25%</th>\n",
       "      <td>40.000000</td>\n",
       "    </tr>\n",
       "    <tr>\n",
       "      <th>50%</th>\n",
       "      <td>56.000000</td>\n",
       "    </tr>\n",
       "    <tr>\n",
       "      <th>75%</th>\n",
       "      <td>91.000000</td>\n",
       "    </tr>\n",
       "    <tr>\n",
       "      <th>max</th>\n",
       "      <td>1600.000000</td>\n",
       "    </tr>\n",
       "  </tbody>\n",
       "</table>\n",
       "</div>"
      ],
      "text/plain": [
       "       Sentenças por documento\n",
       "count             36264.000000\n",
       "mean                 76.257059\n",
       "std                  62.856386\n",
       "min                   8.000000\n",
       "25%                  40.000000\n",
       "50%                  56.000000\n",
       "75%                  91.000000\n",
       "max                1600.000000"
      ]
     },
     "execution_count": 7,
     "metadata": {},
     "output_type": "execute_result"
    }
   ],
   "source": [
    "# histograma da distribuição de sentenças em escala linear e logarítmica\n",
    "fig, ax = plt.subplots(1, 2, figsize=(13, 5))\n",
    "g_lin = sns.histplot(num_sents_by_doc, bins=20, ax=ax[0])\n",
    "g_lin.set(title='Distribuição do número de sentenças por documento',\n",
    "          xlabel='Sentenças', ylabel='Documentos')\n",
    "g_log = sns.histplot(num_sents_by_doc, bins=20, log_scale=True, ax=ax[1])\n",
    "g_log.set(title='Distribuição do número de sentenças por documento', \n",
    "          xlabel='Sentenças', ylabel='Documentos',\n",
    "          xticks=[10, 30, 100, 300, 1000],\n",
    "          xticklabels=['10', '30', '100', '300', '1000'])\n",
    "plt.show()\n",
    "# estatísticas da distribuição\n",
    "pd.DataFrame(num_sents_by_doc, columns=['Sentenças por documento']).describe()"
   ]
  },
  {
   "cell_type": "code",
   "execution_count": 8,
   "id": "df5ac890",
   "metadata": {},
   "outputs": [
    {
     "name": "stdout",
     "output_type": "stream",
     "text": [
      "204\n",
      "['de', 'a', 'o', 'que', 'e', 'é', 'do', 'da', 'em', 'um', 'para', 'com', 'não', 'uma', 'os', 'no', 'se', 'na', 'por', 'mais', 'as', 'dos', 'como', 'mas', 'ao', 'ele', 'das', 'à', 'seu', 'sua', 'ou', 'quando', 'muito', 'nos', 'já', 'eu', 'também', 'só', 'pelo', 'pela', 'até', 'isso', 'ela', 'entre', 'depois', 'sem', 'mesmo', 'aos', 'seus', 'quem', 'nas', 'me', 'esse', 'eles', 'você', 'essa', 'num', 'nem', 'suas', 'meu', 'às', 'minha', 'numa', 'pelos', 'elas', 'qual', 'nós', 'lhe', 'deles', 'essas', 'esses', 'pelas', 'este', 'dele', 'tu', 'te', 'vocês', 'vos', 'lhes', 'meus', 'minhas', 'teu', 'tua', 'teus', 'tuas', 'nosso', 'nossa', 'nossos', 'nossas', 'dela', 'delas', 'esta', 'estes', 'estas', 'aquele', 'aquela', 'aqueles', 'aquelas', 'isto', 'aquilo', 'estou', 'está', 'estamos', 'estão', 'estive', 'esteve', 'estivemos', 'estiveram', 'estava', 'estávamos', 'estavam', 'estivera', 'estivéramos', 'esteja', 'estejamos', 'estejam', 'estivesse', 'estivéssemos', 'estivessem', 'estiver', 'estivermos', 'estiverem', 'hei', 'há', 'havemos', 'hão', 'houve', 'houvemos', 'houveram', 'houvera', 'houvéramos', 'haja', 'hajamos', 'hajam', 'houvesse', 'houvéssemos', 'houvessem', 'houver', 'houvermos', 'houverem', 'houverei', 'houverá', 'houveremos', 'houverão', 'houveria', 'houveríamos', 'houveriam', 'sou', 'somos', 'são', 'era', 'éramos', 'eram', 'fui', 'foi', 'fomos', 'foram', 'fora', 'fôramos', 'seja', 'sejamos', 'sejam', 'fosse', 'fôssemos', 'fossem', 'for', 'formos', 'forem', 'serei', 'será', 'seremos', 'serão', 'seria', 'seríamos', 'seriam', 'tenho', 'tem', 'temos', 'tém', 'tinha', 'tínhamos', 'tinham', 'tive', 'teve', 'tivemos', 'tiveram', 'tivera', 'tivéramos', 'tenha', 'tenhamos', 'tenham', 'tivesse', 'tivéssemos', 'tivessem', 'tiver', 'tivermos', 'tiverem', 'terei', 'terá', 'teremos', 'terão', 'teria', 'teríamos', 'teriam']\n"
     ]
    }
   ],
   "source": [
    "# stopwords padrão para a lingua portuguesa\n",
    "stopwords = nltk.corpus.stopwords.words('portuguese')\n",
    "print(len(stopwords))\n",
    "print(stopwords)"
   ]
  },
  {
   "cell_type": "code",
   "execution_count": 9,
   "id": "b73f95d3",
   "metadata": {},
   "outputs": [
    {
     "name": "stdout",
     "output_type": "stream",
     "text": [
      "Tokens (não distintos) exceto pontuação: 89723378\n",
      "Tokens (não distintos) exceto pontuação, com 1 caractere e stopwords: 52451994\n",
      "Tokens distintos: 151641\n"
     ]
    }
   ],
   "source": [
    "# converte a relação de tokens em caixa baixa e descarta os de um caractere e as stopwords\n",
    "tokens_no_stop = [token.lower() for tokens in tokens_by_doc for token in tokens\n",
    "                  if len(token) > 1 and not token.lower() in stopwords]\n",
    "# calcula a distribuição de frequência\n",
    "fdist = FreqDist(tokens_no_stop)\n",
    "print('Tokens (não distintos) exceto pontuação:', sum([len(tokens) for tokens in tokens_by_doc]))\n",
    "print('Tokens (não distintos) exceto pontuação, com 1 caractere e stopwords:', len(tokens_no_stop))\n",
    "print('Tokens distintos:', len(fdist))"
   ]
  },
  {
   "cell_type": "code",
   "execution_count": 10,
   "id": "7614c6ec",
   "metadata": {},
   "outputs": [
    {
     "data": {
      "image/png": "[encoded data removed]",
      "text/plain": [
       "<Figure size 777.6x648 with 1 Axes>"
      ]
     },
     "metadata": {
      "needs_background": "light"
     },
     "output_type": "display_data"
    }
   ],
   "source": [
    "# exibe a frequência das palavras mais comuns\n",
    "top = fdist.most_common(50)\n",
    "df = pd.DataFrame(top, columns=['Palavra', 'Frequencia'])\n",
    "g = sns.catplot(x='Frequencia', y='Palavra', data=df, kind='bar', height=9, aspect=1.2)\n",
    "g.set(title='Frequência das palavras mais comuns')\n",
    "plt.show()"
   ]
  },
  {
   "cell_type": "code",
   "execution_count": 11,
   "id": "a73e808b",
   "metadata": {},
   "outputs": [
    {
     "name": "stdout",
     "output_type": "stream",
     "text": [
      "Súmulas sem precedentes no corpus: 94\n",
      "Súmulas com algum precedente no corpus: 64\n"
     ]
    }
   ],
   "source": [
    "# função para obter uma lista de precedentes de súmula disponíveis no corpus,\n",
    "# dado o número da súmula, vazia se não houver\n",
    "def get_precedentes(num_sumula):\n",
    "    df = corpus[corpus['SumulaDerivada'] == num_sumula]\n",
    "    return df['Acordao'].tolist()\n",
    "\n",
    "# para cada súmula vigente, relaciona os respectivos precedentes disponíveis no corpus\n",
    "sumulas = pd.read_csv('datasets/sumulas.csv')\n",
    "precs_by_sumula = dict((key, get_precedentes(key)) for key in sumulas['Sumula'])\n",
    "# identifica as súmulas com e sem precedentes no corpus\n",
    "nenhum_prec = {k: v for k, v in precs_by_sumula.items() if not v}\n",
    "algum_prec = {k: v for k, v in precs_by_sumula.items() if v}\n",
    "print('Súmulas sem precedentes no corpus:', len(nenhum_prec))\n",
    "print('Súmulas com algum precedente no corpus:', len(algum_prec))"
   ]
  },
  {
   "cell_type": "code",
   "execution_count": 12,
   "id": "6abde8f0",
   "metadata": {},
   "outputs": [
    {
     "data": {
      "image/png": "[encoded data removed]",
      "text/plain": [
       "<Figure size 936x360 with 1 Axes>"
      ]
     },
     "metadata": {
      "needs_background": "light"
     },
     "output_type": "display_data"
    },
    {
     "data": {
      "text/html": [
       "<div>\n",
       "<style scoped>\n",
       "    .dataframe tbody tr th:only-of-type {\n",
       "        vertical-align: middle;\n",
       "    }\n",
       "\n",
       "    .dataframe tbody tr th {\n",
       "        vertical-align: top;\n",
       "    }\n",
       "\n",
       "    .dataframe thead th {\n",
       "        text-align: right;\n",
       "    }\n",
       "</style>\n",
       "<table border=\"1\" class=\"dataframe\">\n",
       "  <thead>\n",
       "    <tr style=\"text-align: right;\">\n",
       "      <th></th>\n",
       "      <th>Precedentes por súmula (no corpus)</th>\n",
       "    </tr>\n",
       "  </thead>\n",
       "  <tbody>\n",
       "    <tr>\n",
       "      <th>count</th>\n",
       "      <td>64.000000</td>\n",
       "    </tr>\n",
       "    <tr>\n",
       "      <th>mean</th>\n",
       "      <td>6.265625</td>\n",
       "    </tr>\n",
       "    <tr>\n",
       "      <th>std</th>\n",
       "      <td>4.941699</td>\n",
       "    </tr>\n",
       "    <tr>\n",
       "      <th>min</th>\n",
       "      <td>1.000000</td>\n",
       "    </tr>\n",
       "    <tr>\n",
       "      <th>25%</th>\n",
       "      <td>4.750000</td>\n",
       "    </tr>\n",
       "    <tr>\n",
       "      <th>50%</th>\n",
       "      <td>6.000000</td>\n",
       "    </tr>\n",
       "    <tr>\n",
       "      <th>75%</th>\n",
       "      <td>7.000000</td>\n",
       "    </tr>\n",
       "    <tr>\n",
       "      <th>max</th>\n",
       "      <td>35.000000</td>\n",
       "    </tr>\n",
       "  </tbody>\n",
       "</table>\n",
       "</div>"
      ],
      "text/plain": [
       "       Precedentes por súmula (no corpus)\n",
       "count                           64.000000\n",
       "mean                             6.265625\n",
       "std                              4.941699\n",
       "min                              1.000000\n",
       "25%                              4.750000\n",
       "50%                              6.000000\n",
       "75%                              7.000000\n",
       "max                             35.000000"
      ]
     },
     "execution_count": 12,
     "metadata": {},
     "output_type": "execute_result"
    }
   ],
   "source": [
    "# histograma da distribuição do número de precedentes por súmula (no corpus)\n",
    "num_precs = [len(lista) for lista in precs_by_sumula.values() if lista]\n",
    "fig, ax = plt.subplots(1, 1, figsize=(13, 5))\n",
    "g = sns.histplot(num_precs, discrete=True, ax=ax)\n",
    "g.set(title='Distribuição do número de precedentes por súmula (no corpus)',\n",
    "          xlabel='Precedentes', ylabel='Súmulas')\n",
    "g.grid(axis='y')\n",
    "plt.show()\n",
    "# estatísticas da distribuição\n",
    "pd.DataFrame(num_precs, columns=['Precedentes por súmula (no corpus)']).describe()"
   ]
  }
 ],
 "metadata": {
  "kernelspec": {
   "display_name": "Python 3",
   "language": "python",
   "name": "python3"
  },
  "language_info": {
   "codemirror_mode": {
    "name": "ipython",
    "version": 3
   },
   "file_extension": ".py",
   "mimetype": "text/x-python",
   "name": "python",
   "nbconvert_exporter": "python",
   "pygments_lexer": "ipython3",
   "version": "3.8.8"
  }
 },
 "nbformat": 4,
 "nbformat_minor": 5
}
