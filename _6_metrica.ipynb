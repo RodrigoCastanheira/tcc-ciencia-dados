{
 "cells": [
  {
   "cell_type": "code",
   "execution_count": 1,
   "id": "f4a1a772",
   "metadata": {},
   "outputs": [],
   "source": [
    "# OBJETIVO:\n",
    "# Implementar o cálculo de métricas para aferir o quanto as representações vetoriais\n",
    "# de documentos, produzidas por um modelo treinado, refletem suas similaridades.\n",
    "#\n",
    "# Previamente, um conjunto de N documentos de teste formado por pelo menos dois grupos\n",
    "# de documentos sabidamente similares entre si será submetido ao modelo treinado,\n",
    "# que em resposta fornecerá as representações vetoriais (\"embeddings\") desses documentos\n",
    "# para que delas seja calculada a matriz de similaridade NxN.\n",
    "#\n",
    "# Serão então computadas métricas por dois meios:\n",
    "# 1) média do CG (Cumulative Gain) e do nDCG (Normalized Discounted Cumulative Gain)\n",
    "#    para as p melhores recomendações obtidas para cada documento representado na matriz\n",
    "#    de similaridade, ignorado o próprio, com score binário, ou seja, 1=documento de\n",
    "#    mesmo rótulo, 0=documento de rótulo diferente.\n",
    "# 2) para o desempenho da clusterização da matriz de similidaridade dos documentos,\n",
    "#    utilizando \"spectral clustering\". A premissa é que as representações vetoriais\n",
    "#    serão tão melhores quanto maior for a correspondência entre os clusters obtidos\n",
    "#    e os grupos de documentos sabidamente similares."
   ]
  },
  {
   "cell_type": "code",
   "execution_count": 2,
   "id": "ddf7ac02",
   "metadata": {},
   "outputs": [],
   "source": [
    "import numpy as np\n",
    "import pandas as pd\n",
    "from sklearn import metrics\n",
    "from sklearn.cluster import SpectralClustering"
   ]
  },
  {
   "cell_type": "code",
   "execution_count": 3,
   "id": "d01d4ef2",
   "metadata": {},
   "outputs": [],
   "source": [
    "# função para calcular o CG (Cumulative Gain) na posição 'p' a partir de um array 1D\n",
    "# de relevâncias (inclusive binárias) ordenado, onde o primeiro elemento é o score da\n",
    "# primeira recomendação do modelo.\n",
    "def calc_cg(relevancia, p):\n",
    "    if p < len(relevancia):\n",
    "        relevancia = relevancia[:p]\n",
    "    return sum(relevancia)"
   ]
  },
  {
   "cell_type": "code",
   "execution_count": 4,
   "id": "050a8327",
   "metadata": {},
   "outputs": [],
   "source": [
    "# função para calcular o DCG na posição 'p' a partir de um array 1D de relevâncias (inclusive\n",
    "# binárias) ordenado, onde o primeiro elemento é o score da primeira recomendação do modelo.\n",
    "# utiliza a formulação que penaliza mais fortemente o score quando um documento de maior\n",
    "# relevância é classificado abaixo de outro de menor relevância (equivale à formulação\n",
    "# tradicional quando a relevância é binária).\n",
    "# https://en.wikipedia.org/wiki/Discounted_cumulative_gain\n",
    "def calc_dcg(relevancia, p):\n",
    "    if p < len(relevancia):\n",
    "        relevancia = relevancia[:p]\n",
    "    num = 2**relevancia - 1\n",
    "    den = np.log2(np.arange(len(relevancia)) + 2)\n",
    "    return (num / den).sum()"
   ]
  },
  {
   "cell_type": "code",
   "execution_count": 5,
   "id": "1f08cf3f",
   "metadata": {},
   "outputs": [],
   "source": [
    "# função para calcular o iDCG a partir do número de documentos relevantes esperado\n",
    "# no resultado e do tamanho da lista de recomendações (p), considerando score\n",
    "# binário (1=relevante, 0=não relevante).\n",
    "def calc_idcg(num_relevantes, p):\n",
    "    # array 1D com p zeros\n",
    "    relevancia_ideal = np.zeros(p).astype(int)\n",
    "    # atribui score=1 aos primeiros elementos, tantos quantos forem os relevantes\n",
    "    n = min(num_relevantes, p)\n",
    "    relevancia_ideal[:n] = 1\n",
    "    return calc_dcg(relevancia_ideal, p)"
   ]
  },
  {
   "cell_type": "code",
   "execution_count": 6,
   "id": "24019427",
   "metadata": {},
   "outputs": [],
   "source": [
    "# função para calcular o nDCG na posição 'p' a partir do iDCG e de um array 1D\n",
    "# de relevâncias (inclusive binárias) ordenado, onde o primeiro elemento é o\n",
    "# score da primeira recomendação do modelo\n",
    "def calc_ndcg(relevancia, idcg, p):\n",
    "    return calc_dcg(relevancia, p) / idcg"
   ]
  },
  {
   "cell_type": "code",
   "execution_count": 7,
   "id": "159bef51",
   "metadata": {},
   "outputs": [],
   "source": [
    "# função para calcular a média do CG (Cumulative Gain) e a média do nDCG (Normalized\n",
    "# Discounted Cumulative Gain) para as 'p' melhores recomendações obtidas para cada\n",
    "# documento representado na matriz de similaridade, ignorado o próprio, com score\n",
    "# binário, ou seja, 1=documento de mesmo rótulo, 0=documento de rótulo diferente\n",
    "def calc_ranking_metrics(similarity, labels_true, p):\n",
    "    n = similarity.shape[0]\n",
    "    if len(labels_true) != n:\n",
    "        raise ValueError('Dimensao dos rotulos incompativel com a da matriz de similaridade')\n",
    "    if p > (n - 1):\n",
    "        raise ValueError('Ranking maior do que os possiveis resultados')\n",
    "    sum_ndcg = 0\n",
    "    sum_cg = 0\n",
    "    for i in range(0, n):\n",
    "        # rótulo de doc[i]\n",
    "        label = labels_true[i]\n",
    "        # número de documentos com mesmo rótulo de doc[i]\n",
    "        num_same_label = 0\n",
    "        # lista de tuplas de similaridade entre doc[i] e doc[j], e rótulo de doc[j]\n",
    "        tuples = []\n",
    "        for j in range(0, n):\n",
    "            # ignora o próprio\n",
    "            if i == j:\n",
    "                continue\n",
    "            if labels_true[j] == label:\n",
    "                num_same_label += 1\n",
    "            tuples.append((similarity[i, j], labels_true[j]))\n",
    "        # calcula o idcg\n",
    "        idcg = calc_idcg(num_same_label, p)\n",
    "        # ordena em ordem decrescente de similaridade\n",
    "        ranking = sorted(tuples, reverse=True, key=lambda t:t[0])\n",
    "        # calcula as relevâncias binárias\n",
    "        relevance = [1 if t[1] == label else 0 for t in ranking]\n",
    "        # calcula o CG\n",
    "        cg = calc_cg(np.array(relevance), p)\n",
    "        sum_cg += cg\n",
    "        # calcula o nDCG\n",
    "        ndcg = calc_ndcg(np.array(relevance), idcg, p)\n",
    "        sum_ndcg += ndcg\n",
    "    return sum_cg / n, sum_ndcg / n"
   ]
  },
  {
   "cell_type": "code",
   "execution_count": 8,
   "id": "66719367",
   "metadata": {},
   "outputs": [],
   "source": [
    "# função para a clusterização da matriz de similaridade NxN obtida das\n",
    "# representações vetoriais NxV de N documentos, e para o cálculo de métricas\n",
    "# de desempenho, a partir da lista de rótulos conhecidos de cada documento\n",
    "def calc_cluster_metrics(similarity, labels_true):\n",
    "    if len(labels_true) != similarity.shape[0]:\n",
    "        raise ValueError('Dimensao dos rotulos incompativel com a da matriz de similaridade')\n",
    "    # o número de clusters é o número de rótulos distintos\n",
    "    clusters = len(set(labels_true))\n",
    "    # clusterização com \"spectral clustering\"\n",
    "    sc = SpectralClustering(n_clusters=clusters, assign_labels=\"discretize\", affinity='precomputed')\n",
    "    labels_pred = sc.fit_predict(similarity)\n",
    "    print('Clusters:', clusters)\n",
    "    print('Clustering (ground-truth):')\n",
    "    print(np.array(labels_true))\n",
    "    print('Clustering (predicted):')\n",
    "    print(labels_pred)\n",
    "    print('Homogeneity: %0.3f' % metrics.homogeneity_score(labels_true, labels_pred))\n",
    "    print('Completeness: %0.3f' % metrics.completeness_score(labels_true, labels_pred))\n",
    "    print('V-measure: %0.3f' % metrics.v_measure_score(labels_true, labels_pred))\n",
    "    print('Adjusted Rand Index (ARI): %0.3f' % metrics.adjusted_rand_score(labels_true, labels_pred))\n",
    "    print('Adjusted Mutual Information (AMI): %0.3f' \n",
    "          % metrics.adjusted_mutual_info_score(labels_true, labels_pred))\n",
    "    print('Fowlkes-Mallows Index (FMI): %0.3f'\n",
    "          % metrics.fowlkes_mallows_score(labels_true, labels_pred))\n",
    "    return labels_pred"
   ]
  },
  {
   "cell_type": "code",
   "execution_count": 9,
   "id": "f16da1c9",
   "metadata": {},
   "outputs": [
    {
     "data": {
      "text/html": [
       "<div>\n",
       "<style scoped>\n",
       "    .dataframe tbody tr th:only-of-type {\n",
       "        vertical-align: middle;\n",
       "    }\n",
       "\n",
       "    .dataframe tbody tr th {\n",
       "        vertical-align: top;\n",
       "    }\n",
       "\n",
       "    .dataframe thead th {\n",
       "        text-align: right;\n",
       "    }\n",
       "</style>\n",
       "<table border=\"1\" class=\"dataframe\">\n",
       "  <thead>\n",
       "    <tr style=\"text-align: right;\">\n",
       "      <th></th>\n",
       "      <th>96-A</th>\n",
       "      <th>96-B</th>\n",
       "      <th>113-A</th>\n",
       "      <th>113-B</th>\n",
       "      <th>120-A</th>\n",
       "      <th>120-B</th>\n",
       "    </tr>\n",
       "  </thead>\n",
       "  <tbody>\n",
       "    <tr>\n",
       "      <th>96-A</th>\n",
       "      <td>1</td>\n",
       "      <td>1</td>\n",
       "      <td>0</td>\n",
       "      <td>0</td>\n",
       "      <td>0</td>\n",
       "      <td>0</td>\n",
       "    </tr>\n",
       "    <tr>\n",
       "      <th>96-B</th>\n",
       "      <td>1</td>\n",
       "      <td>1</td>\n",
       "      <td>0</td>\n",
       "      <td>0</td>\n",
       "      <td>0</td>\n",
       "      <td>0</td>\n",
       "    </tr>\n",
       "    <tr>\n",
       "      <th>113-A</th>\n",
       "      <td>0</td>\n",
       "      <td>0</td>\n",
       "      <td>1</td>\n",
       "      <td>1</td>\n",
       "      <td>0</td>\n",
       "      <td>0</td>\n",
       "    </tr>\n",
       "    <tr>\n",
       "      <th>113-B</th>\n",
       "      <td>0</td>\n",
       "      <td>0</td>\n",
       "      <td>1</td>\n",
       "      <td>1</td>\n",
       "      <td>0</td>\n",
       "      <td>0</td>\n",
       "    </tr>\n",
       "    <tr>\n",
       "      <th>120-A</th>\n",
       "      <td>0</td>\n",
       "      <td>0</td>\n",
       "      <td>0</td>\n",
       "      <td>0</td>\n",
       "      <td>1</td>\n",
       "      <td>1</td>\n",
       "    </tr>\n",
       "    <tr>\n",
       "      <th>120-B</th>\n",
       "      <td>0</td>\n",
       "      <td>0</td>\n",
       "      <td>0</td>\n",
       "      <td>0</td>\n",
       "      <td>1</td>\n",
       "      <td>1</td>\n",
       "    </tr>\n",
       "  </tbody>\n",
       "</table>\n",
       "</div>"
      ],
      "text/plain": [
       "       96-A  96-B  113-A  113-B  120-A  120-B\n",
       "96-A      1     1      0      0      0      0\n",
       "96-B      1     1      0      0      0      0\n",
       "113-A     0     0      1      1      0      0\n",
       "113-B     0     0      1      1      0      0\n",
       "120-A     0     0      0      0      1      1\n",
       "120-B     0     0      0      0      1      1"
      ]
     },
     "execution_count": 9,
     "metadata": {},
     "output_type": "execute_result"
    }
   ],
   "source": [
    "# Exemplo - modelo ideal:\n",
    "similarity = np.array([[1,1,0,0,0,0],[1,1,0,0,0,0],[0,0,1,1,0,0],[0,0,1,1,0,0],[0,0,0,0,1,1],[0,0,0,0,1,1]])\n",
    "cols = ['96-A','96-B','113-A','113-B','120-A','120-B']\n",
    "pd.DataFrame(data=similarity, index=cols, columns=cols)"
   ]
  },
  {
   "cell_type": "code",
   "execution_count": 10,
   "id": "050b1519",
   "metadata": {},
   "outputs": [
    {
     "name": "stdout",
     "output_type": "stream",
     "text": [
      "CG médio: 1.000\n",
      "nDCG médio: 1.000\n",
      "Clusters: 3\n",
      "Clustering (ground-truth):\n",
      "[ 96  96 113 113 120 120]\n",
      "Clustering (predicted):\n",
      "[2 2 0 0 1 1]\n",
      "Homogeneity: 1.000\n",
      "Completeness: 1.000\n",
      "V-measure: 1.000\n",
      "Adjusted Rand Index (ARI): 1.000\n",
      "Adjusted Mutual Information (AMI): 1.000\n",
      "Fowlkes-Mallows Index (FMI): 1.000\n"
     ]
    },
    {
     "name": "stderr",
     "output_type": "stream",
     "text": [
      "C:\\Users\\76360784653\\Anaconda3\\lib\\site-packages\\sklearn\\manifold\\_spectral_embedding.py:245: UserWarning: Graph is not fully connected, spectral embedding may not work as expected.\n",
      "  warnings.warn(\"Graph is not fully connected, spectral embedding\"\n"
     ]
    },
    {
     "data": {
      "text/plain": [
       "array([2, 2, 0, 0, 1, 1], dtype=int64)"
      ]
     },
     "execution_count": 10,
     "metadata": {},
     "output_type": "execute_result"
    }
   ],
   "source": [
    "# Exemplo - modelo ideal (continuação):\n",
    "labels_true = np.array([96, 96, 113, 113, 120, 120])\n",
    "mean_cg, mean_ndcg = calc_ranking_metrics(similarity, labels_true, 3)\n",
    "print('CG médio: %0.3f' % mean_cg)\n",
    "print('nDCG médio: %0.3f' % mean_ndcg)\n",
    "calc_cluster_metrics(similarity, labels_true)"
   ]
  },
  {
   "cell_type": "code",
   "execution_count": 11,
   "id": "476bd9e1",
   "metadata": {},
   "outputs": [
    {
     "data": {
      "text/html": [
       "<div>\n",
       "<style scoped>\n",
       "    .dataframe tbody tr th:only-of-type {\n",
       "        vertical-align: middle;\n",
       "    }\n",
       "\n",
       "    .dataframe tbody tr th {\n",
       "        vertical-align: top;\n",
       "    }\n",
       "\n",
       "    .dataframe thead th {\n",
       "        text-align: right;\n",
       "    }\n",
       "</style>\n",
       "<table border=\"1\" class=\"dataframe\">\n",
       "  <thead>\n",
       "    <tr style=\"text-align: right;\">\n",
       "      <th></th>\n",
       "      <th>96-A</th>\n",
       "      <th>96-B</th>\n",
       "      <th>113-A</th>\n",
       "      <th>113-B</th>\n",
       "      <th>120-A</th>\n",
       "      <th>120-B</th>\n",
       "    </tr>\n",
       "  </thead>\n",
       "  <tbody>\n",
       "    <tr>\n",
       "      <th>96-A</th>\n",
       "      <td>1.0</td>\n",
       "      <td>0.3</td>\n",
       "      <td>0.7</td>\n",
       "      <td>0.6</td>\n",
       "      <td>0.1</td>\n",
       "      <td>0.1</td>\n",
       "    </tr>\n",
       "    <tr>\n",
       "      <th>96-B</th>\n",
       "      <td>0.3</td>\n",
       "      <td>1.0</td>\n",
       "      <td>0.1</td>\n",
       "      <td>0.1</td>\n",
       "      <td>0.1</td>\n",
       "      <td>0.1</td>\n",
       "    </tr>\n",
       "    <tr>\n",
       "      <th>113-A</th>\n",
       "      <td>0.7</td>\n",
       "      <td>0.1</td>\n",
       "      <td>1.0</td>\n",
       "      <td>1.0</td>\n",
       "      <td>0.1</td>\n",
       "      <td>0.1</td>\n",
       "    </tr>\n",
       "    <tr>\n",
       "      <th>113-B</th>\n",
       "      <td>0.6</td>\n",
       "      <td>0.1</td>\n",
       "      <td>1.0</td>\n",
       "      <td>1.0</td>\n",
       "      <td>0.1</td>\n",
       "      <td>0.1</td>\n",
       "    </tr>\n",
       "    <tr>\n",
       "      <th>120-A</th>\n",
       "      <td>0.1</td>\n",
       "      <td>0.1</td>\n",
       "      <td>0.1</td>\n",
       "      <td>0.1</td>\n",
       "      <td>1.0</td>\n",
       "      <td>1.0</td>\n",
       "    </tr>\n",
       "    <tr>\n",
       "      <th>120-B</th>\n",
       "      <td>0.1</td>\n",
       "      <td>0.1</td>\n",
       "      <td>0.1</td>\n",
       "      <td>0.1</td>\n",
       "      <td>1.0</td>\n",
       "      <td>1.0</td>\n",
       "    </tr>\n",
       "  </tbody>\n",
       "</table>\n",
       "</div>"
      ],
      "text/plain": [
       "       96-A  96-B  113-A  113-B  120-A  120-B\n",
       "96-A    1.0   0.3    0.7    0.6    0.1    0.1\n",
       "96-B    0.3   1.0    0.1    0.1    0.1    0.1\n",
       "113-A   0.7   0.1    1.0    1.0    0.1    0.1\n",
       "113-B   0.6   0.1    1.0    1.0    0.1    0.1\n",
       "120-A   0.1   0.1    0.1    0.1    1.0    1.0\n",
       "120-B   0.1   0.1    0.1    0.1    1.0    1.0"
      ]
     },
     "execution_count": 11,
     "metadata": {},
     "output_type": "execute_result"
    }
   ],
   "source": [
    "# Exemplo - modelo real:\n",
    "similarity = np.array([[1.0, 0.3, 0.7, 0.6, 0.1, 0.1],\n",
    "                       [0.3, 1.0, 0.1, 0.1, 0.1, 0.1],\n",
    "                       [0.7, 0.1, 1.0, 1.0, 0.1, 0.1],\n",
    "                       [0.6, 0.1, 1.0, 1.0, 0.1, 0.1],\n",
    "                       [0.1, 0.1, 0.1, 0.1, 1.0, 1.0],\n",
    "                       [0.1, 0.1, 0.1, 0.1 ,1.0, 1.0]])\n",
    "pd.DataFrame(data=similarity, index=cols, columns=cols)"
   ]
  },
  {
   "cell_type": "code",
   "execution_count": 12,
   "id": "ba10b549",
   "metadata": {},
   "outputs": [
    {
     "name": "stdout",
     "output_type": "stream",
     "text": [
      "CG médio: 1.000\n",
      "nDCG médio: 0.917\n",
      "Clusters: 3\n",
      "Clustering (ground-truth):\n",
      "[ 96  96 113 113 120 120]\n",
      "Clustering (predicted):\n",
      "[1 0 1 1 2 2]\n",
      "Homogeneity: 0.710\n",
      "Completeness: 0.772\n",
      "V-measure: 0.740\n",
      "Adjusted Rand Index (ARI): 0.444\n",
      "Adjusted Mutual Information (AMI): 0.502\n",
      "Fowlkes-Mallows Index (FMI): 0.577\n"
     ]
    },
    {
     "data": {
      "text/plain": [
       "array([1, 0, 1, 1, 2, 2], dtype=int64)"
      ]
     },
     "execution_count": 12,
     "metadata": {},
     "output_type": "execute_result"
    }
   ],
   "source": [
    "mean_cg, mean_ndcg = calc_ranking_metrics(similarity, labels_true, 3)\n",
    "print('CG médio: %0.3f' % mean_cg)\n",
    "print('nDCG médio: %0.3f' % mean_ndcg)\n",
    "calc_cluster_metrics(similarity, labels_true)"
   ]
  }
 ],
 "metadata": {
  "kernelspec": {
   "display_name": "Python 3",
   "language": "python",
   "name": "python3"
  },
  "language_info": {
   "codemirror_mode": {
    "name": "ipython",
    "version": 3
   },
   "file_extension": ".py",
   "mimetype": "text/x-python",
   "name": "python",
   "nbconvert_exporter": "python",
   "pygments_lexer": "ipython3",
   "version": "3.8.8"
  }
 },
 "nbformat": 4,
 "nbformat_minor": 5
}
